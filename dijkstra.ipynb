{
 "cells": [
  {
   "cell_type": "markdown",
   "id": "06325325",
   "metadata": {},
   "source": [
    "# Algoritimo: Dijkstra"
   ]
  },
  {
   "cell_type": "code",
   "execution_count": null,
   "id": "43ac8093",
   "metadata": {},
   "outputs": [],
   "source": [
    "%pip install matplotlib\n",
    "%pip install networkx"
   ]
  },
  {
   "cell_type": "code",
   "execution_count": 85,
   "id": "55f43fb2",
   "metadata": {},
   "outputs": [],
   "source": [
    "import networkx as nx\n",
    "import matplotlib.pyplot as plt\n",
    "import random\n",
    "import heapq\n",
    "import time"
   ]
  },
  {
   "cell_type": "markdown",
   "id": "33c71179",
   "metadata": {},
   "source": [
    "## Algoritimo"
   ]
  },
  {
   "cell_type": "code",
   "execution_count": 86,
   "id": "2e44d539",
   "metadata": {},
   "outputs": [],
   "source": [
    "\n",
    "def dijkstra(graph: nx.Graph, start: str):\n",
    "    distances = {node: float('inf') for node in graph.nodes}\n",
    "    distances[start] = 0\n",
    "    previous = {node: None for node in graph.nodes}\n",
    "    \n",
    "    heap = [(0, start)]\n",
    "\n",
    "    while heap:\n",
    "        current_distance, current_node = heapq.heappop(heap)\n",
    "\n",
    "        if current_distance > distances[current_node]:\n",
    "            continue\n",
    "\n",
    "        for neighbor in graph.neighbors(current_node):\n",
    "            weight = graph[current_node][neighbor].get('weight', 1)\n",
    "            distance = current_distance + weight\n",
    "            if distance < distances[neighbor]:\n",
    "                distances[neighbor] = distance\n",
    "                previous[neighbor] = current_node\n",
    "                heapq.heappush(heap, (distance, neighbor))\n",
    "\n",
    "    return distances, previous\n",
    "\n",
    "def get_path(previous, target):\n",
    "    path = []\n",
    "    while target is not None:\n",
    "        path.append(target)\n",
    "        target = previous[target]\n",
    "    return path[::-1]"
   ]
  },
  {
   "cell_type": "markdown",
   "id": "5810bd16",
   "metadata": {},
   "source": [
    "### funções auxiliares"
   ]
  },
  {
   "cell_type": "code",
   "execution_count": 87,
   "id": "833c4448",
   "metadata": {},
   "outputs": [],
   "source": [
    "def create_graph(nodes_quantity : int):\n",
    "    graph = nx.Graph()\n",
    "    graph.add_nodes_from(range(1, nodes_quantity + 1))\n",
    "\n",
    "    edges = []\n",
    "    for i in range(1, nodes_quantity + 1):\n",
    "        predecessor = i - 1 if i > 1 else nodes_quantity\n",
    "        successor = i + 1 if i < nodes_quantity else 1\n",
    "\n",
    "        # Escolhe um nó aleatório diferente de i, predecessor e successor\n",
    "        while True:\n",
    "            random_node = random.randint(1, nodes_quantity)\n",
    "            if random_node not in {i, predecessor, successor}:\n",
    "                break\n",
    "\n",
    "        edges.append((i, predecessor))\n",
    "        edges.append((i, successor))\n",
    "        edges.append((i, random_node))\n",
    "\n",
    "    graph.add_edges_from(edges)\n",
    "    return graph\n"
   ]
  },
  {
   "cell_type": "markdown",
   "id": "3ddb2b38",
   "metadata": {},
   "source": [
    "## Pequeno"
   ]
  },
  {
   "cell_type": "code",
   "execution_count": 88,
   "id": "ac79961c",
   "metadata": {},
   "outputs": [],
   "source": [
    "NODES_p = 1000\n",
    "\n",
    "Grafo_p = create_graph(NODES_p)\n",
    "\n",
    "if NODES_p <= 100:\n",
    "    pos = nx.spring_layout(Grafo_p)\n",
    "    nx.draw(Grafo_p, pos, with_labels=True, node_color='skyblue', edge_color='gray', node_size=1500, font_size=16)\n",
    "    plt.title(\"Grafo Exemplo\")\n",
    "    plt.show()"
   ]
  },
  {
   "cell_type": "code",
   "execution_count": 89,
   "id": "d0f5bc67",
   "metadata": {},
   "outputs": [
    {
     "name": "stdout",
     "output_type": "stream",
     "text": [
      "tempo da 1º execução: 0.005920 segundos\n",
      "tempo da 2º execução: 0.008647 segundos\n",
      "tempo da 3º execução: 0.009470 segundos\n",
      "tempo da 4º execução: 0.010262 segundos\n",
      "tempo da 5º execução: 0.007550 segundos\n",
      "tempo da 6º execução: 0.007040 segundos\n",
      "tempo da 7º execução: 0.004998 segundos\n",
      "tempo da 8º execução: 0.006338 segundos\n",
      "tempo da 9º execução: 0.004725 segundos\n",
      "tempo da 10º execução: 0.004899 segundos\n",
      "tempo da 11º execução: 0.004853 segundos\n",
      "tempo da 12º execução: 0.006435 segundos\n",
      "tempo da 13º execução: 0.007350 segundos\n",
      "tempo da 14º execução: 0.005282 segundos\n",
      "tempo da 15º execução: 0.004805 segundos\n",
      "tempo da 16º execução: 0.006130 segundos\n",
      "tempo da 17º execução: 0.005553 segundos\n",
      "tempo da 18º execução: 0.004508 segundos\n",
      "tempo da 19º execução: 0.004930 segundos\n",
      "tempo da 20º execução: 0.006674 segundos\n",
      "tempo da 21º execução: 0.004394 segundos\n",
      "tempo da 22º execução: 0.004645 segundos\n",
      "tempo da 23º execução: 0.005678 segundos\n",
      "tempo da 24º execução: 0.004487 segundos\n",
      "tempo da 25º execução: 0.004262 segundos\n",
      "tempo da 26º execução: 0.004721 segundos\n",
      "tempo da 27º execução: 0.005156 segundos\n",
      "tempo da 28º execução: 0.004373 segundos\n",
      "tempo da 29º execução: 0.004794 segundos\n",
      "tempo da 30º execução: 0.005022 segundos\n"
     ]
    }
   ],
   "source": [
    "\n",
    "execution_times = []\n",
    "for i in range(1, 31):\n",
    "    start_time = time.time()\n",
    "    distancias, predecessores = dijkstra(Grafo_p, 1)\n",
    "    # Mostrar resultados:\n",
    "    for destino in Grafo_p.nodes:\n",
    "        caminho = str(get_path(predecessores, destino))\n",
    "        # print(f\"distancia da origem até {destino}: {distancias[destino]}\")\n",
    "    duration = time.time() - start_time\n",
    "    print(f\"tempo da {i}º execução: {duration:.6f} segundos\")\n",
    "    execution_times.append(duration)\n"
   ]
  },
  {
   "cell_type": "code",
   "execution_count": 90,
   "id": "1fea8d99",
   "metadata": {},
   "outputs": [
    {
     "name": "stdout",
     "output_type": "stream",
     "text": [
      "\n",
      "Resultados:\n",
      "tempo médio: 0.005797 segundos\n",
      "tempo máximo: 0.010262 segundos\n",
      "tempo mínimo: 0.004262 segundos\n",
      "tempo total: 0.173901 segundos\n",
      "desvio padrão: 0.000002 segundos\n"
     ]
    }
   ],
   "source": [
    "print(\"\\nResultados:\")\n",
    "print(f\"tempo médio: {sum(execution_times) / len(execution_times):.6f} segundos\")\n",
    "print(f\"tempo máximo: {max(execution_times):.6f} segundos\")\n",
    "print(f\"tempo mínimo: {min(execution_times):.6f} segundos\")\n",
    "print(f\"tempo total: {sum(execution_times):.6f} segundos\")\n",
    "print(f\"desvio padrão: {sum((x - (sum(execution_times) / len(execution_times))) ** 2 for x in execution_times) / len(execution_times):.6f} segundos\")"
   ]
  },
  {
   "cell_type": "markdown",
   "id": "c0445caf",
   "metadata": {},
   "source": [
    "## Medio"
   ]
  },
  {
   "cell_type": "code",
   "execution_count": 91,
   "id": "4859cfde",
   "metadata": {},
   "outputs": [],
   "source": [
    "NODES_m = 10000\n",
    "\n",
    "Grafo_m = create_graph(NODES_m)\n",
    "\n",
    "if NODES_m <= 100:\n",
    "    pos = nx.spring_layout(Grafo_m)\n",
    "    nx.draw(Grafo_m, pos, with_labels=True, node_color='skyblue', edge_color='gray', node_size=1500, font_size=16)\n",
    "    plt.title(\"Grafo Exemplo\")\n",
    "    plt.show()"
   ]
  },
  {
   "cell_type": "code",
   "execution_count": 92,
   "id": "8473fedb",
   "metadata": {},
   "outputs": [
    {
     "name": "stdout",
     "output_type": "stream",
     "text": [
      "tempo da 1º execução: 0.007642 segundos\n",
      "tempo da 2º execução: 0.014633 segundos\n",
      "tempo da 3º execução: 0.008071 segundos\n",
      "tempo da 4º execução: 0.007231 segundos\n",
      "tempo da 5º execução: 0.006876 segundos\n",
      "tempo da 6º execução: 0.005705 segundos\n",
      "tempo da 7º execução: 0.004692 segundos\n",
      "tempo da 8º execução: 0.004417 segundos\n",
      "tempo da 9º execução: 0.004587 segundos\n",
      "tempo da 10º execução: 0.004865 segundos\n",
      "tempo da 11º execução: 0.004599 segundos\n",
      "tempo da 12º execução: 0.005036 segundos\n",
      "tempo da 13º execução: 0.005219 segundos\n",
      "tempo da 14º execução: 0.006025 segundos\n",
      "tempo da 15º execução: 0.007895 segundos\n",
      "tempo da 16º execução: 0.005622 segundos\n",
      "tempo da 17º execução: 0.005311 segundos\n",
      "tempo da 18º execução: 0.005082 segundos\n",
      "tempo da 19º execução: 0.005151 segundos\n",
      "tempo da 20º execução: 0.005114 segundos\n",
      "tempo da 21º execução: 0.006541 segundos\n",
      "tempo da 22º execução: 0.005335 segundos\n",
      "tempo da 23º execução: 0.004648 segundos\n",
      "tempo da 24º execução: 0.004621 segundos\n",
      "tempo da 25º execução: 0.004646 segundos\n",
      "tempo da 26º execução: 0.004687 segundos\n",
      "tempo da 27º execução: 0.005155 segundos\n",
      "tempo da 28º execução: 0.005805 segundos\n",
      "tempo da 29º execução: 0.004602 segundos\n",
      "tempo da 30º execução: 0.004519 segundos\n"
     ]
    }
   ],
   "source": [
    "execution_times = []\n",
    "for i in range(1, 31):\n",
    "    start_time = time.time()\n",
    "    distancias, predecessores = dijkstra(Grafo_p, 1)\n",
    "    # Mostrar resultados:\n",
    "    for destino in Grafo_p.nodes:\n",
    "        caminho = str(get_path(predecessores, destino))\n",
    "        # print(f\"distancia da origem até {destino}: {distancias[destino]}\")\n",
    "    duration = time.time() - start_time\n",
    "    print(f\"tempo da {i}º execução: {duration:.6f} segundos\")\n",
    "    execution_times.append(duration)\n"
   ]
  },
  {
   "cell_type": "code",
   "execution_count": 93,
   "id": "86cdbd7a",
   "metadata": {},
   "outputs": [
    {
     "name": "stdout",
     "output_type": "stream",
     "text": [
      "\n",
      "Resultados:\n",
      "tempo médio: 0.005811 segundos\n",
      "tempo máximo: 0.014633 segundos\n",
      "tempo mínimo: 0.004417 segundos\n",
      "tempo total: 0.174331 segundos\n",
      "desvio padrão: 0.000004 segundos\n"
     ]
    }
   ],
   "source": [
    "print(\"\\nResultados:\")\n",
    "print(f\"tempo médio: {sum(execution_times) / len(execution_times):.6f} segundos\")\n",
    "print(f\"tempo máximo: {max(execution_times):.6f} segundos\")\n",
    "print(f\"tempo mínimo: {min(execution_times):.6f} segundos\")\n",
    "print(f\"tempo total: {sum(execution_times):.6f} segundos\")\n",
    "print(f\"desvio padrão: {sum((x - (sum(execution_times) / len(execution_times))) ** 2 for x in execution_times) / len(execution_times):.6f} segundos\")"
   ]
  },
  {
   "cell_type": "markdown",
   "id": "4a54e482",
   "metadata": {},
   "source": [
    "## Grande"
   ]
  },
  {
   "cell_type": "code",
   "execution_count": 94,
   "id": "aa360928",
   "metadata": {},
   "outputs": [],
   "source": [
    "NODES_g = 100000\n",
    "\n",
    "Grafo_g = create_graph(NODES_g)\n",
    "\n",
    "if NODES_g <= 100:\n",
    "    pos = nx.spring_layout(Grafo_g)\n",
    "    nx.draw(Grafo_g, pos, with_labels=True, node_color='skyblue', edge_color='gray', node_size=1500, font_size=16)\n",
    "    plt.title(\"Grafo Exemplo\")\n",
    "    plt.show()"
   ]
  },
  {
   "cell_type": "code",
   "execution_count": 95,
   "id": "45d2b445",
   "metadata": {},
   "outputs": [
    {
     "name": "stdout",
     "output_type": "stream",
     "text": [
      "tempo da 1º execução: 0.969930 segundos\n",
      "tempo da 2º execução: 0.840132 segundos\n",
      "tempo da 3º execução: 0.863487 segundos\n",
      "tempo da 4º execução: 0.873641 segundos\n",
      "tempo da 5º execução: 0.838687 segundos\n",
      "tempo da 6º execução: 0.833946 segundos\n",
      "tempo da 7º execução: 0.813090 segundos\n",
      "tempo da 8º execução: 0.835732 segundos\n",
      "tempo da 9º execução: 0.847663 segundos\n",
      "tempo da 10º execução: 0.850778 segundos\n",
      "tempo da 11º execução: 0.849443 segundos\n",
      "tempo da 12º execução: 0.814695 segundos\n",
      "tempo da 13º execução: 0.817462 segundos\n",
      "tempo da 14º execução: 0.829880 segundos\n",
      "tempo da 15º execução: 0.931752 segundos\n",
      "tempo da 16º execução: 0.893566 segundos\n",
      "tempo da 17º execução: 1.050871 segundos\n",
      "tempo da 18º execução: 0.888118 segundos\n",
      "tempo da 19º execução: 0.880794 segundos\n",
      "tempo da 20º execução: 0.927069 segundos\n",
      "tempo da 21º execução: 0.866644 segundos\n",
      "tempo da 22º execução: 0.900771 segundos\n",
      "tempo da 23º execução: 0.850418 segundos\n",
      "tempo da 24º execução: 0.846376 segundos\n",
      "tempo da 25º execução: 0.848692 segundos\n",
      "tempo da 26º execução: 0.954430 segundos\n",
      "tempo da 27º execução: 0.948674 segundos\n",
      "tempo da 28º execução: 0.946836 segundos\n",
      "tempo da 29º execução: 1.258666 segundos\n",
      "tempo da 30º execução: 0.845836 segundos\n"
     ]
    }
   ],
   "source": [
    "execution_times = []\n",
    "for i in range(1, 31):\n",
    "    start_time = time.time()\n",
    "    distancias, predecessores = dijkstra(Grafo_g, 1)\n",
    "    # Mostrar resultados:\n",
    "    for destino in Grafo_g.nodes:\n",
    "        caminho = str(get_path(predecessores, destino))\n",
    "        # print(f\"distancia da origem até {destino}: {distancias[destino]}\")\n",
    "    duration = time.time() - start_time\n",
    "    print(f\"tempo da {i}º execução: {duration:.6f} segundos\")\n",
    "    execution_times.append(duration)\n"
   ]
  },
  {
   "cell_type": "code",
   "execution_count": 75,
   "id": "db15077a",
   "metadata": {},
   "outputs": [
    {
     "name": "stdout",
     "output_type": "stream",
     "text": [
      "\n",
      "Resultados:\n",
      "tempo médio: 0.923074 segundos\n",
      "tempo máximo: 1.052622 segundos\n",
      "tempo mínimo: 0.842937 segundos\n",
      "tempo total: 27.692216 segundos\n",
      "desvio padrão: 0.002769 segundos\n"
     ]
    }
   ],
   "source": [
    "print(\"\\nResultados:\")\n",
    "print(f\"tempo médio: {sum(execution_times) / len(execution_times):.6f} segundos\")\n",
    "print(f\"tempo máximo: {max(execution_times):.6f} segundos\")\n",
    "print(f\"tempo mínimo: {min(execution_times):.6f} segundos\")\n",
    "print(f\"tempo total: {sum(execution_times):.6f} segundos\")\n",
    "print(f\"desvio padrão: {sum((x - (sum(execution_times) / len(execution_times))) ** 2 for x in execution_times) / len(execution_times):.6f} segundos\")"
   ]
  }
 ],
 "metadata": {
  "kernelspec": {
   "display_name": "venv",
   "language": "python",
   "name": "python3"
  },
  "language_info": {
   "codemirror_mode": {
    "name": "ipython",
    "version": 3
   },
   "file_extension": ".py",
   "mimetype": "text/x-python",
   "name": "python",
   "nbconvert_exporter": "python",
   "pygments_lexer": "ipython3",
   "version": "3.10.12"
  }
 },
 "nbformat": 4,
 "nbformat_minor": 5
}
