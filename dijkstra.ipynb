{
 "cells": [
  {
   "cell_type": "markdown",
   "id": "06325325",
   "metadata": {},
   "source": [
    "# Algoritimo: Dijkstra"
   ]
  },
  {
   "cell_type": "code",
   "execution_count": null,
   "id": "43ac8093",
   "metadata": {},
   "outputs": [],
   "source": [
    "%pip install matplotlib\n",
    "%pip install networkx"
   ]
  },
  {
   "cell_type": "code",
   "execution_count": null,
   "id": "55f43fb2",
   "metadata": {},
   "outputs": [],
   "source": [
    "import networkx as nx\n",
    "import matplotlib.pyplot as plt\n",
    "import random\n",
    "import heapq\n",
    "import time"
   ]
  },
  {
   "cell_type": "markdown",
   "id": "33c71179",
   "metadata": {},
   "source": [
    "## Algoritimo"
   ]
  },
  {
   "cell_type": "code",
   "execution_count": 35,
   "id": "2e44d539",
   "metadata": {},
   "outputs": [],
   "source": [
    "\n",
    "def dijkstra(graph: nx.Graph, start: str):\n",
    "    distances = {node: float('inf') for node in graph.nodes}\n",
    "    distances[start] = 0\n",
    "    previous = {node: None for node in graph.nodes}\n",
    "    \n",
    "    heap = [(0, start)]\n",
    "\n",
    "    while heap:\n",
    "        current_distance, current_node = heapq.heappop(heap)\n",
    "\n",
    "        if current_distance > distances[current_node]:\n",
    "            continue\n",
    "\n",
    "        for neighbor in graph.neighbors(current_node):\n",
    "            weight = graph[current_node][neighbor].get('weight', 1)\n",
    "            distance = current_distance + weight\n",
    "            if distance < distances[neighbor]:\n",
    "                distances[neighbor] = distance\n",
    "                previous[neighbor] = current_node\n",
    "                heapq.heappush(heap, (distance, neighbor))\n",
    "\n",
    "    return distances, previous\n",
    "\n",
    "def get_path(previous, target):\n",
    "    path = []\n",
    "    while target is not None:\n",
    "        path.append(target)\n",
    "        target = previous[target]\n",
    "    return path[::-1]"
   ]
  },
  {
   "cell_type": "markdown",
   "id": "3ddb2b38",
   "metadata": {},
   "source": [
    "## Pequeno"
   ]
  },
  {
   "cell_type": "code",
   "execution_count": 76,
   "id": "ac79961c",
   "metadata": {},
   "outputs": [],
   "source": [
    "NODES_p = 1000\n",
    "Grafo_p = nx.Graph()\n",
    "Grafo_p.add_nodes_from(range(1, NODES_p + 1))\n",
    "\n",
    "edges = []\n",
    "for i in range(1, NODES_p + 1):\n",
    "    predecessor = i - 1 if i > 1 else NODES_p\n",
    "    successor = i + 1 if i < NODES_p else 1\n",
    "\n",
    "    # Escolhe um nó aleatório diferente de i, predecessor e successor\n",
    "    while True:\n",
    "        random_node = random.randint(1, NODES_p)\n",
    "        if random_node not in {i, predecessor, successor}:\n",
    "            break\n",
    "\n",
    "    edges.append((i, predecessor))\n",
    "    edges.append((i, successor))\n",
    "    edges.append((i, random_node))\n",
    "\n",
    "Grafo_p.add_edges_from(edges)\n",
    "\n",
    "if NODES_p <= 100:\n",
    "    pos = nx.spring_layout(Grafo_p)\n",
    "    nx.draw(Grafo_p, pos, with_labels=True, node_color='skyblue', edge_color='gray', node_size=1500, font_size=16)\n",
    "    plt.title(\"Grafo Exemplo\")\n",
    "    plt.show()"
   ]
  },
  {
   "cell_type": "code",
   "execution_count": 77,
   "id": "d0f5bc67",
   "metadata": {},
   "outputs": [
    {
     "name": "stdout",
     "output_type": "stream",
     "text": [
      "tempo da 1º execução: 0.012618 segundos\n",
      "tempo da 2º execução: 0.007939 segundos\n",
      "tempo da 3º execução: 0.007564 segundos\n",
      "tempo da 4º execução: 0.006644 segundos\n",
      "tempo da 5º execução: 0.006915 segundos\n",
      "tempo da 6º execução: 0.006838 segundos\n",
      "tempo da 7º execução: 0.004947 segundos\n",
      "tempo da 8º execução: 0.005939 segundos\n",
      "tempo da 9º execução: 0.006021 segundos\n",
      "tempo da 10º execução: 0.006284 segundos\n",
      "tempo da 11º execução: 0.004967 segundos\n",
      "tempo da 12º execução: 0.004677 segundos\n",
      "tempo da 13º execução: 0.004788 segundos\n",
      "tempo da 14º execução: 0.006390 segundos\n",
      "tempo da 15º execução: 0.005924 segundos\n",
      "tempo da 16º execução: 0.005464 segundos\n",
      "tempo da 17º execução: 0.007530 segundos\n",
      "tempo da 18º execução: 0.006421 segundos\n",
      "tempo da 19º execução: 0.006944 segundos\n",
      "tempo da 20º execução: 0.006765 segundos\n",
      "tempo da 21º execução: 0.006107 segundos\n",
      "tempo da 22º execução: 0.005915 segundos\n",
      "tempo da 23º execução: 0.008425 segundos\n",
      "tempo da 24º execução: 0.006332 segundos\n",
      "tempo da 25º execução: 0.005571 segundos\n",
      "tempo da 26º execução: 0.006290 segundos\n",
      "tempo da 27º execução: 0.008045 segundos\n",
      "tempo da 28º execução: 0.005421 segundos\n",
      "tempo da 29º execução: 0.006678 segundos\n",
      "tempo da 30º execução: 0.006890 segundos\n"
     ]
    }
   ],
   "source": [
    "execution_times = []\n",
    "for i in range(1, 31):\n",
    "    start_time = time.time()\n",
    "    distancias, predecessores = dijkstra(Grafo_p, 1)\n",
    "    # Mostrar resultados:\n",
    "    for destino in Grafo_p.nodes:\n",
    "        caminho = str(get_path(predecessores, destino))\n",
    "        # print(f\"distancia da origem até {destino}: {distancias[destino]}\")\n",
    "    duration = time.time() - start_time\n",
    "    print(f\"tempo da {i}º execução: {duration:.6f} segundos\")\n",
    "    execution_times.append(duration)\n",
    "\n",
    "\n"
   ]
  },
  {
   "cell_type": "code",
   "execution_count": 78,
   "id": "1fea8d99",
   "metadata": {},
   "outputs": [
    {
     "name": "stdout",
     "output_type": "stream",
     "text": [
      "\n",
      "Resultados:\n",
      "tempo médio: 0.006575 segundos\n",
      "tempo máximo: 0.012618 segundos\n",
      "tempo mínimo: 0.004677 segundos\n",
      "tempo total: 0.197253 segundos\n",
      "desvio padrão: 0.000002 segundos\n"
     ]
    }
   ],
   "source": [
    "print(\"\\nResultados:\")\n",
    "print(f\"tempo médio: {sum(execution_times) / len(execution_times):.6f} segundos\")\n",
    "print(f\"tempo máximo: {max(execution_times):.6f} segundos\")\n",
    "print(f\"tempo mínimo: {min(execution_times):.6f} segundos\")\n",
    "print(f\"tempo total: {sum(execution_times):.6f} segundos\")\n",
    "print(f\"desvio padrão: {sum((x - (sum(execution_times) / len(execution_times))) ** 2 for x in execution_times) / len(execution_times):.6f} segundos\")"
   ]
  },
  {
   "cell_type": "markdown",
   "id": "c0445caf",
   "metadata": {},
   "source": [
    "## Medio"
   ]
  },
  {
   "cell_type": "code",
   "execution_count": null,
   "id": "4859cfde",
   "metadata": {},
   "outputs": [],
   "source": [
    "NODES_m = 10000\n",
    "Grafo_m = nx.Graph()\n",
    "Grafo_m.add_nodes_from(range(1, NODES_m + 1))\n",
    "\n",
    "edges = []\n",
    "for i in range(1, NODES_m + 1):\n",
    "    predecessor = i - 1 if i > 1 else NODES_m\n",
    "    successor = i + 1 if i < NODES_m else 1\n",
    "\n",
    "    # Escolhe um nó aleatório diferente de i, predecessor e successor\n",
    "    while True:\n",
    "        random_node = random.randint(1, NODES_m)\n",
    "        if random_node not in {i, predecessor, successor}:\n",
    "            break\n",
    "\n",
    "    edges.append((i, predecessor))\n",
    "    edges.append((i, successor))\n",
    "    edges.append((i, random_node))\n",
    "\n",
    "Grafo_m.add_edges_from(edges)\n",
    "\n",
    "if NODES_m <= 100:\n",
    "    pos = nx.spring_layout(Grafo_m)\n",
    "    nx.draw(Grafo_m, pos, with_labels=True, node_color='skyblue', edge_color='gray', node_size=1500, font_size=16)\n",
    "    plt.title(\"Grafo Exemplo\")\n",
    "    plt.show()"
   ]
  },
  {
   "cell_type": "code",
   "execution_count": 79,
   "id": "8473fedb",
   "metadata": {},
   "outputs": [
    {
     "name": "stdout",
     "output_type": "stream",
     "text": [
      "tempo da 1º execução: 0.009135 segundos\n",
      "tempo da 2º execução: 0.007971 segundos\n",
      "tempo da 3º execução: 0.008213 segundos\n",
      "tempo da 4º execução: 0.004848 segundos\n",
      "tempo da 5º execução: 0.004869 segundos\n",
      "tempo da 6º execução: 0.004555 segundos\n",
      "tempo da 7º execução: 0.004438 segundos\n",
      "tempo da 8º execução: 0.005595 segundos\n",
      "tempo da 9º execução: 0.005395 segundos\n",
      "tempo da 10º execução: 0.004620 segundos\n",
      "tempo da 11º execução: 0.006330 segundos\n",
      "tempo da 12º execução: 0.006006 segundos\n",
      "tempo da 13º execução: 0.006196 segundos\n",
      "tempo da 14º execução: 0.005176 segundos\n",
      "tempo da 15º execução: 0.005864 segundos\n",
      "tempo da 16º execução: 0.006699 segundos\n",
      "tempo da 17º execução: 0.006693 segundos\n",
      "tempo da 18º execução: 0.006219 segundos\n",
      "tempo da 19º execução: 0.006148 segundos\n",
      "tempo da 20º execução: 0.004821 segundos\n",
      "tempo da 21º execução: 0.004560 segundos\n",
      "tempo da 22º execução: 0.005038 segundos\n",
      "tempo da 23º execução: 0.005077 segundos\n",
      "tempo da 24º execução: 0.004884 segundos\n",
      "tempo da 25º execução: 0.004425 segundos\n",
      "tempo da 26º execução: 0.004650 segundos\n",
      "tempo da 27º execução: 0.004887 segundos\n",
      "tempo da 28º execução: 0.004748 segundos\n",
      "tempo da 29º execução: 0.004393 segundos\n",
      "tempo da 30º execução: 0.004849 segundos\n"
     ]
    }
   ],
   "source": [
    "execution_times = []\n",
    "for i in range(1, 31):\n",
    "    start_time = time.time()\n",
    "    distancias, predecessores = dijkstra(Grafo_p, 1)\n",
    "    # Mostrar resultados:\n",
    "    for destino in Grafo_p.nodes:\n",
    "        caminho = str(get_path(predecessores, destino))\n",
    "        # print(f\"distancia da origem até {destino}: {distancias[destino]}\")\n",
    "    duration = time.time() - start_time\n",
    "    print(f\"tempo da {i}º execução: {duration:.6f} segundos\")\n",
    "    execution_times.append(duration)\n"
   ]
  },
  {
   "cell_type": "code",
   "execution_count": 80,
   "id": "86cdbd7a",
   "metadata": {},
   "outputs": [
    {
     "name": "stdout",
     "output_type": "stream",
     "text": [
      "\n",
      "Resultados:\n",
      "tempo médio: 0.005577 segundos\n",
      "tempo máximo: 0.009135 segundos\n",
      "tempo mínimo: 0.004393 segundos\n",
      "tempo total: 0.167303 segundos\n",
      "desvio padrão: 0.000001 segundos\n"
     ]
    }
   ],
   "source": [
    "print(\"\\nResultados:\")\n",
    "print(f\"tempo médio: {sum(execution_times) / len(execution_times):.6f} segundos\")\n",
    "print(f\"tempo máximo: {max(execution_times):.6f} segundos\")\n",
    "print(f\"tempo mínimo: {min(execution_times):.6f} segundos\")\n",
    "print(f\"tempo total: {sum(execution_times):.6f} segundos\")\n",
    "print(f\"desvio padrão: {sum((x - (sum(execution_times) / len(execution_times))) ** 2 for x in execution_times) / len(execution_times):.6f} segundos\")"
   ]
  },
  {
   "cell_type": "markdown",
   "id": "4a54e482",
   "metadata": {},
   "source": [
    "## Grande"
   ]
  },
  {
   "cell_type": "code",
   "execution_count": 72,
   "id": "aa360928",
   "metadata": {},
   "outputs": [],
   "source": [
    "NODES_g = 100000\n",
    "Grafo_g = nx.Graph()\n",
    "Grafo_g.add_nodes_from(range(1, NODES_g + 1))\n",
    "\n",
    "edges = []\n",
    "for i in range(1, NODES_g + 1):\n",
    "    predecessor = i - 1 if i > 1 else NODES_g\n",
    "    successor = i + 1 if i < NODES_g else 1\n",
    "\n",
    "    # Escolhe um nó aleatório diferente de i, predecessor e successor\n",
    "    while True:\n",
    "        random_node = random.randint(1, NODES_g)\n",
    "        if random_node not in {i, predecessor, successor}:\n",
    "            break\n",
    "\n",
    "    edges.append((i, predecessor))\n",
    "    edges.append((i, successor))\n",
    "    edges.append((i, random_node))\n",
    "\n",
    "Grafo_g.add_edges_from(edges)\n",
    "\n",
    "if NODES_g <= 100:\n",
    "    pos = nx.spring_layout(Grafo_g)\n",
    "    nx.draw(Grafo_g, pos, with_labels=True, node_color='skyblue', edge_color='gray', node_size=1500, font_size=16)\n",
    "    plt.title(\"Grafo Exemplo\")\n",
    "    plt.show()"
   ]
  },
  {
   "cell_type": "code",
   "execution_count": null,
   "id": "45d2b445",
   "metadata": {},
   "outputs": [
    {
     "name": "stdout",
     "output_type": "stream",
     "text": [
      "tempo da 1º execução: 0.972523 segundos\n",
      "tempo da 2º execução: 1.003816 segundos\n",
      "tempo da 3º execução: 0.977938 segundos\n",
      "tempo da 4º execução: 0.889065 segundos\n",
      "tempo da 5º execução: 0.895061 segundos\n",
      "tempo da 6º execução: 0.916938 segundos\n",
      "tempo da 7º execução: 0.984069 segundos\n",
      "tempo da 8º execução: 0.940758 segundos\n",
      "tempo da 9º execução: 0.963308 segundos\n",
      "tempo da 10º execução: 0.910832 segundos\n",
      "tempo da 11º execução: 0.923867 segundos\n",
      "tempo da 12º execução: 1.052622 segundos\n",
      "tempo da 13º execução: 0.967629 segundos\n",
      "tempo da 14º execução: 0.958412 segundos\n",
      "tempo da 15º execução: 0.912526 segundos\n",
      "tempo da 16º execução: 0.885298 segundos\n",
      "tempo da 17º execução: 0.851329 segundos\n",
      "tempo da 18º execução: 0.906713 segundos\n",
      "tempo da 19º execução: 0.946428 segundos\n",
      "tempo da 20º execução: 1.007500 segundos\n",
      "tempo da 21º execução: 0.913377 segundos\n",
      "tempo da 22º execução: 0.889861 segundos\n",
      "tempo da 23º execução: 0.962112 segundos\n",
      "tempo da 24º execução: 0.902456 segundos\n",
      "tempo da 25º execução: 0.842937 segundos\n",
      "tempo da 26º execução: 0.886590 segundos\n",
      "tempo da 27º execução: 0.872730 segundos\n",
      "tempo da 28º execução: 0.851984 segundos\n",
      "tempo da 29º execução: 0.848322 segundos\n",
      "tempo da 30º execução: 0.855215 segundos\n"
     ]
    }
   ],
   "source": [
    "execution_times = []\n",
    "for i in range(1, 31):\n",
    "    start_time = time.time()\n",
    "    distancias, predecessores = dijkstra(Grafo_g, 1)\n",
    "    # Mostrar resultados:\n",
    "    for destino in Grafo_g.nodes:\n",
    "        caminho = str(get_path(predecessores, destino))\n",
    "        # print(f\"distancia da origem até {destino}: {distancias[destino]}\")\n",
    "    duration = time.time() - start_time\n",
    "    print(f\"tempo da {i}º execução: {duration:.6f} segundos\")\n",
    "    execution_times.append(duration)\n"
   ]
  },
  {
   "cell_type": "code",
   "execution_count": 75,
   "id": "db15077a",
   "metadata": {},
   "outputs": [
    {
     "name": "stdout",
     "output_type": "stream",
     "text": [
      "\n",
      "Resultados:\n",
      "tempo médio: 0.923074 segundos\n",
      "tempo máximo: 1.052622 segundos\n",
      "tempo mínimo: 0.842937 segundos\n",
      "tempo total: 27.692216 segundos\n",
      "desvio padrão: 0.002769 segundos\n"
     ]
    }
   ],
   "source": [
    "print(\"\\nResultados:\")\n",
    "print(f\"tempo médio: {sum(execution_times) / len(execution_times):.6f} segundos\")\n",
    "print(f\"tempo máximo: {max(execution_times):.6f} segundos\")\n",
    "print(f\"tempo mínimo: {min(execution_times):.6f} segundos\")\n",
    "print(f\"tempo total: {sum(execution_times):.6f} segundos\")\n",
    "print(f\"desvio padrão: {sum((x - (sum(execution_times) / len(execution_times))) ** 2 for x in execution_times) / len(execution_times):.6f} segundos\")"
   ]
  }
 ],
 "metadata": {
  "kernelspec": {
   "display_name": "venv",
   "language": "python",
   "name": "python3"
  },
  "language_info": {
   "codemirror_mode": {
    "name": "ipython",
    "version": 3
   },
   "file_extension": ".py",
   "mimetype": "text/x-python",
   "name": "python",
   "nbconvert_exporter": "python",
   "pygments_lexer": "ipython3",
   "version": "3.10.12"
  }
 },
 "nbformat": 4,
 "nbformat_minor": 5
}
