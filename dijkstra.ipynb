{
 "cells": [
  {
   "cell_type": "markdown",
   "id": "06325325",
   "metadata": {},
   "source": [
    "# Algoritimo: Dijkstra"
   ]
  },
  {
   "cell_type": "code",
   "execution_count": 14,
   "id": "43ac8093",
   "metadata": {},
   "outputs": [
    {
     "name": "stdout",
     "output_type": "stream",
     "text": [
      "Requirement already satisfied: matplotlib in c:\\users\\gabri\\onedrive\\área de trabalho\\gabriel\\dijkstra-projeto-teoria\\.venv\\lib\\site-packages (3.10.3)\n",
      "Requirement already satisfied: contourpy>=1.0.1 in c:\\users\\gabri\\onedrive\\área de trabalho\\gabriel\\dijkstra-projeto-teoria\\.venv\\lib\\site-packages (from matplotlib) (1.3.2)\n",
      "Requirement already satisfied: cycler>=0.10 in c:\\users\\gabri\\onedrive\\área de trabalho\\gabriel\\dijkstra-projeto-teoria\\.venv\\lib\\site-packages (from matplotlib) (0.12.1)\n",
      "Requirement already satisfied: fonttools>=4.22.0 in c:\\users\\gabri\\onedrive\\área de trabalho\\gabriel\\dijkstra-projeto-teoria\\.venv\\lib\\site-packages (from matplotlib) (4.58.0)\n",
      "Requirement already satisfied: kiwisolver>=1.3.1 in c:\\users\\gabri\\onedrive\\área de trabalho\\gabriel\\dijkstra-projeto-teoria\\.venv\\lib\\site-packages (from matplotlib) (1.4.8)\n",
      "Requirement already satisfied: numpy>=1.23 in c:\\users\\gabri\\onedrive\\área de trabalho\\gabriel\\dijkstra-projeto-teoria\\.venv\\lib\\site-packages (from matplotlib) (2.2.6)\n",
      "Requirement already satisfied: packaging>=20.0 in c:\\users\\gabri\\onedrive\\área de trabalho\\gabriel\\dijkstra-projeto-teoria\\.venv\\lib\\site-packages (from matplotlib) (25.0)\n",
      "Requirement already satisfied: pillow>=8 in c:\\users\\gabri\\onedrive\\área de trabalho\\gabriel\\dijkstra-projeto-teoria\\.venv\\lib\\site-packages (from matplotlib) (11.2.1)\n",
      "Requirement already satisfied: pyparsing>=2.3.1 in c:\\users\\gabri\\onedrive\\área de trabalho\\gabriel\\dijkstra-projeto-teoria\\.venv\\lib\\site-packages (from matplotlib) (3.2.3)\n",
      "Requirement already satisfied: python-dateutil>=2.7 in c:\\users\\gabri\\onedrive\\área de trabalho\\gabriel\\dijkstra-projeto-teoria\\.venv\\lib\\site-packages (from matplotlib) (2.9.0.post0)\n",
      "Requirement already satisfied: six>=1.5 in c:\\users\\gabri\\onedrive\\área de trabalho\\gabriel\\dijkstra-projeto-teoria\\.venv\\lib\\site-packages (from python-dateutil>=2.7->matplotlib) (1.17.0)\n",
      "Note: you may need to restart the kernel to use updated packages.\n",
      "Requirement already satisfied: networkx in c:\\users\\gabri\\onedrive\\área de trabalho\\gabriel\\dijkstra-projeto-teoria\\.venv\\lib\\site-packages (3.4.2)\n",
      "Note: you may need to restart the kernel to use updated packages.\n"
     ]
    }
   ],
   "source": [
    "%pip install matplotlib\n",
    "%pip install networkx"
   ]
  },
  {
   "cell_type": "code",
   "execution_count": 15,
   "id": "55f43fb2",
   "metadata": {},
   "outputs": [],
   "source": [
    "import networkx as nx\n",
    "import matplotlib.pyplot as plt\n",
    "import random\n",
    "import heapq\n",
    "import time"
   ]
  },
  {
   "cell_type": "markdown",
   "id": "33c71179",
   "metadata": {},
   "source": [
    "## Algoritimo"
   ]
  },
  {
   "cell_type": "code",
   "execution_count": 16,
   "id": "2e44d539",
   "metadata": {},
   "outputs": [],
   "source": [
    "\n",
    "def dijkstra(graph: nx.Graph, start: str):\n",
    "    distances = {node: float('inf') for node in graph.nodes}\n",
    "    distances[start] = 0\n",
    "    previous = {node: None for node in graph.nodes}\n",
    "    \n",
    "    heap = [(0, start)]\n",
    "\n",
    "    while heap:\n",
    "        current_distance, current_node = heapq.heappop(heap)\n",
    "\n",
    "        if current_distance > distances[current_node]:\n",
    "            continue\n",
    "\n",
    "        for neighbor in graph.neighbors(current_node):\n",
    "            weight = graph[current_node][neighbor].get('weight', 1)\n",
    "            distance = current_distance + weight\n",
    "            if distance < distances[neighbor]:\n",
    "                distances[neighbor] = distance\n",
    "                previous[neighbor] = current_node\n",
    "                heapq.heappush(heap, (distance, neighbor))\n",
    "\n",
    "    return distances, previous\n",
    "\n",
    "def get_path(previous, target):\n",
    "    path = []\n",
    "    while target is not None:\n",
    "        path.append(target)\n",
    "        target = previous[target]\n",
    "    return path[::-1]"
   ]
  },
  {
   "cell_type": "markdown",
   "id": "5810bd16",
   "metadata": {},
   "source": [
    "### funções auxiliares"
   ]
  },
  {
   "cell_type": "code",
   "execution_count": 17,
   "id": "833c4448",
   "metadata": {},
   "outputs": [],
   "source": [
    "def create_graph(nodes_quantity : int):\n",
    "    graph = nx.Graph()\n",
    "    graph.add_nodes_from(range(1, nodes_quantity + 1))\n",
    "\n",
    "    edges = []\n",
    "    for i in range(1, nodes_quantity + 1):\n",
    "        predecessor = i - 1 if i > 1 else nodes_quantity\n",
    "        successor = i + 1 if i < nodes_quantity else 1\n",
    "\n",
    "        # Escolhe um nó aleatório diferente de i, predecessor e successor\n",
    "        while True:\n",
    "            random_node = random.randint(1, nodes_quantity)\n",
    "            if random_node not in {i, predecessor, successor}:\n",
    "                break\n",
    "\n",
    "        edges.append((i, predecessor))\n",
    "        edges.append((i, successor))\n",
    "        edges.append((i, random_node))\n",
    "\n",
    "    graph.add_edges_from(edges)\n",
    "    return graph\n"
   ]
  },
  {
   "cell_type": "markdown",
   "id": "3ddb2b38",
   "metadata": {},
   "source": [
    "## Pequeno"
   ]
  },
  {
   "cell_type": "code",
   "execution_count": 18,
   "id": "ac79961c",
   "metadata": {},
   "outputs": [],
   "source": [
    "NODES_p = 1000\n",
    "\n",
    "Grafo_p = create_graph(NODES_p)\n",
    "\n",
    "if NODES_p <= 100:\n",
    "    pos = nx.spring_layout(Grafo_p)\n",
    "    nx.draw(Grafo_p, pos, with_labels=True, node_color='skyblue', edge_color='gray', node_size=1500, font_size=16)\n",
    "    plt.title(\"Grafo Exemplo\")\n",
    "    plt.show()"
   ]
  },
  {
   "cell_type": "code",
   "execution_count": 19,
   "id": "d0f5bc67",
   "metadata": {},
   "outputs": [
    {
     "name": "stdout",
     "output_type": "stream",
     "text": [
      "tempo da 1º execução: 0.023674 segundos"
     ]
    },
    {
     "name": "stdout",
     "output_type": "stream",
     "text": [
      "\n",
      "tempo da 2º execução: 0.013249 segundos\n",
      "tempo da 3º execução: 0.013992 segundos\n",
      "tempo da 4º execução: 0.013881 segundos\n",
      "tempo da 5º execução: 0.015423 segundos\n",
      "tempo da 6º execução: 0.010493 segundos\n",
      "tempo da 7º execução: 0.009681 segundos\n",
      "tempo da 8º execução: 0.012940 segundos\n",
      "tempo da 9º execução: 0.008844 segundos\n",
      "tempo da 10º execução: 0.008440 segundos\n",
      "tempo da 11º execução: 0.010921 segundos\n",
      "tempo da 12º execução: 0.017558 segundos\n",
      "tempo da 13º execução: 0.009534 segundos\n",
      "tempo da 14º execução: 0.012187 segundos\n",
      "tempo da 15º execução: 0.013583 segundos\n",
      "tempo da 16º execução: 0.009947 segundos\n",
      "tempo da 17º execução: 0.016323 segundos\n",
      "tempo da 18º execução: 0.012818 segundos\n",
      "tempo da 19º execução: 0.010103 segundos\n",
      "tempo da 20º execução: 0.013422 segundos\n",
      "tempo da 21º execução: 0.007917 segundos\n",
      "tempo da 22º execução: 0.011385 segundos\n",
      "tempo da 23º execução: 0.008917 segundos\n",
      "tempo da 24º execução: 0.007067 segundos\n",
      "tempo da 25º execução: 0.010901 segundos\n",
      "tempo da 26º execução: 0.007915 segundos\n",
      "tempo da 27º execução: 0.008318 segundos\n",
      "tempo da 28º execução: 0.010045 segundos\n",
      "tempo da 29º execução: 0.005691 segundos\n",
      "tempo da 30º execução: 0.009179 segundos\n"
     ]
    }
   ],
   "source": [
    "\n",
    "execution_times = []\n",
    "for i in range(1, 31):\n",
    "    start_time = time.time()\n",
    "    distancias, predecessores = dijkstra(Grafo_p, 1)\n",
    "    # Mostrar resultados:\n",
    "    for destino in Grafo_p.nodes:\n",
    "        caminho = str(get_path(predecessores, destino))\n",
    "        # print(f\"distancia da origem até {destino}: {distancias[destino]}\")\n",
    "    duration = time.time() - start_time\n",
    "    print(f\"tempo da {i}º execução: {duration:.6f} segundos\")\n",
    "    execution_times.append(duration)\n"
   ]
  },
  {
   "cell_type": "code",
   "execution_count": 20,
   "id": "1fea8d99",
   "metadata": {},
   "outputs": [
    {
     "name": "stdout",
     "output_type": "stream",
     "text": [
      "\n",
      "Resultados:\n",
      "tempo médio: 0.011478 segundos\n",
      "tempo máximo: 0.023674 segundos\n",
      "tempo mínimo: 0.005691 segundos\n",
      "tempo total: 0.344348 segundos\n",
      "desvio padrão: 0.000013 segundos\n"
     ]
    }
   ],
   "source": [
    "print(\"\\nResultados:\")\n",
    "print(f\"tempo médio: {sum(execution_times) / len(execution_times):.6f} segundos\")\n",
    "print(f\"tempo máximo: {max(execution_times):.6f} segundos\")\n",
    "print(f\"tempo mínimo: {min(execution_times):.6f} segundos\")\n",
    "print(f\"tempo total: {sum(execution_times):.6f} segundos\")\n",
    "print(f\"desvio padrão: {sum((x - (sum(execution_times) / len(execution_times))) ** 2 for x in execution_times) / len(execution_times):.6f} segundos\")"
   ]
  },
  {
   "cell_type": "markdown",
   "id": "c0445caf",
   "metadata": {},
   "source": [
    "## Medio"
   ]
  },
  {
   "cell_type": "code",
   "execution_count": 21,
   "id": "4859cfde",
   "metadata": {},
   "outputs": [],
   "source": [
    "NODES_m = 10000\n",
    "\n",
    "Grafo_m = create_graph(NODES_m)\n",
    "\n",
    "if NODES_m <= 100:\n",
    "    pos = nx.spring_layout(Grafo_m)\n",
    "    nx.draw(Grafo_m, pos, with_labels=True, node_color='skyblue', edge_color='gray', node_size=1500, font_size=16)\n",
    "    plt.title(\"Grafo Exemplo\")\n",
    "    plt.show()"
   ]
  },
  {
   "cell_type": "code",
   "execution_count": 22,
   "id": "8473fedb",
   "metadata": {},
   "outputs": [
    {
     "name": "stdout",
     "output_type": "stream",
     "text": [
      "tempo da 1º execução: 0.028018 segundos\n",
      "tempo da 2º execução: 0.033165 segundos\n",
      "tempo da 3º execução: 0.022665 segundos\n",
      "tempo da 4º execução: 0.023318 segundos\n",
      "tempo da 5º execução: 0.021621 segundos\n",
      "tempo da 6º execução: 0.027794 segundos\n",
      "tempo da 7º execução: 0.017795 segundos\n",
      "tempo da 8º execução: 0.023793 segundos\n",
      "tempo da 9º execução: 0.018846 segundos\n",
      "tempo da 10º execução: 0.019599 segundos\n",
      "tempo da 11º execução: 0.020723 segundos\n",
      "tempo da 12º execução: 0.017522 segundos\n",
      "tempo da 13º execução: 0.031047 segundos\n",
      "tempo da 14º execução: 0.017820 segundos\n",
      "tempo da 15º execução: 0.025146 segundos\n",
      "tempo da 16º execução: 0.022283 segundos\n",
      "tempo da 17º execução: 0.024716 segundos\n",
      "tempo da 18º execução: 0.022478 segundos\n",
      "tempo da 19º execução: 0.018364 segundos\n",
      "tempo da 20º execução: 0.025908 segundos\n",
      "tempo da 21º execução: 0.021986 segundos\n",
      "tempo da 22º execução: 0.017673 segundos\n",
      "tempo da 23º execução: 0.023321 segundos\n",
      "tempo da 24º execução: 0.023926 segundos\n",
      "tempo da 25º execução: 0.007341 segundos\n",
      "tempo da 26º execução: 0.015433 segundos\n",
      "tempo da 27º execução: 0.012137 segundos\n",
      "tempo da 28º execução: 0.011003 segundos\n",
      "tempo da 29º execução: 0.015221 segundos\n",
      "tempo da 30º execução: 0.015267 segundos\n"
     ]
    }
   ],
   "source": [
    "execution_times = []\n",
    "for i in range(1, 31):\n",
    "    start_time = time.time()\n",
    "    distancias, predecessores = dijkstra(Grafo_p, 1)\n",
    "    # Mostrar resultados:\n",
    "    for destino in Grafo_p.nodes:\n",
    "        caminho = str(get_path(predecessores, destino))\n",
    "        # print(f\"distancia da origem até {destino}: {distancias[destino]}\")\n",
    "    duration = time.time() - start_time\n",
    "    print(f\"tempo da {i}º execução: {duration:.6f} segundos\")\n",
    "    execution_times.append(duration)\n"
   ]
  },
  {
   "cell_type": "code",
   "execution_count": 23,
   "id": "86cdbd7a",
   "metadata": {},
   "outputs": [
    {
     "name": "stdout",
     "output_type": "stream",
     "text": [
      "\n",
      "Resultados:\n",
      "tempo médio: 0.020864 segundos\n",
      "tempo máximo: 0.033165 segundos\n",
      "tempo mínimo: 0.007341 segundos\n",
      "tempo total: 0.625928 segundos\n",
      "desvio padrão: 0.000032 segundos\n"
     ]
    }
   ],
   "source": [
    "print(\"\\nResultados:\")\n",
    "print(f\"tempo médio: {sum(execution_times) / len(execution_times):.6f} segundos\")\n",
    "print(f\"tempo máximo: {max(execution_times):.6f} segundos\")\n",
    "print(f\"tempo mínimo: {min(execution_times):.6f} segundos\")\n",
    "print(f\"tempo total: {sum(execution_times):.6f} segundos\")\n",
    "print(f\"desvio padrão: {sum((x - (sum(execution_times) / len(execution_times))) ** 2 for x in execution_times) / len(execution_times):.6f} segundos\")"
   ]
  },
  {
   "cell_type": "markdown",
   "id": "4a54e482",
   "metadata": {},
   "source": [
    "## Grande"
   ]
  },
  {
   "cell_type": "code",
   "execution_count": 24,
   "id": "aa360928",
   "metadata": {},
   "outputs": [],
   "source": [
    "NODES_g = 100000\n",
    "\n",
    "Grafo_g = create_graph(NODES_g)\n",
    "\n",
    "if NODES_g <= 100:\n",
    "    pos = nx.spring_layout(Grafo_g)\n",
    "    nx.draw(Grafo_g, pos, with_labels=True, node_color='skyblue', edge_color='gray', node_size=1500, font_size=16)\n",
    "    plt.title(\"Grafo Exemplo\")\n",
    "    plt.show()"
   ]
  },
  {
   "cell_type": "code",
   "execution_count": 25,
   "id": "45d2b445",
   "metadata": {},
   "outputs": [
    {
     "name": "stdout",
     "output_type": "stream",
     "text": [
      "tempo da 1º execução: 2.128677 segundos\n",
      "tempo da 2º execução: 2.062331 segundos\n",
      "tempo da 3º execução: 2.235867 segundos\n",
      "tempo da 4º execução: 2.184099 segundos\n",
      "tempo da 5º execução: 2.126897 segundos\n",
      "tempo da 6º execução: 1.688291 segundos\n",
      "tempo da 7º execução: 1.799855 segundos\n",
      "tempo da 8º execução: 1.699256 segundos\n",
      "tempo da 9º execução: 1.764088 segundos\n",
      "tempo da 10º execução: 2.265408 segundos\n",
      "tempo da 11º execução: 2.130701 segundos\n",
      "tempo da 12º execução: 2.017754 segundos\n",
      "tempo da 13º execução: 1.723868 segundos\n",
      "tempo da 14º execução: 2.091327 segundos\n",
      "tempo da 15º execução: 2.266480 segundos\n",
      "tempo da 16º execução: 1.746147 segundos\n",
      "tempo da 17º execução: 1.876055 segundos\n",
      "tempo da 18º execução: 1.598776 segundos\n",
      "tempo da 19º execução: 1.530685 segundos\n",
      "tempo da 20º execução: 2.644851 segundos\n",
      "tempo da 21º execução: 1.594599 segundos\n",
      "tempo da 22º execução: 1.541436 segundos\n",
      "tempo da 23º execução: 1.592420 segundos\n",
      "tempo da 24º execução: 1.870875 segundos\n",
      "tempo da 25º execução: 1.563629 segundos\n",
      "tempo da 26º execução: 2.117169 segundos\n",
      "tempo da 27º execução: 2.048445 segundos\n",
      "tempo da 28º execução: 1.506159 segundos\n",
      "tempo da 29º execução: 1.734555 segundos\n",
      "tempo da 30º execução: 2.499731 segundos\n"
     ]
    }
   ],
   "source": [
    "execution_times = []\n",
    "for i in range(1, 31):\n",
    "    start_time = time.time()\n",
    "    distancias, predecessores = dijkstra(Grafo_g, 1)\n",
    "    # Mostrar resultados:\n",
    "    for destino in Grafo_g.nodes:\n",
    "        caminho = str(get_path(predecessores, destino))\n",
    "        # print(f\"distancia da origem até {destino}: {distancias[destino]}\")\n",
    "    duration = time.time() - start_time\n",
    "    print(f\"tempo da {i}º execução: {duration:.6f} segundos\")\n",
    "    execution_times.append(duration)\n"
   ]
  },
  {
   "cell_type": "code",
   "execution_count": 26,
   "id": "db15077a",
   "metadata": {},
   "outputs": [
    {
     "name": "stdout",
     "output_type": "stream",
     "text": [
      "\n",
      "Resultados:\n",
      "tempo médio: 1.921681 segundos\n",
      "tempo máximo: 2.644851 segundos\n",
      "tempo mínimo: 1.506159 segundos\n",
      "tempo total: 57.650431 segundos\n",
      "desvio padrão: 0.089123 segundos\n"
     ]
    }
   ],
   "source": [
    "print(\"\\nResultados:\")\n",
    "print(f\"tempo médio: {sum(execution_times) / len(execution_times):.6f} segundos\")\n",
    "print(f\"tempo máximo: {max(execution_times):.6f} segundos\")\n",
    "print(f\"tempo mínimo: {min(execution_times):.6f} segundos\")\n",
    "print(f\"tempo total: {sum(execution_times):.6f} segundos\")\n",
    "print(f\"desvio padrão: {sum((x - (sum(execution_times) / len(execution_times))) ** 2 for x in execution_times) / len(execution_times):.6f} segundos\")"
   ]
  }
 ],
 "metadata": {
  "kernelspec": {
   "display_name": "venv",
   "language": "python",
   "name": "python3"
  },
  "language_info": {
   "codemirror_mode": {
    "name": "ipython",
    "version": 3
   },
   "file_extension": ".py",
   "mimetype": "text/x-python",
   "name": "python",
   "nbconvert_exporter": "python",
   "pygments_lexer": "ipython3",
   "version": "3.10.12"
  }
 },
 "nbformat": 4,
 "nbformat_minor": 5
}
