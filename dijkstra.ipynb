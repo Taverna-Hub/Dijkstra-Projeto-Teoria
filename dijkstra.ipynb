{
 "cells": [
  {
   "cell_type": "markdown",
   "id": "06325325",
   "metadata": {},
   "source": [
    "# Algoritimo: Dijkstra"
   ]
  },
  {
   "cell_type": "code",
   "execution_count": null,
   "id": "43ac8093",
   "metadata": {},
   "outputs": [],
   "source": [
    "%pip install matplotlib\n",
    "%pip install networkx"
   ]
  },
  {
   "cell_type": "code",
   "execution_count": 1,
   "id": "55f43fb2",
   "metadata": {},
   "outputs": [],
   "source": [
    "from networkx.readwrite import json_graph\n",
    "import json\n",
    "import networkx as nx\n",
    "import matplotlib.pyplot as plt\n",
    "import random\n",
    "import heapq\n",
    "import time"
   ]
  },
  {
   "cell_type": "markdown",
   "id": "33c71179",
   "metadata": {},
   "source": [
    "## Algoritimo"
   ]
  },
  {
   "cell_type": "code",
   "execution_count": 2,
   "id": "2e44d539",
   "metadata": {},
   "outputs": [],
   "source": [
    "\n",
    "def dijkstra(graph: nx.Graph, start: str):\n",
    "    distances = {node: float('inf') for node in graph.nodes}\n",
    "    distances[start] = 0\n",
    "    previous = {node: None for node in graph.nodes}\n",
    "    \n",
    "    heap = [(0, start)]\n",
    "\n",
    "    while heap:\n",
    "        current_distance, current_node = heapq.heappop(heap)\n",
    "\n",
    "        if current_distance > distances[current_node]:\n",
    "            continue\n",
    "\n",
    "        for neighbor in graph.neighbors(current_node):\n",
    "            weight = graph[current_node][neighbor].get('weight', 1)\n",
    "            distance = current_distance + weight\n",
    "            if distance < distances[neighbor]:\n",
    "                distances[neighbor] = distance\n",
    "                previous[neighbor] = current_node\n",
    "                heapq.heappush(heap, (distance, neighbor))\n",
    "\n",
    "    return distances, previous\n",
    "\n",
    "def get_path(previous, target):\n",
    "    path = []\n",
    "    while target is not None:\n",
    "        path.append(target)\n",
    "        target = previous[target]\n",
    "    return path[::-1]"
   ]
  },
  {
   "cell_type": "markdown",
   "id": "5810bd16",
   "metadata": {},
   "source": [
    "### funções auxiliares"
   ]
  },
  {
   "cell_type": "code",
   "execution_count": 3,
   "id": "833c4448",
   "metadata": {},
   "outputs": [],
   "source": [
    "def json_to_graph(filename):\n",
    "    with open(filename, 'r') as f:\n",
    "        data = json.load(f)\n",
    "    # Para compatibilidade futura, defina edges=\"links\" explicitamente\n",
    "    G = json_graph.node_link_graph(data, edges=\"links\")\n",
    "    return G"
   ]
  },
  {
   "cell_type": "code",
   "execution_count": 9,
   "id": "2bed9b1c",
   "metadata": {},
   "outputs": [],
   "source": [
    "def print_results(execution_times):# Resultados formatados\n",
    "    print(\"\\nResultados:\")\n",
    "    print(f\"Tempo médio:   {sum(execution_times) / len(execution_times):.6f} segundos\")\n",
    "    print(f\"Tempo máximo:  {max(execution_times):.6f} segundos\")\n",
    "    print(f\"Tempo mínimo:  {min(execution_times):.6f} segundos\")\n",
    "    print(f\"Tempo total:   {sum(execution_times):.6f} segundos\")\n",
    "    media = sum(execution_times) / len(execution_times)\n",
    "    desvio = (sum((x - media) ** 2 for x in execution_times) / len(execution_times)) ** 0.5\n",
    "    print(f\"Desvio padrão: {desvio:.6f} segundos\")"
   ]
  },
  {
   "cell_type": "markdown",
   "id": "646bda0f",
   "metadata": {},
   "source": [
    "### Ler grafos"
   ]
  },
  {
   "cell_type": "code",
   "execution_count": null,
   "id": "c79ccaf8",
   "metadata": {},
   "outputs": [],
   "source": [
    "# leitura grafos\n",
    "# Leitura dos grafos gerados em Graphs\n",
    "melhor_pequeno = json_to_graph(\"Graphs/grafo_P_melhor.json\")\n",
    "medio_pequeno = json_to_graph(\"Graphs/grafo_P_medio.json\")\n",
    "pior_pequeno = json_to_graph(\"Graphs/grafo_P_pior.json\")\n",
    "\n",
    "melhor_medio = json_to_graph(\"Graphs/grafo_M_melhor.json\")\n",
    "medio_medio = json_to_graph(\"Graphs/grafo_M_medio.json\")\n",
    "pior_medio = json_to_graph(\"Graphs/grafo_M_pior.json\")\n",
    "melhor_grande = json_to_graph(\"Graphs/grafo_G_melhor.json\")\n",
    "medio_grande = json_to_graph(\"Graphs/grafo_G_medio.json\")\n",
    "# pior_grande = json_to_graph(\"Graphs/grafo_G_pior.json\")\n",
    "# @Pandor4b ou @Sophia-15 descomentem a linha e tentem rodar, minha VM crasha\n",
    "\n"
   ]
  },
  {
   "cell_type": "markdown",
   "id": "3ddb2b38",
   "metadata": {},
   "source": [
    "## Grafo Pequeno 500 nós"
   ]
  },
  {
   "cell_type": "markdown",
   "id": "cddf620b",
   "metadata": {},
   "source": [
    "### Melhor caso"
   ]
  },
  {
   "cell_type": "code",
   "execution_count": 10,
   "id": "d0f5bc67",
   "metadata": {},
   "outputs": [
    {
     "name": "stdout",
     "output_type": "stream",
     "text": [
      "tempo da 1º execução: 0.001271 segundos\n",
      "tempo da 2º execução: 0.001350 segundos\n",
      "tempo da 3º execução: 0.002676 segundos\n",
      "tempo da 4º execução: 0.002075 segundos\n",
      "tempo da 5º execução: 0.002376 segundos\n",
      "tempo da 6º execução: 0.002255 segundos\n",
      "tempo da 7º execução: 0.001651 segundos\n",
      "tempo da 8º execução: 0.001509 segundos\n",
      "tempo da 9º execução: 0.001256 segundos\n",
      "tempo da 10º execução: 0.001316 segundos\n",
      "tempo da 11º execução: 0.002197 segundos\n",
      "tempo da 12º execução: 0.001371 segundos\n",
      "tempo da 13º execução: 0.001319 segundos\n",
      "tempo da 14º execução: 0.001312 segundos\n",
      "tempo da 15º execução: 0.001325 segundos\n",
      "tempo da 16º execução: 0.001291 segundos\n",
      "tempo da 17º execução: 0.001306 segundos\n",
      "tempo da 18º execução: 0.001306 segundos\n",
      "tempo da 19º execução: 0.001499 segundos\n",
      "tempo da 20º execução: 0.001599 segundos\n",
      "tempo da 21º execução: 0.001546 segundos\n",
      "tempo da 22º execução: 0.001434 segundos\n",
      "tempo da 23º execução: 0.001306 segundos\n",
      "tempo da 24º execução: 0.001307 segundos\n",
      "tempo da 25º execução: 0.001505 segundos\n",
      "tempo da 26º execução: 0.001466 segundos\n",
      "tempo da 27º execução: 0.001378 segundos\n",
      "tempo da 28º execução: 0.001307 segundos\n",
      "tempo da 29º execução: 0.001284 segundos\n",
      "tempo da 30º execução: 0.003261 segundos\n"
     ]
    }
   ],
   "source": [
    "\n",
    "execution_times = []\n",
    "for i in range(1, 31):\n",
    "    start_time = time.time()\n",
    "    distancias, predecessores = dijkstra(melhor_pequeno, 1)\n",
    "    # Mostrar resultados:\n",
    "    for destino in melhor_pequeno.nodes:\n",
    "        caminho = str(get_path(predecessores, destino))\n",
    "        # print(f\"distancia da origem até {destino}: {distancias[destino]}\")\n",
    "    duration = time.time() - start_time\n",
    "    print(f\"tempo da {i}º execução: {duration:.6f} segundos\")\n",
    "    execution_times.append(duration)\n"
   ]
  },
  {
   "cell_type": "code",
   "execution_count": 11,
   "id": "1fea8d99",
   "metadata": {},
   "outputs": [
    {
     "name": "stdout",
     "output_type": "stream",
     "text": [
      "\n",
      "Resultados:\n",
      "Tempo médio:   0.001602 segundos\n",
      "Tempo máximo:  0.003261 segundos\n",
      "Tempo mínimo:  0.001256 segundos\n",
      "Tempo total:   0.048054 segundos\n",
      "Desvio padrão: 0.000481 segundos\n"
     ]
    }
   ],
   "source": [
    "print_results(execution_times)"
   ]
  },
  {
   "cell_type": "markdown",
   "id": "9d313ee4",
   "metadata": {},
   "source": [
    "### medio caso\n"
   ]
  },
  {
   "cell_type": "code",
   "execution_count": 12,
   "id": "eaa9cf27",
   "metadata": {},
   "outputs": [
    {
     "name": "stdout",
     "output_type": "stream",
     "text": [
      "tempo da 1º execução: 0.002341 segundos\n",
      "tempo da 2º execução: 0.003993 segundos\n",
      "tempo da 3º execução: 0.002436 segundos\n",
      "tempo da 4º execução: 0.004315 segundos\n",
      "tempo da 5º execução: 0.002447 segundos\n",
      "tempo da 6º execução: 0.002552 segundos\n",
      "tempo da 7º execução: 0.002216 segundos\n",
      "tempo da 8º execução: 0.002311 segundos\n",
      "tempo da 9º execução: 0.002189 segundos\n",
      "tempo da 10º execução: 0.002086 segundos\n",
      "tempo da 11º execução: 0.002107 segundos\n",
      "tempo da 12º execução: 0.002205 segundos\n",
      "tempo da 13º execução: 0.002391 segundos\n",
      "tempo da 14º execução: 0.002071 segundos\n",
      "tempo da 15º execução: 0.002022 segundos\n",
      "tempo da 16º execução: 0.002087 segundos\n",
      "tempo da 17º execução: 0.002126 segundos\n",
      "tempo da 18º execução: 0.002115 segundos\n",
      "tempo da 19º execução: 0.002105 segundos\n",
      "tempo da 20º execução: 0.002127 segundos\n",
      "tempo da 21º execução: 0.002194 segundos\n",
      "tempo da 22º execução: 0.002117 segundos\n",
      "tempo da 23º execução: 0.002016 segundos\n",
      "tempo da 24º execução: 0.002040 segundos\n",
      "tempo da 25º execução: 0.002030 segundos\n",
      "tempo da 26º execução: 0.002024 segundos\n",
      "tempo da 27º execução: 0.002105 segundos\n",
      "tempo da 28º execução: 0.002088 segundos\n",
      "tempo da 29º execução: 0.002035 segundos\n",
      "tempo da 30º execução: 0.002095 segundos\n"
     ]
    }
   ],
   "source": [
    "\n",
    "execution_times = []\n",
    "for i in range(1, 31):\n",
    "    start_time = time.time()\n",
    "    distancias, predecessores = dijkstra(medio_pequeno, 1)\n",
    "    # Mostrar resultados:\n",
    "    for destino in medio_pequeno.nodes:\n",
    "        caminho = str(get_path(predecessores, destino))\n",
    "        # print(f\"distancia da origem até {destino}: {distancias[destino]}\")\n",
    "    duration = time.time() - start_time\n",
    "    print(f\"tempo da {i}º execução: {duration:.6f} segundos\")\n",
    "    execution_times.append(duration)\n"
   ]
  },
  {
   "cell_type": "code",
   "execution_count": 13,
   "id": "a9d037df",
   "metadata": {},
   "outputs": [
    {
     "name": "stdout",
     "output_type": "stream",
     "text": [
      "\n",
      "Resultados:\n",
      "Tempo médio:   0.002300 segundos\n",
      "Tempo máximo:  0.004315 segundos\n",
      "Tempo mínimo:  0.002016 segundos\n",
      "Tempo total:   0.068988 segundos\n",
      "Desvio padrão: 0.000516 segundos\n"
     ]
    }
   ],
   "source": [
    "print_results(execution_times)"
   ]
  },
  {
   "cell_type": "markdown",
   "id": "f77c9cc1",
   "metadata": {},
   "source": [
    "### Pior caso"
   ]
  },
  {
   "cell_type": "code",
   "execution_count": 14,
   "id": "9a15b812",
   "metadata": {},
   "outputs": [
    {
     "name": "stdout",
     "output_type": "stream",
     "text": [
      "tempo da 1º execução: 0.136833 segundos\n",
      "tempo da 2º execução: 0.144465 segundos\n",
      "tempo da 3º execução: 0.139139 segundos\n",
      "tempo da 4º execução: 0.141618 segundos\n",
      "tempo da 5º execução: 0.134086 segundos\n",
      "tempo da 6º execução: 0.136217 segundos\n",
      "tempo da 7º execução: 0.138592 segundos\n",
      "tempo da 8º execução: 0.130639 segundos\n",
      "tempo da 9º execução: 0.131481 segundos\n",
      "tempo da 10º execução: 0.134515 segundos\n",
      "tempo da 11º execução: 0.133952 segundos\n",
      "tempo da 12º execução: 0.158477 segundos\n",
      "tempo da 13º execução: 0.141941 segundos\n",
      "tempo da 14º execução: 0.145204 segundos\n",
      "tempo da 15º execução: 0.141420 segundos\n",
      "tempo da 16º execução: 0.137973 segundos\n",
      "tempo da 17º execução: 0.137179 segundos\n",
      "tempo da 18º execução: 0.136414 segundos\n",
      "tempo da 19º execução: 0.139558 segundos\n",
      "tempo da 20º execução: 0.132812 segundos\n",
      "tempo da 21º execução: 0.181651 segundos\n",
      "tempo da 22º execução: 0.147933 segundos\n",
      "tempo da 23º execução: 0.139878 segundos\n",
      "tempo da 24º execução: 0.134121 segundos\n",
      "tempo da 25º execução: 0.138312 segundos\n",
      "tempo da 26º execução: 0.137638 segundos\n",
      "tempo da 27º execução: 0.141872 segundos\n",
      "tempo da 28º execução: 0.135277 segundos\n",
      "tempo da 29º execução: 0.139859 segundos\n",
      "tempo da 30º execução: 0.139513 segundos\n"
     ]
    }
   ],
   "source": [
    "\n",
    "execution_times = []\n",
    "for i in range(1, 31):\n",
    "    start_time = time.time()\n",
    "    distancias, predecessores = dijkstra(pior_pequeno, 1)\n",
    "    # Mostrar resultados:\n",
    "    for destino in pior_pequeno.nodes:\n",
    "        caminho = str(get_path(predecessores, destino))\n",
    "        # print(f\"distancia da origem até {destino}: {distancias[destino]}\")\n",
    "    duration = time.time() - start_time\n",
    "    print(f\"tempo da {i}º execução: {duration:.6f} segundos\")\n",
    "    execution_times.append(duration)\n"
   ]
  },
  {
   "cell_type": "code",
   "execution_count": 15,
   "id": "6b02ab98",
   "metadata": {},
   "outputs": [
    {
     "name": "stdout",
     "output_type": "stream",
     "text": [
      "\n",
      "Resultados:\n",
      "Tempo médio:   0.140286 segundos\n",
      "Tempo máximo:  0.181651 segundos\n",
      "Tempo mínimo:  0.130639 segundos\n",
      "Tempo total:   4.208570 segundos\n",
      "Desvio padrão: 0.009358 segundos\n"
     ]
    }
   ],
   "source": [
    "print_results(execution_times)"
   ]
  },
  {
   "cell_type": "markdown",
   "id": "c0445caf",
   "metadata": {},
   "source": [
    "## Grafo Medio 1000 nós"
   ]
  },
  {
   "cell_type": "markdown",
   "id": "ee118fd7",
   "metadata": {},
   "source": [
    "### Melhor caso"
   ]
  },
  {
   "cell_type": "code",
   "execution_count": 18,
   "id": "3f05e957",
   "metadata": {},
   "outputs": [
    {
     "name": "stdout",
     "output_type": "stream",
     "text": [
      "tempo da 1º execução: 0.007894 segundos\n",
      "tempo da 2º execução: 0.002738 segundos\n",
      "tempo da 3º execução: 0.004240 segundos\n",
      "tempo da 4º execução: 0.003616 segundos\n",
      "tempo da 5º execução: 0.002626 segundos\n",
      "tempo da 6º execução: 0.002603 segundos\n",
      "tempo da 7º execução: 0.002765 segundos\n",
      "tempo da 8º execução: 0.002574 segundos\n",
      "tempo da 9º execução: 0.002679 segundos\n",
      "tempo da 10º execução: 0.003030 segundos\n",
      "tempo da 11º execução: 0.002518 segundos\n",
      "tempo da 12º execução: 0.002535 segundos\n",
      "tempo da 13º execução: 0.002620 segundos\n",
      "tempo da 14º execução: 0.002582 segundos\n",
      "tempo da 15º execução: 0.002567 segundos\n",
      "tempo da 16º execução: 0.002499 segundos\n",
      "tempo da 17º execução: 0.002517 segundos\n",
      "tempo da 18º execução: 0.002513 segundos\n",
      "tempo da 19º execução: 0.002516 segundos\n",
      "tempo da 20º execução: 0.002457 segundos\n",
      "tempo da 21º execução: 0.002719 segundos\n",
      "tempo da 22º execução: 0.002774 segundos\n",
      "tempo da 23º execução: 0.002520 segundos\n",
      "tempo da 24º execução: 0.002495 segundos\n",
      "tempo da 25º execução: 0.002535 segundos\n",
      "tempo da 26º execução: 0.002592 segundos\n",
      "tempo da 27º execução: 0.002585 segundos\n",
      "tempo da 28º execução: 0.004140 segundos\n",
      "tempo da 29º execução: 0.003633 segundos\n",
      "tempo da 30º execução: 0.003150 segundos\n"
     ]
    }
   ],
   "source": [
    "execution_times = []\n",
    "for i in range(1, 31):\n",
    "    start_time = time.time()\n",
    "    distancias, predecessores = dijkstra(melhor_medio, 1)\n",
    "    # Mostrar resultados:\n",
    "    for destino in melhor_medio.nodes:\n",
    "        caminho = str(get_path(predecessores, destino))\n",
    "        # print(f\"distancia da origem até {destino}: {distancias[destino]}\")\n",
    "    duration = time.time() - start_time\n",
    "    print(f\"tempo da {i}º execução: {duration:.6f} segundos\")\n",
    "    execution_times.append(duration)\n"
   ]
  },
  {
   "cell_type": "code",
   "execution_count": 19,
   "id": "d1699299",
   "metadata": {},
   "outputs": [
    {
     "name": "stdout",
     "output_type": "stream",
     "text": [
      "\n",
      "Resultados:\n",
      "Tempo médio:   0.002974 segundos\n",
      "Tempo máximo:  0.007894 segundos\n",
      "Tempo mínimo:  0.002457 segundos\n",
      "Tempo total:   0.089230 segundos\n",
      "Desvio padrão: 0.001027 segundos\n"
     ]
    }
   ],
   "source": [
    "print_results(execution_times)"
   ]
  },
  {
   "cell_type": "markdown",
   "id": "a70d30b1",
   "metadata": {},
   "source": [
    "### Medio caso"
   ]
  },
  {
   "cell_type": "code",
   "execution_count": 24,
   "id": "b7f49d67",
   "metadata": {},
   "outputs": [
    {
     "name": "stdout",
     "output_type": "stream",
     "text": [
      "tempo da 1º execução: 0.008018 segundos\n",
      "tempo da 2º execução: 0.006601 segundos\n",
      "tempo da 3º execução: 0.005163 segundos\n",
      "tempo da 4º execução: 0.004858 segundos\n",
      "tempo da 5º execução: 0.006177 segundos\n",
      "tempo da 6º execução: 0.005657 segundos\n",
      "tempo da 7º execução: 0.004625 segundos\n",
      "tempo da 8º execução: 0.004756 segundos\n",
      "tempo da 9º execução: 0.004646 segundos\n",
      "tempo da 10º execução: 0.004681 segundos\n",
      "tempo da 11º execução: 0.005999 segundos\n",
      "tempo da 12º execução: 0.004892 segundos\n",
      "tempo da 13º execução: 0.005020 segundos\n",
      "tempo da 14º execução: 0.004393 segundos\n",
      "tempo da 15º execução: 0.004382 segundos\n",
      "tempo da 16º execução: 0.004694 segundos\n",
      "tempo da 17º execução: 0.004838 segundos\n",
      "tempo da 18º execução: 0.004715 segundos\n",
      "tempo da 19º execução: 0.005441 segundos\n",
      "tempo da 20º execução: 0.004949 segundos\n",
      "tempo da 21º execução: 0.005236 segundos\n",
      "tempo da 22º execução: 0.004840 segundos\n",
      "tempo da 23º execução: 0.004567 segundos\n",
      "tempo da 24º execução: 0.004543 segundos\n",
      "tempo da 25º execução: 0.005175 segundos\n",
      "tempo da 26º execução: 0.005430 segundos\n",
      "tempo da 27º execução: 0.004684 segundos\n",
      "tempo da 28º execução: 0.004718 segundos\n",
      "tempo da 29º execução: 0.006518 segundos\n",
      "tempo da 30º execução: 0.004780 segundos\n"
     ]
    }
   ],
   "source": [
    "execution_times = []\n",
    "for i in range(1, 31):\n",
    "    start_time = time.time()\n",
    "    distancias, predecessores = dijkstra(medio_medio, 1)\n",
    "    # Mostrar resultados:\n",
    "    for destino in medio_medio.nodes:\n",
    "        caminho = str(get_path(predecessores, destino))\n",
    "        # print(f\"distancia da origem até {destino}: {distancias[destino]}\")\n",
    "    duration = time.time() - start_time\n",
    "    print(f\"tempo da {i}º execução: {duration:.6f} segundos\")\n",
    "    execution_times.append(duration)\n"
   ]
  },
  {
   "cell_type": "code",
   "execution_count": 25,
   "id": "144e9f9d",
   "metadata": {},
   "outputs": [
    {
     "name": "stdout",
     "output_type": "stream",
     "text": [
      "\n",
      "Resultados:\n",
      "Tempo médio:   0.005167 segundos\n",
      "Tempo máximo:  0.008018 segundos\n",
      "Tempo mínimo:  0.004382 segundos\n",
      "Tempo total:   0.154998 segundos\n",
      "Desvio padrão: 0.000786 segundos\n"
     ]
    }
   ],
   "source": [
    "print_results(execution_times)"
   ]
  },
  {
   "cell_type": "markdown",
   "id": "2f1629be",
   "metadata": {},
   "source": [
    "### Pior caso"
   ]
  },
  {
   "cell_type": "code",
   "execution_count": 20,
   "id": "8473fedb",
   "metadata": {},
   "outputs": [
    {
     "name": "stdout",
     "output_type": "stream",
     "text": [
      "tempo da 1º execução: 0.544724 segundos\n",
      "tempo da 2º execução: 0.561628 segundos\n",
      "tempo da 3º execução: 0.584623 segundos\n",
      "tempo da 4º execução: 0.544480 segundos\n",
      "tempo da 5º execução: 0.535173 segundos\n",
      "tempo da 6º execução: 0.553166 segundos\n",
      "tempo da 7º execução: 0.563126 segundos\n",
      "tempo da 8º execução: 0.560999 segundos\n",
      "tempo da 9º execução: 0.596833 segundos\n",
      "tempo da 10º execução: 0.548378 segundos\n",
      "tempo da 11º execução: 0.582376 segundos\n",
      "tempo da 12º execução: 0.555004 segundos\n",
      "tempo da 13º execução: 0.544338 segundos\n",
      "tempo da 14º execução: 0.545500 segundos\n",
      "tempo da 15º execução: 0.544073 segundos\n",
      "tempo da 16º execução: 0.543927 segundos\n",
      "tempo da 17º execução: 0.566646 segundos\n",
      "tempo da 18º execução: 0.529260 segundos\n",
      "tempo da 19º execução: 0.543614 segundos\n",
      "tempo da 20º execução: 0.530572 segundos\n",
      "tempo da 21º execução: 0.523478 segundos\n",
      "tempo da 22º execução: 0.531404 segundos\n",
      "tempo da 23º execução: 0.532063 segundos\n",
      "tempo da 24º execução: 0.525240 segundos\n",
      "tempo da 25º execução: 0.530412 segundos\n",
      "tempo da 26º execução: 0.524681 segundos\n",
      "tempo da 27º execução: 0.572208 segundos\n",
      "tempo da 28º execução: 0.532477 segundos\n",
      "tempo da 29º execução: 0.528399 segundos\n",
      "tempo da 30º execução: 0.529170 segundos\n"
     ]
    }
   ],
   "source": [
    "execution_times = []\n",
    "for i in range(1, 31):\n",
    "    start_time = time.time()\n",
    "    distancias, predecessores = dijkstra(pior_medio, 1)\n",
    "    # Mostrar resultados:\n",
    "    for destino in pior_medio.nodes:\n",
    "        caminho = str(get_path(predecessores, destino))\n",
    "        # print(f\"distancia da origem até {destino}: {distancias[destino]}\")\n",
    "    duration = time.time() - start_time\n",
    "    print(f\"tempo da {i}º execução: {duration:.6f} segundos\")\n",
    "    execution_times.append(duration)\n"
   ]
  },
  {
   "cell_type": "code",
   "execution_count": 21,
   "id": "86cdbd7a",
   "metadata": {},
   "outputs": [
    {
     "name": "stdout",
     "output_type": "stream",
     "text": [
      "\n",
      "Resultados:\n",
      "Tempo médio:   0.546932 segundos\n",
      "Tempo máximo:  0.596833 segundos\n",
      "Tempo mínimo:  0.523478 segundos\n",
      "Tempo total:   16.407971 segundos\n",
      "Desvio padrão: 0.019028 segundos\n"
     ]
    }
   ],
   "source": [
    "print_results(execution_times)"
   ]
  },
  {
   "cell_type": "markdown",
   "id": "4a54e482",
   "metadata": {},
   "source": [
    "## Grande"
   ]
  },
  {
   "cell_type": "markdown",
   "id": "5c758477",
   "metadata": {},
   "source": [
    "### Melhor caso"
   ]
  },
  {
   "cell_type": "code",
   "execution_count": null,
   "id": "86fefdd4",
   "metadata": {},
   "outputs": [],
   "source": [
    "execution_times = []\n",
    "for i in range(1, 31):\n",
    "    start_time = time.time()\n",
    "    distancias, predecessores = dijkstra(melhor_grande, 1)\n",
    "    # Mostrar resultados:\n",
    "    for destino in melhor_grande.nodes:\n",
    "        caminho = str(get_path(predecessores, destino))\n",
    "        # print(f\"distancia da origem até {destino}: {distancias[destino]}\")\n",
    "    duration = time.time() - start_time\n",
    "    print(f\"tempo da {i}º execução: {duration:.6f} segundos\")\n",
    "    execution_times.append(duration)\n"
   ]
  },
  {
   "cell_type": "code",
   "execution_count": null,
   "id": "fcf62d31",
   "metadata": {},
   "outputs": [
    {
     "name": "stdout",
     "output_type": "stream",
     "text": [
      "\n",
      "Resultados:\n",
      "Tempo médio:   0.014510 segundos\n",
      "Tempo máximo:  0.018501 segundos\n",
      "Tempo mínimo:  0.013115 segundos\n",
      "Tempo total:   0.435303 segundos\n",
      "Desvio padrão: 0.001177 segundos\n"
     ]
    }
   ],
   "source": [
    "print_results(execution_times)"
   ]
  },
  {
   "cell_type": "markdown",
   "id": "0554924b",
   "metadata": {},
   "source": [
    "### Medio caso"
   ]
  },
  {
   "cell_type": "code",
   "execution_count": null,
   "id": "0c122df2",
   "metadata": {},
   "outputs": [
    {
     "name": "stdout",
     "output_type": "stream",
     "text": [
      "tempo da 1º execução: 0.054451 segundos\n",
      "tempo da 2º execução: 0.058617 segundos\n",
      "tempo da 3º execução: 0.051540 segundos\n",
      "tempo da 4º execução: 0.039600 segundos\n",
      "tempo da 5º execução: 0.035731 segundos\n",
      "tempo da 6º execução: 0.041969 segundos\n",
      "tempo da 7º execução: 0.043540 segundos\n",
      "tempo da 8º execução: 0.039946 segundos\n",
      "tempo da 9º execução: 0.036103 segundos\n",
      "tempo da 10º execução: 0.030052 segundos\n",
      "tempo da 11º execução: 0.028854 segundos\n",
      "tempo da 12º execução: 0.026876 segundos\n",
      "tempo da 13º execução: 0.029114 segundos\n",
      "tempo da 14º execução: 0.028586 segundos\n",
      "tempo da 15º execução: 0.027920 segundos\n",
      "tempo da 16º execução: 0.036910 segundos\n",
      "tempo da 17º execução: 0.034983 segundos\n",
      "tempo da 18º execução: 0.030004 segundos\n",
      "tempo da 19º execução: 0.027768 segundos\n",
      "tempo da 20º execução: 0.030939 segundos\n",
      "tempo da 21º execução: 0.029857 segundos\n",
      "tempo da 22º execução: 0.027144 segundos\n",
      "tempo da 23º execução: 0.026990 segundos\n",
      "tempo da 24º execução: 0.028164 segundos\n",
      "tempo da 25º execução: 0.033231 segundos\n",
      "tempo da 26º execução: 0.030003 segundos\n",
      "tempo da 27º execução: 0.031100 segundos\n",
      "tempo da 28º execução: 0.031226 segundos\n",
      "tempo da 29º execução: 0.027652 segundos\n",
      "tempo da 30º execução: 0.027300 segundos\n"
     ]
    }
   ],
   "source": [
    "execution_times = []\n",
    "for i in range(1, 31):\n",
    "    start_time = time.time()\n",
    "    distancias, predecessores = dijkstra(medio_grande, 1)\n",
    "    # Mostrar resultados:\n",
    "    for destino in medio_grande.nodes:\n",
    "        caminho = str(get_path(predecessores, destino))\n",
    "        # print(f\"distancia da origem até {destino}: {distancias[destino]}\")\n",
    "    duration = time.time() - start_time\n",
    "    print(f\"tempo da {i}º execução: {duration:.6f} segundos\")\n",
    "    execution_times.append(duration)\n"
   ]
  },
  {
   "cell_type": "code",
   "execution_count": null,
   "id": "03af95be",
   "metadata": {},
   "outputs": [
    {
     "name": "stdout",
     "output_type": "stream",
     "text": [
      "\n",
      "Resultados:\n",
      "Tempo médio:   0.034206 segundos\n",
      "Tempo máximo:  0.058617 segundos\n",
      "Tempo mínimo:  0.026876 segundos\n",
      "Tempo total:   1.026172 segundos\n",
      "Desvio padrão: 0.008329 segundos\n"
     ]
    }
   ],
   "source": [
    "print_results(execution_times)"
   ]
  },
  {
   "cell_type": "markdown",
   "id": "1b489a81",
   "metadata": {},
   "source": [
    "### Pior Caso "
   ]
  },
  {
   "cell_type": "code",
   "execution_count": null,
   "id": "45d2b445",
   "metadata": {},
   "outputs": [
    {
     "name": "stdout",
     "output_type": "stream",
     "text": [
      "tempo da 1º execução: 0.054451 segundos\n",
      "tempo da 2º execução: 0.058617 segundos\n",
      "tempo da 3º execução: 0.051540 segundos\n",
      "tempo da 4º execução: 0.039600 segundos\n",
      "tempo da 5º execução: 0.035731 segundos\n",
      "tempo da 6º execução: 0.041969 segundos\n",
      "tempo da 7º execução: 0.043540 segundos\n",
      "tempo da 8º execução: 0.039946 segundos\n",
      "tempo da 9º execução: 0.036103 segundos\n",
      "tempo da 10º execução: 0.030052 segundos\n",
      "tempo da 11º execução: 0.028854 segundos\n",
      "tempo da 12º execução: 0.026876 segundos\n",
      "tempo da 13º execução: 0.029114 segundos\n",
      "tempo da 14º execução: 0.028586 segundos\n",
      "tempo da 15º execução: 0.027920 segundos\n",
      "tempo da 16º execução: 0.036910 segundos\n",
      "tempo da 17º execução: 0.034983 segundos\n",
      "tempo da 18º execução: 0.030004 segundos\n",
      "tempo da 19º execução: 0.027768 segundos\n",
      "tempo da 20º execução: 0.030939 segundos\n",
      "tempo da 21º execução: 0.029857 segundos\n",
      "tempo da 22º execução: 0.027144 segundos\n",
      "tempo da 23º execução: 0.026990 segundos\n",
      "tempo da 24º execução: 0.028164 segundos\n",
      "tempo da 25º execução: 0.033231 segundos\n",
      "tempo da 26º execução: 0.030003 segundos\n",
      "tempo da 27º execução: 0.031100 segundos\n",
      "tempo da 28º execução: 0.031226 segundos\n",
      "tempo da 29º execução: 0.027652 segundos\n",
      "tempo da 30º execução: 0.027300 segundos\n"
     ]
    }
   ],
   "source": [
    "execution_times = []\n",
    "for i in range(1, 31):\n",
    "    start_time = time.time()\n",
    "    distancias, predecessores = dijkstra(pior_grande, 1)\n",
    "    # Mostrar resultados:\n",
    "    for destino in pior_grande.nodes:\n",
    "        caminho = str(get_path(predecessores, destino))\n",
    "        # print(f\"distancia da origem até {destino}: {distancias[destino]}\")\n",
    "    duration = time.time() - start_time\n",
    "    print(f\"tempo da {i}º execução: {duration:.6f} segundos\")\n",
    "    execution_times.append(duration)\n"
   ]
  },
  {
   "cell_type": "code",
   "execution_count": 29,
   "id": "db15077a",
   "metadata": {},
   "outputs": [
    {
     "name": "stdout",
     "output_type": "stream",
     "text": [
      "\n",
      "Resultados:\n",
      "Tempo médio:   0.034206 segundos\n",
      "Tempo máximo:  0.058617 segundos\n",
      "Tempo mínimo:  0.026876 segundos\n",
      "Tempo total:   1.026172 segundos\n",
      "Desvio padrão: 0.008329 segundos\n"
     ]
    }
   ],
   "source": [
    "print_results(execution_times)"
   ]
  }
 ],
 "metadata": {
  "kernelspec": {
   "display_name": "venv",
   "language": "python",
   "name": "python3"
  },
  "language_info": {
   "codemirror_mode": {
    "name": "ipython",
    "version": 3
   },
   "file_extension": ".py",
   "mimetype": "text/x-python",
   "name": "python",
   "nbconvert_exporter": "python",
   "pygments_lexer": "ipython3",
   "version": "3.10.12"
  }
 },
 "nbformat": 4,
 "nbformat_minor": 5
}
