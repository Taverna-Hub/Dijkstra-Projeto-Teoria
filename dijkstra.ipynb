{
 "cells": [
  {
   "cell_type": "markdown",
   "id": "06325325",
   "metadata": {},
   "source": [
    "# Algoritimo: Dijkstra"
   ]
  },
  {
   "cell_type": "code",
   "execution_count": null,
   "id": "43ac8093",
   "metadata": {},
   "outputs": [],
   "source": [
    "%pip install matplotlib\n",
    "%pip install networkx\n",
    "%pip install pandas openpyxl"
   ]
  },
  {
   "cell_type": "code",
   "execution_count": 28,
   "id": "55f43fb2",
   "metadata": {},
   "outputs": [],
   "source": [
    "from networkx.readwrite import json_graph\n",
    "import json\n",
    "import networkx as nx\n",
    "import matplotlib.pyplot as plt\n",
    "import random\n",
    "import heapq\n",
    "import time\n",
    "import pandas as pd"
   ]
  },
  {
   "cell_type": "markdown",
   "id": "33c71179",
   "metadata": {},
   "source": [
    "## Algoritimo"
   ]
  },
  {
   "cell_type": "code",
   "execution_count": 29,
   "id": "2e44d539",
   "metadata": {},
   "outputs": [],
   "source": [
    "\n",
    "def dijkstra(graph: nx.Graph, start: str):\n",
    "    distances = {node: float('inf') for node in graph.nodes}\n",
    "    distances[start] = 0\n",
    "    previous = {node: None for node in graph.nodes}\n",
    "    \n",
    "    heap = [(0, start)]\n",
    "\n",
    "    while heap:\n",
    "        current_distance, current_node = heapq.heappop(heap)\n",
    "\n",
    "        if current_distance > distances[current_node]:\n",
    "            continue\n",
    "\n",
    "        for neighbor in graph.neighbors(current_node):\n",
    "            weight = graph[current_node][neighbor].get('weight', 1)\n",
    "            distance = current_distance + weight\n",
    "            if distance < distances[neighbor]:\n",
    "                distances[neighbor] = distance\n",
    "                previous[neighbor] = current_node\n",
    "                heapq.heappush(heap, (distance, neighbor))\n",
    "\n",
    "    return distances, previous\n",
    "\n",
    "def get_path(previous, target):\n",
    "    path = []\n",
    "    while target is not None:\n",
    "        path.append(target)\n",
    "        target = previous[target]\n",
    "    return path[::-1]"
   ]
  },
  {
   "cell_type": "markdown",
   "id": "5810bd16",
   "metadata": {},
   "source": [
    "### funções auxiliares"
   ]
  },
  {
   "cell_type": "code",
   "execution_count": 30,
   "id": "833c4448",
   "metadata": {},
   "outputs": [],
   "source": [
    "def json_to_graph(filename):\n",
    "    with open(filename, 'r') as f:\n",
    "        data = json.load(f)\n",
    "    # Para compatibilidade futura, defina edges=\"links\" explicitamente\n",
    "    G = json_graph.node_link_graph(data, edges=\"links\")\n",
    "    return G"
   ]
  },
  {
   "cell_type": "code",
   "execution_count": 31,
   "id": "2bed9b1c",
   "metadata": {},
   "outputs": [],
   "source": [
    "def print_results(execution_times):# Resultados formatados\n",
    "    print(\"\\nResultados:\")\n",
    "    print(f\"Tempo médio:   {sum(execution_times) / len(execution_times):.6f} segundos\")\n",
    "    print(f\"Tempo máximo:  {max(execution_times):.6f} segundos\")\n",
    "    print(f\"Tempo mínimo:  {min(execution_times):.6f} segundos\")\n",
    "    print(f\"Tempo total:   {sum(execution_times):.6f} segundos\")\n",
    "    media = sum(execution_times) / len(execution_times)\n",
    "    desvio = (sum((x - media) ** 2 for x in execution_times) / len(execution_times)) ** 0.5\n",
    "    print(f\"Desvio padrão: {desvio:.6f} segundos\")"
   ]
  },
  {
   "cell_type": "markdown",
   "id": "646bda0f",
   "metadata": {},
   "source": [
    "### Ler grafos"
   ]
  },
  {
   "cell_type": "code",
   "execution_count": 32,
   "id": "c79ccaf8",
   "metadata": {},
   "outputs": [],
   "source": [
    "# leitura grafos\n",
    "# Leitura dos grafos gerados em Graphs\n",
    "melhor_pequeno = json_to_graph(\"Graphs/grafo_P_melhor.json\")\n",
    "medio_pequeno = json_to_graph(\"Graphs/grafo_P_medio.json\")\n",
    "pior_pequeno = json_to_graph(\"Graphs/grafo_P_pior.json\")\n",
    "\n",
    "melhor_medio = json_to_graph(\"Graphs/grafo_M_melhor.json\")\n",
    "medio_medio = json_to_graph(\"Graphs/grafo_M_medio.json\")\n",
    "pior_medio = json_to_graph(\"Graphs/grafo_M_pior.json\")\n",
    "melhor_grande = json_to_graph(\"Graphs/grafo_G_melhor.json\")\n",
    "medio_grande = json_to_graph(\"Graphs/grafo_G_medio.json\")\n",
    "pior_grande = json_to_graph(\"Graphs/grafo_G_pior.json\")\n",
    "# @Pandor4b ou @Sophia-15 descomentem a linha e tentem rodar, minha VM crasha"
   ]
  },
  {
   "cell_type": "markdown",
   "id": "3ddb2b38",
   "metadata": {},
   "source": [
    "## Grafo Pequeno 500 nós"
   ]
  },
  {
   "cell_type": "markdown",
   "id": "cddf620b",
   "metadata": {},
   "source": [
    "### Melhor caso"
   ]
  },
  {
   "cell_type": "code",
   "execution_count": 33,
   "id": "d0f5bc67",
   "metadata": {},
   "outputs": [
    {
     "name": "stdout",
     "output_type": "stream",
     "text": [
      "tempo da 1º execução: 0.001765 segundos\n",
      "tempo da 2º execução: 0.001920 segundos\n",
      "tempo da 3º execução: 0.001039 segundos\n",
      "tempo da 4º execução: 0.001024 segundos\n",
      "tempo da 5º execução: 0.000902 segundos\n",
      "tempo da 6º execução: 0.001114 segundos\n",
      "tempo da 7º execução: 0.001266 segundos\n",
      "tempo da 8º execução: 0.000913 segundos\n",
      "tempo da 9º execução: 0.000921 segundos\n",
      "tempo da 10º execução: 0.001058 segundos\n",
      "tempo da 11º execução: 0.001104 segundos\n",
      "tempo da 12º execução: 0.001060 segundos\n",
      "tempo da 13º execução: 0.001085 segundos\n",
      "tempo da 14º execução: 0.001480 segundos\n",
      "tempo da 15º execução: 0.001300 segundos\n",
      "tempo da 16º execução: 0.001120 segundos\n",
      "tempo da 17º execução: 0.000864 segundos\n",
      "tempo da 18º execução: 0.000745 segundos\n",
      "tempo da 19º execução: 0.000854 segundos\n",
      "tempo da 20º execução: 0.000912 segundos\n",
      "tempo da 21º execução: 0.000990 segundos\n",
      "tempo da 22º execução: 0.001039 segundos\n",
      "tempo da 23º execução: 0.000900 segundos\n",
      "tempo da 24º execução: 0.000874 segundos\n",
      "tempo da 25º execução: 0.001073 segundos\n",
      "tempo da 26º execução: 0.000947 segundos\n",
      "tempo da 27º execução: 0.000912 segundos\n",
      "tempo da 28º execução: 0.000967 segundos\n",
      "tempo da 29º execução: 0.000891 segundos\n",
      "tempo da 30º execução: 0.001056 segundos\n"
     ]
    }
   ],
   "source": [
    "\n",
    "execution_times_melhor_pequeno = []\n",
    "for i in range(1, 31):\n",
    "    start_time = time.time()\n",
    "    distancias, predecessores = dijkstra(melhor_pequeno, 1)\n",
    "    # Mostrar resultados:\n",
    "    for destino in melhor_pequeno.nodes:\n",
    "        caminho = str(get_path(predecessores, destino))\n",
    "        # print(f\"distancia da origem até {destino}: {distancias[destino]}\")\n",
    "    duration = time.time() - start_time\n",
    "    print(f\"tempo da {i}º execução: {duration:.6f} segundos\")\n",
    "    execution_times_melhor_pequeno.append(duration)\n"
   ]
  },
  {
   "cell_type": "code",
   "execution_count": 34,
   "id": "1fea8d99",
   "metadata": {},
   "outputs": [
    {
     "name": "stdout",
     "output_type": "stream",
     "text": [
      "\n",
      "Resultados:\n",
      "Tempo médio:   0.001070 segundos\n",
      "Tempo máximo:  0.001920 segundos\n",
      "Tempo mínimo:  0.000745 segundos\n",
      "Tempo total:   0.032095 segundos\n",
      "Desvio padrão: 0.000253 segundos\n"
     ]
    }
   ],
   "source": [
    "print_results(execution_times_melhor_pequeno)"
   ]
  },
  {
   "cell_type": "markdown",
   "id": "9d313ee4",
   "metadata": {},
   "source": [
    "### medio caso\n"
   ]
  },
  {
   "cell_type": "code",
   "execution_count": 35,
   "id": "eaa9cf27",
   "metadata": {},
   "outputs": [
    {
     "name": "stdout",
     "output_type": "stream",
     "text": [
      "tempo da 1º execução: 0.001903 segundos\n",
      "tempo da 2º execução: 0.001565 segundos\n",
      "tempo da 3º execução: 0.002394 segundos\n",
      "tempo da 4º execução: 0.002789 segundos\n",
      "tempo da 5º execução: 0.001911 segundos\n",
      "tempo da 6º execução: 0.001596 segundos\n",
      "tempo da 7º execução: 0.002207 segundos\n",
      "tempo da 8º execução: 0.001493 segundos\n",
      "tempo da 9º execução: 0.001431 segundos\n",
      "tempo da 10º execução: 0.001429 segundos\n",
      "tempo da 11º execução: 0.001498 segundos\n",
      "tempo da 12º execução: 0.001557 segundos\n",
      "tempo da 13º execução: 0.001451 segundos\n",
      "tempo da 14º execução: 0.001530 segundos\n",
      "tempo da 15º execução: 0.001497 segundos\n",
      "tempo da 16º execução: 0.001411 segundos\n",
      "tempo da 17º execução: 0.001470 segundos\n",
      "tempo da 18º execução: 0.001397 segundos\n",
      "tempo da 19º execução: 0.001381 segundos\n",
      "tempo da 20º execução: 0.001315 segundos\n",
      "tempo da 21º execução: 0.001353 segundos\n",
      "tempo da 22º execução: 0.001446 segundos\n",
      "tempo da 23º execução: 0.001452 segundos\n",
      "tempo da 24º execução: 0.001436 segundos\n",
      "tempo da 25º execução: 0.001505 segundos\n",
      "tempo da 26º execução: 0.001393 segundos\n",
      "tempo da 27º execução: 0.001401 segundos\n",
      "tempo da 28º execução: 0.001418 segundos\n",
      "tempo da 29º execução: 0.001459 segundos\n",
      "tempo da 30º execução: 0.001981 segundos\n"
     ]
    }
   ],
   "source": [
    "\n",
    "execution_times_medio_pequeno = []\n",
    "for i in range(1, 31):\n",
    "    start_time = time.time()\n",
    "    distancias, predecessores = dijkstra(medio_pequeno, 1)\n",
    "    # Mostrar resultados:\n",
    "    for destino in medio_pequeno.nodes:\n",
    "        caminho = str(get_path(predecessores, destino))\n",
    "        # print(f\"distancia da origem até {destino}: {distancias[destino]}\")\n",
    "    duration = time.time() - start_time\n",
    "    print(f\"tempo da {i}º execução: {duration:.6f} segundos\")\n",
    "    execution_times_medio_pequeno.append(duration)\n"
   ]
  },
  {
   "cell_type": "code",
   "execution_count": 36,
   "id": "a9d037df",
   "metadata": {},
   "outputs": [
    {
     "name": "stdout",
     "output_type": "stream",
     "text": [
      "\n",
      "Resultados:\n",
      "Tempo médio:   0.001602 segundos\n",
      "Tempo máximo:  0.002789 segundos\n",
      "Tempo mínimo:  0.001315 segundos\n",
      "Tempo total:   0.048070 segundos\n",
      "Desvio padrão: 0.000335 segundos\n"
     ]
    }
   ],
   "source": [
    "print_results(execution_times_medio_pequeno)"
   ]
  },
  {
   "cell_type": "markdown",
   "id": "f77c9cc1",
   "metadata": {},
   "source": [
    "### Pior caso"
   ]
  },
  {
   "cell_type": "code",
   "execution_count": 37,
   "id": "9a15b812",
   "metadata": {},
   "outputs": [
    {
     "name": "stdout",
     "output_type": "stream",
     "text": [
      "tempo da 1º execução: 0.084992 segundos\n",
      "tempo da 2º execução: 0.086386 segundos\n",
      "tempo da 3º execução: 0.096354 segundos\n",
      "tempo da 4º execução: 0.152102 segundos\n",
      "tempo da 5º execução: 0.093390 segundos\n",
      "tempo da 6º execução: 0.086385 segundos\n",
      "tempo da 7º execução: 0.098178 segundos\n",
      "tempo da 8º execução: 0.088913 segundos\n",
      "tempo da 9º execução: 0.085941 segundos\n",
      "tempo da 10º execução: 0.094284 segundos\n",
      "tempo da 11º execução: 0.086833 segundos\n",
      "tempo da 12º execução: 0.087980 segundos\n",
      "tempo da 13º execução: 0.094112 segundos\n",
      "tempo da 14º execução: 0.109683 segundos\n",
      "tempo da 15º execução: 0.098685 segundos\n",
      "tempo da 16º execução: 0.089061 segundos\n",
      "tempo da 17º execução: 0.091310 segundos\n",
      "tempo da 18º execução: 0.120147 segundos\n",
      "tempo da 19º execução: 0.091597 segundos\n",
      "tempo da 20º execução: 0.084887 segundos\n",
      "tempo da 21º execução: 0.084177 segundos\n",
      "tempo da 22º execução: 0.083082 segundos\n",
      "tempo da 23º execução: 0.094372 segundos\n",
      "tempo da 24º execução: 0.090593 segundos\n",
      "tempo da 25º execução: 0.090480 segundos\n",
      "tempo da 26º execução: 0.083666 segundos\n",
      "tempo da 27º execução: 0.093445 segundos\n",
      "tempo da 28º execução: 0.082577 segundos\n",
      "tempo da 29º execução: 0.085265 segundos\n",
      "tempo da 30º execução: 0.084326 segundos\n"
     ]
    }
   ],
   "source": [
    "\n",
    "execution_times_pior_pequeno = []\n",
    "for i in range(1, 31):\n",
    "    start_time = time.time()\n",
    "    distancias, predecessores = dijkstra(pior_pequeno, 1)\n",
    "    # Mostrar resultados:\n",
    "    for destino in pior_pequeno.nodes:\n",
    "        caminho = str(get_path(predecessores, destino))\n",
    "        # print(f\"distancia da origem até {destino}: {distancias[destino]}\")\n",
    "    duration = time.time() - start_time\n",
    "    print(f\"tempo da {i}º execução: {duration:.6f} segundos\")\n",
    "    execution_times_pior_pequeno.append(duration)\n"
   ]
  },
  {
   "cell_type": "code",
   "execution_count": 38,
   "id": "6b02ab98",
   "metadata": {},
   "outputs": [
    {
     "name": "stdout",
     "output_type": "stream",
     "text": [
      "\n",
      "Resultados:\n",
      "Tempo médio:   0.093107 segundos\n",
      "Tempo máximo:  0.152102 segundos\n",
      "Tempo mínimo:  0.082577 segundos\n",
      "Tempo total:   2.793201 segundos\n",
      "Desvio padrão: 0.013503 segundos\n"
     ]
    }
   ],
   "source": [
    "print_results(execution_times_pior_pequeno)"
   ]
  },
  {
   "cell_type": "markdown",
   "id": "c0445caf",
   "metadata": {},
   "source": [
    "## Grafo Medio 1000 nós"
   ]
  },
  {
   "cell_type": "markdown",
   "id": "ee118fd7",
   "metadata": {},
   "source": [
    "### Melhor caso"
   ]
  },
  {
   "cell_type": "code",
   "execution_count": 40,
   "id": "3f05e957",
   "metadata": {},
   "outputs": [
    {
     "name": "stdout",
     "output_type": "stream",
     "text": [
      "tempo da 1º execução: 0.004583 segundos\n",
      "tempo da 2º execução: 0.002341 segundos\n",
      "tempo da 3º execução: 0.001782 segundos\n",
      "tempo da 4º execução: 0.001811 segundos\n",
      "tempo da 5º execução: 0.001981 segundos\n",
      "tempo da 6º execução: 0.002429 segundos\n",
      "tempo da 7º execução: 0.001941 segundos\n",
      "tempo da 8º execução: 0.002419 segundos\n",
      "tempo da 9º execução: 0.001927 segundos\n",
      "tempo da 10º execução: 0.001973 segundos\n",
      "tempo da 11º execução: 0.001960 segundos\n",
      "tempo da 12º execução: 0.001755 segundos\n",
      "tempo da 13º execução: 0.001730 segundos\n",
      "tempo da 14º execução: 0.001861 segundos\n",
      "tempo da 15º execução: 0.001748 segundos\n",
      "tempo da 16º execução: 0.001759 segundos\n",
      "tempo da 17º execução: 0.002171 segundos\n",
      "tempo da 18º execução: 0.001764 segundos\n",
      "tempo da 19º execução: 0.001751 segundos\n",
      "tempo da 20º execução: 0.001746 segundos\n",
      "tempo da 21º execução: 0.001920 segundos\n",
      "tempo da 22º execução: 0.002393 segundos\n",
      "tempo da 23º execução: 0.002178 segundos\n",
      "tempo da 24º execução: 0.001773 segundos\n",
      "tempo da 25º execução: 0.001779 segundos\n",
      "tempo da 26º execução: 0.001768 segundos\n",
      "tempo da 27º execução: 0.001980 segundos\n",
      "tempo da 28º execução: 0.002229 segundos\n",
      "tempo da 29º execução: 0.002048 segundos\n",
      "tempo da 30º execução: 0.002149 segundos\n"
     ]
    }
   ],
   "source": [
    "execution_times_melhor_medio = []\n",
    "for i in range(1, 31):\n",
    "    start_time = time.time()\n",
    "    distancias, predecessores = dijkstra(melhor_medio, 1)\n",
    "    # Mostrar resultados:\n",
    "    for destino in melhor_medio.nodes:\n",
    "        caminho = str(get_path(predecessores, destino))\n",
    "        # print(f\"distancia da origem até {destino}: {distancias[destino]}\")\n",
    "    duration = time.time() - start_time\n",
    "    print(f\"tempo da {i}º execução: {duration:.6f} segundos\")\n",
    "    execution_times_melhor_medio.append(duration)\n"
   ]
  },
  {
   "cell_type": "code",
   "execution_count": 41,
   "id": "d1699299",
   "metadata": {},
   "outputs": [
    {
     "name": "stdout",
     "output_type": "stream",
     "text": [
      "\n",
      "Resultados:\n",
      "Tempo médio:   0.002055 segundos\n",
      "Tempo máximo:  0.004583 segundos\n",
      "Tempo mínimo:  0.001730 segundos\n",
      "Tempo total:   0.061648 segundos\n",
      "Desvio padrão: 0.000518 segundos\n"
     ]
    }
   ],
   "source": [
    "print_results(execution_times_melhor_medio)"
   ]
  },
  {
   "cell_type": "markdown",
   "id": "a70d30b1",
   "metadata": {},
   "source": [
    "### Medio caso"
   ]
  },
  {
   "cell_type": "code",
   "execution_count": 42,
   "id": "b7f49d67",
   "metadata": {},
   "outputs": [
    {
     "name": "stdout",
     "output_type": "stream",
     "text": [
      "tempo da 1º execução: 0.005341 segundos\n",
      "tempo da 2º execução: 0.003496 segundos\n",
      "tempo da 3º execução: 0.003601 segundos\n",
      "tempo da 4º execução: 0.003182 segundos\n",
      "tempo da 5º execução: 0.003580 segundos\n",
      "tempo da 6º execução: 0.004257 segundos\n",
      "tempo da 7º execução: 0.003494 segundos\n",
      "tempo da 8º execução: 0.003294 segundos\n",
      "tempo da 9º execução: 0.003254 segundos\n",
      "tempo da 10º execução: 0.003308 segundos\n",
      "tempo da 11º execução: 0.003002 segundos\n",
      "tempo da 12º execução: 0.003066 segundos\n",
      "tempo da 13º execução: 0.003746 segundos\n",
      "tempo da 14º execução: 0.003635 segundos\n",
      "tempo da 15º execução: 0.003195 segundos\n",
      "tempo da 16º execução: 0.003182 segundos\n",
      "tempo da 17º execução: 0.003118 segundos\n",
      "tempo da 18º execução: 0.003380 segundos\n",
      "tempo da 19º execução: 0.003610 segundos\n",
      "tempo da 20º execução: 0.003221 segundos\n",
      "tempo da 21º execução: 0.003380 segundos\n",
      "tempo da 22º execução: 0.003455 segundos\n",
      "tempo da 23º execução: 0.003258 segundos\n",
      "tempo da 24º execução: 0.003433 segundos\n",
      "tempo da 25º execução: 0.003919 segundos\n",
      "tempo da 26º execução: 0.003386 segundos\n",
      "tempo da 27º execução: 0.003367 segundos\n",
      "tempo da 28º execução: 0.003969 segundos\n",
      "tempo da 29º execução: 0.003366 segundos\n",
      "tempo da 30º execução: 0.003353 segundos\n"
     ]
    }
   ],
   "source": [
    "execution_times_medio_medio = []\n",
    "for i in range(1, 31):\n",
    "    start_time = time.time()\n",
    "    distancias, predecessores = dijkstra(medio_medio, 1)\n",
    "    # Mostrar resultados:\n",
    "    for destino in medio_medio.nodes:\n",
    "        caminho = str(get_path(predecessores, destino))\n",
    "        # print(f\"distancia da origem até {destino}: {distancias[destino]}\")\n",
    "    duration = time.time() - start_time\n",
    "    print(f\"tempo da {i}º execução: {duration:.6f} segundos\")\n",
    "    execution_times_medio_medio.append(duration)\n"
   ]
  },
  {
   "cell_type": "code",
   "execution_count": 43,
   "id": "144e9f9d",
   "metadata": {},
   "outputs": [
    {
     "name": "stdout",
     "output_type": "stream",
     "text": [
      "\n",
      "Resultados:\n",
      "Tempo médio:   0.003495 segundos\n",
      "Tempo máximo:  0.005341 segundos\n",
      "Tempo mínimo:  0.003002 segundos\n",
      "Tempo total:   0.104848 segundos\n",
      "Desvio padrão: 0.000437 segundos\n"
     ]
    }
   ],
   "source": [
    "print_results(execution_times_medio_medio)"
   ]
  },
  {
   "cell_type": "markdown",
   "id": "2f1629be",
   "metadata": {},
   "source": [
    "### Pior caso"
   ]
  },
  {
   "cell_type": "code",
   "execution_count": 44,
   "id": "8473fedb",
   "metadata": {},
   "outputs": [
    {
     "name": "stdout",
     "output_type": "stream",
     "text": [
      "tempo da 1º execução: 0.358797 segundos\n",
      "tempo da 2º execução: 0.387310 segundos\n",
      "tempo da 3º execução: 0.383892 segundos\n",
      "tempo da 4º execução: 0.368885 segundos\n",
      "tempo da 5º execução: 0.368125 segundos\n",
      "tempo da 6º execução: 0.374305 segundos\n",
      "tempo da 7º execução: 0.373079 segundos\n",
      "tempo da 8º execução: 0.383680 segundos\n",
      "tempo da 9º execução: 0.394352 segundos\n",
      "tempo da 10º execução: 0.392190 segundos\n",
      "tempo da 11º execução: 0.375278 segundos\n",
      "tempo da 12º execução: 0.382481 segundos\n",
      "tempo da 13º execução: 0.378036 segundos\n",
      "tempo da 14º execução: 0.369506 segundos\n",
      "tempo da 15º execução: 0.379289 segundos\n",
      "tempo da 16º execução: 0.374968 segundos\n",
      "tempo da 17º execução: 0.354949 segundos\n",
      "tempo da 18º execução: 0.373176 segundos\n",
      "tempo da 19º execução: 0.374677 segundos\n",
      "tempo da 20º execução: 0.403761 segundos\n",
      "tempo da 21º execução: 0.403402 segundos\n",
      "tempo da 22º execução: 0.372653 segundos\n",
      "tempo da 23º execução: 0.391336 segundos\n",
      "tempo da 24º execução: 0.406399 segundos\n",
      "tempo da 25º execução: 0.434551 segundos\n",
      "tempo da 26º execução: 0.385062 segundos\n",
      "tempo da 27º execução: 0.378306 segundos\n",
      "tempo da 28º execução: 0.385256 segundos\n",
      "tempo da 29º execução: 0.374877 segundos\n",
      "tempo da 30º execução: 0.409716 segundos\n"
     ]
    }
   ],
   "source": [
    "execution_times_pior_medio = []\n",
    "for i in range(1, 31):\n",
    "    start_time = time.time()\n",
    "    distancias, predecessores = dijkstra(pior_medio, 1)\n",
    "    # Mostrar resultados:\n",
    "    for destino in pior_medio.nodes:\n",
    "        caminho = str(get_path(predecessores, destino))\n",
    "        # print(f\"distancia da origem até {destino}: {distancias[destino]}\")\n",
    "    duration = time.time() - start_time\n",
    "    print(f\"tempo da {i}º execução: {duration:.6f} segundos\")\n",
    "    execution_times_pior_medio.append(duration)\n"
   ]
  },
  {
   "cell_type": "code",
   "execution_count": 45,
   "id": "86cdbd7a",
   "metadata": {},
   "outputs": [
    {
     "name": "stdout",
     "output_type": "stream",
     "text": [
      "\n",
      "Resultados:\n",
      "Tempo médio:   0.383076 segundos\n",
      "Tempo máximo:  0.434551 segundos\n",
      "Tempo mínimo:  0.354949 segundos\n",
      "Tempo total:   11.492292 segundos\n",
      "Desvio padrão: 0.016074 segundos\n"
     ]
    }
   ],
   "source": [
    "print_results(execution_times_pior_medio)"
   ]
  },
  {
   "cell_type": "markdown",
   "id": "4a54e482",
   "metadata": {},
   "source": [
    "## Grande"
   ]
  },
  {
   "cell_type": "markdown",
   "id": "5c758477",
   "metadata": {},
   "source": [
    "### Melhor caso"
   ]
  },
  {
   "cell_type": "code",
   "execution_count": 46,
   "id": "86fefdd4",
   "metadata": {},
   "outputs": [
    {
     "name": "stdout",
     "output_type": "stream",
     "text": [
      "tempo da 1º execução: 0.015546 segundos\n",
      "tempo da 2º execução: 0.011581 segundos\n",
      "tempo da 3º execução: 0.010836 segundos\n",
      "tempo da 4º execução: 0.012152 segundos\n",
      "tempo da 5º execução: 0.012371 segundos\n",
      "tempo da 6º execução: 0.012717 segundos\n",
      "tempo da 7º execução: 0.010230 segundos\n",
      "tempo da 8º execução: 0.011626 segundos\n",
      "tempo da 9º execução: 0.010341 segundos\n",
      "tempo da 10º execução: 0.011236 segundos\n",
      "tempo da 11º execução: 0.012382 segundos\n",
      "tempo da 12º execução: 0.009945 segundos\n",
      "tempo da 13º execução: 0.009770 segundos\n",
      "tempo da 14º execução: 0.009845 segundos\n",
      "tempo da 15º execução: 0.011469 segundos\n",
      "tempo da 16º execução: 0.009958 segundos\n",
      "tempo da 17º execução: 0.009588 segundos\n",
      "tempo da 18º execução: 0.013224 segundos\n",
      "tempo da 19º execução: 0.013653 segundos\n",
      "tempo da 20º execução: 0.009583 segundos\n",
      "tempo da 21º execução: 0.011230 segundos\n",
      "tempo da 22º execução: 0.010242 segundos\n",
      "tempo da 23º execução: 0.010175 segundos\n",
      "tempo da 24º execução: 0.010655 segundos\n",
      "tempo da 25º execução: 0.009965 segundos\n",
      "tempo da 26º execução: 0.009717 segundos\n",
      "tempo da 27º execução: 0.010442 segundos\n",
      "tempo da 28º execução: 0.012110 segundos\n",
      "tempo da 29º execução: 0.011780 segundos\n",
      "tempo da 30º execução: 0.010082 segundos\n"
     ]
    }
   ],
   "source": [
    "execution_times_melhor_grande = []\n",
    "for i in range(1, 31):\n",
    "    start_time = time.time()\n",
    "    distancias, predecessores = dijkstra(melhor_grande, 1)\n",
    "    # Mostrar resultados:\n",
    "    for destino in melhor_grande.nodes:\n",
    "        caminho = str(get_path(predecessores, destino))\n",
    "        # print(f\"distancia da origem até {destino}: {distancias[destino]}\")\n",
    "    duration = time.time() - start_time\n",
    "    print(f\"tempo da {i}º execução: {duration:.6f} segundos\")\n",
    "    execution_times_melhor_grande.append(duration)\n"
   ]
  },
  {
   "cell_type": "code",
   "execution_count": 47,
   "id": "fcf62d31",
   "metadata": {},
   "outputs": [
    {
     "name": "stdout",
     "output_type": "stream",
     "text": [
      "\n",
      "Resultados:\n",
      "Tempo médio:   0.011148 segundos\n",
      "Tempo máximo:  0.015546 segundos\n",
      "Tempo mínimo:  0.009583 segundos\n",
      "Tempo total:   0.334450 segundos\n",
      "Desvio padrão: 0.001394 segundos\n"
     ]
    }
   ],
   "source": [
    "print_results(execution_times_melhor_grande)"
   ]
  },
  {
   "cell_type": "markdown",
   "id": "0554924b",
   "metadata": {},
   "source": [
    "### Medio caso"
   ]
  },
  {
   "cell_type": "code",
   "execution_count": 48,
   "id": "0c122df2",
   "metadata": {},
   "outputs": [
    {
     "name": "stdout",
     "output_type": "stream",
     "text": [
      "tempo da 1º execução: 0.022872 segundos\n",
      "tempo da 2º execução: 0.018920 segundos\n",
      "tempo da 3º execução: 0.029886 segundos\n",
      "tempo da 4º execução: 0.018779 segundos\n",
      "tempo da 5º execução: 0.025890 segundos\n",
      "tempo da 6º execução: 0.037153 segundos\n",
      "tempo da 7º execução: 0.033889 segundos\n",
      "tempo da 8º execução: 0.020989 segundos\n",
      "tempo da 9º execução: 0.020361 segundos\n",
      "tempo da 10º execução: 0.021766 segundos\n",
      "tempo da 11º execução: 0.022703 segundos\n",
      "tempo da 12º execução: 0.021408 segundos\n",
      "tempo da 13º execução: 0.021331 segundos\n",
      "tempo da 14º execução: 0.018091 segundos\n",
      "tempo da 15º execução: 0.021081 segundos\n",
      "tempo da 16º execução: 0.020179 segundos\n",
      "tempo da 17º execução: 0.019730 segundos\n",
      "tempo da 18º execução: 0.020176 segundos\n",
      "tempo da 19º execução: 0.019845 segundos\n",
      "tempo da 20º execução: 0.019994 segundos\n",
      "tempo da 21º execução: 0.020365 segundos\n",
      "tempo da 22º execução: 0.019884 segundos\n",
      "tempo da 23º execução: 0.020663 segundos\n",
      "tempo da 24º execução: 0.020000 segundos\n",
      "tempo da 25º execução: 0.021245 segundos\n",
      "tempo da 26º execução: 0.029548 segundos\n",
      "tempo da 27º execução: 0.024128 segundos\n",
      "tempo da 28º execução: 0.025287 segundos\n",
      "tempo da 29º execução: 0.019700 segundos\n",
      "tempo da 30º execução: 0.020545 segundos\n"
     ]
    }
   ],
   "source": [
    "execution_times_medio_grande = []\n",
    "for i in range(1, 31):\n",
    "    start_time = time.time()\n",
    "    distancias, predecessores = dijkstra(medio_grande, 1)\n",
    "    # Mostrar resultados:\n",
    "    for destino in medio_grande.nodes:\n",
    "        caminho = str(get_path(predecessores, destino))\n",
    "        # print(f\"distancia da origem até {destino}: {distancias[destino]}\")\n",
    "    duration = time.time() - start_time\n",
    "    print(f\"tempo da {i}º execução: {duration:.6f} segundos\")\n",
    "    execution_times_medio_grande.append(duration)\n"
   ]
  },
  {
   "cell_type": "code",
   "execution_count": 49,
   "id": "03af95be",
   "metadata": {},
   "outputs": [
    {
     "name": "stdout",
     "output_type": "stream",
     "text": [
      "\n",
      "Resultados:\n",
      "Tempo médio:   0.022547 segundos\n",
      "Tempo máximo:  0.037153 segundos\n",
      "Tempo mínimo:  0.018091 segundos\n",
      "Tempo total:   0.676411 segundos\n",
      "Desvio padrão: 0.004453 segundos\n"
     ]
    }
   ],
   "source": [
    "print_results(execution_times_medio_grande)"
   ]
  },
  {
   "cell_type": "markdown",
   "id": "1b489a81",
   "metadata": {},
   "source": [
    "### Pior Caso "
   ]
  },
  {
   "cell_type": "code",
   "execution_count": 50,
   "id": "45d2b445",
   "metadata": {},
   "outputs": [
    {
     "name": "stdout",
     "output_type": "stream",
     "text": [
      "tempo da 1º execução: 11.148797 segundos\n",
      "tempo da 2º execução: 11.474743 segundos\n",
      "tempo da 3º execução: 12.206627 segundos\n",
      "tempo da 4º execução: 11.616378 segundos\n",
      "tempo da 5º execução: 11.702007 segundos\n",
      "tempo da 6º execução: 11.537493 segundos\n",
      "tempo da 7º execução: 12.508460 segundos\n",
      "tempo da 8º execução: 11.974803 segundos\n",
      "tempo da 9º execução: 12.002332 segundos\n",
      "tempo da 10º execução: 12.405409 segundos\n",
      "tempo da 11º execução: 12.581559 segundos\n",
      "tempo da 12º execução: 12.951323 segundos\n",
      "tempo da 13º execução: 12.658456 segundos\n",
      "tempo da 14º execução: 12.548105 segundos\n",
      "tempo da 15º execução: 12.572786 segundos\n",
      "tempo da 16º execução: 11.012966 segundos\n",
      "tempo da 17º execução: 9.458311 segundos\n",
      "tempo da 18º execução: 12.244090 segundos\n",
      "tempo da 19º execução: 11.549634 segundos\n",
      "tempo da 20º execução: 11.339493 segundos\n",
      "tempo da 21º execução: 12.189284 segundos\n",
      "tempo da 22º execução: 11.335133 segundos\n",
      "tempo da 23º execução: 11.703286 segundos\n",
      "tempo da 24º execução: 12.910353 segundos\n",
      "tempo da 25º execução: 12.742783 segundos\n",
      "tempo da 26º execução: 11.025532 segundos\n",
      "tempo da 27º execução: 10.548137 segundos\n",
      "tempo da 28º execução: 10.374196 segundos\n",
      "tempo da 29º execução: 10.872401 segundos\n",
      "tempo da 30º execução: 11.605718 segundos\n"
     ]
    }
   ],
   "source": [
    "execution_times_pior_grande = []\n",
    "for i in range(1, 31):\n",
    "    start_time = time.time()\n",
    "    distancias, predecessores = dijkstra(pior_grande, 1)\n",
    "    # Mostrar resultados:\n",
    "    for destino in pior_grande.nodes:\n",
    "        caminho = str(get_path(predecessores, destino))\n",
    "        # print(f\"distancia da origem até {destino}: {distancias[destino]}\")\n",
    "    duration = time.time() - start_time\n",
    "    print(f\"tempo da {i}º execução: {duration:.6f} segundos\")\n",
    "    execution_times_pior_grande.append(duration)\n"
   ]
  },
  {
   "cell_type": "code",
   "execution_count": 52,
   "id": "db15077a",
   "metadata": {},
   "outputs": [
    {
     "name": "stdout",
     "output_type": "stream",
     "text": [
      "\n",
      "Resultados:\n",
      "Tempo médio:   11.760020 segundos\n",
      "Tempo máximo:  12.951323 segundos\n",
      "Tempo mínimo:  9.458311 segundos\n",
      "Tempo total:   352.800593 segundos\n",
      "Desvio padrão: 0.810376 segundos\n"
     ]
    }
   ],
   "source": [
    "print_results(execution_times_pior_grande)"
   ]
  },
  {
   "cell_type": "code",
   "execution_count": null,
   "id": "8154b56a",
   "metadata": {},
   "outputs": [
    {
     "name": "stdout",
     "output_type": "stream",
     "text": [
      "Arquivo Excel gerado: resultados_dijkstra.xlsx\n"
     ]
    },
    {
     "ename": "",
     "evalue": "",
     "output_type": "error",
     "traceback": [
      "\u001b[1;31mThe Kernel crashed while executing code in the current cell or a previous cell. \n",
      "\u001b[1;31mPlease review the code in the cell(s) to identify a possible cause of the failure. \n",
      "\u001b[1;31mClick <a href='https://aka.ms/vscodeJupyterKernelCrash'>here</a> for more info. \n",
      "\u001b[1;31mView Jupyter <a href='command:jupyter.viewOutput'>log</a> for further details."
     ]
    }
   ],
   "source": [
    "def calcular_estatisticas(execution_times):\n",
    "    media = sum(execution_times) / len(execution_times)\n",
    "    maximo = max(execution_times)\n",
    "    minimo = min(execution_times)\n",
    "    total = sum(execution_times)\n",
    "    desvio = (sum((x - media) ** 2 for x in execution_times) / len(execution_times)) ** 0.5\n",
    "    return media, maximo, minimo, total, desvio\n",
    "\n",
    "todos_resultados = []\n",
    "\n",
    "media, maximo, minimo, total, desvio = calcular_estatisticas(execution_times_melhor_pequeno)\n",
    "todos_resultados.append({'Tamanho': 'Pequeno', 'Caso': 'Melhor', 'Tempo médio': media, 'Tempo máximo': maximo, 'Tempo mínimo': minimo, 'Tempo total': total, 'Desvio padrão': desvio})\n",
    "media, maximo, minimo, total, desvio = calcular_estatisticas(execution_times_medio_pequeno)\n",
    "todos_resultados.append({'Tamanho': 'Pequeno', 'Caso': 'Médio', 'Tempo médio': media, 'Tempo máximo': maximo, 'Tempo mínimo': minimo, 'Tempo total': total, 'Desvio padrão': desvio})\n",
    "media, maximo, minimo, total, desvio = calcular_estatisticas(execution_times_pior_pequeno)\n",
    "todos_resultados.append({'Tamanho': 'Pequeno', 'Caso': 'Pior', 'Tempo médio': media, 'Tempo máximo': maximo, 'Tempo mínimo': minimo, 'Tempo total': total, 'Desvio padrão': desvio})\n",
    "\n",
    "media, maximo, minimo, total, desvio = calcular_estatisticas(execution_times_melhor_medio)\n",
    "todos_resultados.append({'Tamanho': 'Médio', 'Caso': 'Melhor', 'Tempo médio': media, 'Tempo máximo': maximo, 'Tempo mínimo': minimo, 'Tempo total': total, 'Desvio padrão': desvio})\n",
    "media, maximo, minimo, total, desvio = calcular_estatisticas(execution_times_medio_medio)\n",
    "todos_resultados.append({'Tamanho': 'Médio', 'Caso': 'Médio', 'Tempo médio': media, 'Tempo máximo': maximo, 'Tempo mínimo': minimo, 'Tempo total': total, 'Desvio padrão': desvio})\n",
    "media, maximo, minimo, total, desvio = calcular_estatisticas(execution_times_pior_medio)\n",
    "todos_resultados.append({'Tamanho': 'Médio', 'Caso': 'Pior', 'Tempo médio': media, 'Tempo máximo': maximo, 'Tempo mínimo': minimo, 'Tempo total': total, 'Desvio padrão': desvio})\n",
    "\n",
    "media, maximo, minimo, total, desvio = calcular_estatisticas(execution_times_melhor_grande)\n",
    "todos_resultados.append({'Tamanho': 'Grande', 'Caso': 'Melhor', 'Tempo médio': media, 'Tempo máximo': maximo, 'Tempo mínimo': minimo, 'Tempo total': total, 'Desvio padrão': desvio})\n",
    "media, maximo, minimo, total, desvio = calcular_estatisticas(execution_times_medio_grande)\n",
    "todos_resultados.append({'Tamanho': 'Grande', 'Caso': 'Médio', 'Tempo médio': media, 'Tempo máximo': maximo, 'Tempo mínimo': minimo, 'Tempo total': total, 'Desvio padrão': desvio})\n",
    "media, maximo, minimo, total, desvio = calcular_estatisticas(execution_times_pior_grande)\n",
    "todos_resultados.append({'Tamanho': 'Grande', 'Caso': 'Pior', 'Tempo médio': media, 'Tempo máximo': maximo, 'Tempo mínimo': minimo, 'Tempo total': total, 'Desvio padrão': desvio})\n",
    "\n",
    "df = pd.DataFrame(todos_resultados)\n",
    "df.to_excel('resultados_dijkstra_python.xlsx', index=False)\n",
    "print('Arquivo Excel gerado: resultados_dijkstra_python.xlsx')"
   ]
  }
 ],
 "metadata": {
  "kernelspec": {
   "display_name": "venv",
   "language": "python",
   "name": "python3"
  },
  "language_info": {
   "codemirror_mode": {
    "name": "ipython",
    "version": 3
   },
   "file_extension": ".py",
   "mimetype": "text/x-python",
   "name": "python",
   "nbconvert_exporter": "python",
   "pygments_lexer": "ipython3",
   "version": "3.12.3"
  }
 },
 "nbformat": 4,
 "nbformat_minor": 5
}
