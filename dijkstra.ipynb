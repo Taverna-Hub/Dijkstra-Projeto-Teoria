{
 "cells": [
  {
   "cell_type": "markdown",
   "id": "06325325",
   "metadata": {},
   "source": [
    "# Algoritimo: Dijkstra"
   ]
  },
  {
   "cell_type": "code",
   "execution_count": null,
   "id": "43ac8093",
   "metadata": {},
   "outputs": [],
   "source": [
    "%pip install matplotlib\n",
    "%pip install networkx"
   ]
  },
  {
   "cell_type": "code",
   "execution_count": null,
   "id": "55f43fb2",
   "metadata": {},
   "outputs": [],
   "source": [
    "from networkx.readwrite import json_graph\n",
    "import json\n",
    "import networkx as nx\n",
    "import matplotlib.pyplot as plt\n",
    "import random\n",
    "import heapq\n",
    "import time"
   ]
  },
  {
   "cell_type": "markdown",
   "id": "33c71179",
   "metadata": {},
   "source": [
    "## Algoritimo"
   ]
  },
  {
   "cell_type": "code",
   "execution_count": null,
   "id": "2e44d539",
   "metadata": {},
   "outputs": [],
   "source": [
    "\n",
    "def dijkstra(graph: nx.Graph, start: str):\n",
    "    distances = {node: float('inf') for node in graph.nodes}\n",
    "    distances[start] = 0\n",
    "    previous = {node: None for node in graph.nodes}\n",
    "    \n",
    "    heap = [(0, start)]\n",
    "\n",
    "    while heap:\n",
    "        current_distance, current_node = heapq.heappop(heap)\n",
    "\n",
    "        if current_distance > distances[current_node]:\n",
    "            continue\n",
    "\n",
    "        for neighbor in graph.neighbors(current_node):\n",
    "            weight = graph[current_node][neighbor].get('weight', 1)\n",
    "            distance = current_distance + weight\n",
    "            if distance < distances[neighbor]:\n",
    "                distances[neighbor] = distance\n",
    "                previous[neighbor] = current_node\n",
    "                heapq.heappush(heap, (distance, neighbor))\n",
    "\n",
    "    return distances, previous\n",
    "\n",
    "def get_path(previous, target):\n",
    "    path = []\n",
    "    while target is not None:\n",
    "        path.append(target)\n",
    "        target = previous[target]\n",
    "    return path[::-1]"
   ]
  },
  {
   "cell_type": "markdown",
   "id": "5810bd16",
   "metadata": {},
   "source": [
    "### funções auxiliares"
   ]
  },
  {
   "cell_type": "code",
   "execution_count": null,
   "id": "833c4448",
   "metadata": {},
   "outputs": [],
   "source": [
    "def json_to_graph(filename):\n",
    "    with open(filename, 'r') as f:\n",
    "        data = json.load(f)\n",
    "    # Para compatibilidade futura, defina edges=\"links\" explicitamente\n",
    "    G = json_graph.node_link_graph(data, edges=\"links\")\n",
    "    return G"
   ]
  },
  {
   "cell_type": "markdown",
   "id": "646bda0f",
   "metadata": {},
   "source": [
    "### Ler grafos"
   ]
  },
  {
   "cell_type": "code",
   "execution_count": null,
   "id": "c79ccaf8",
   "metadata": {},
   "outputs": [],
   "source": [
    "# leitura grafos\n",
    "# Leitura dos grafos gerados em Graphs\n",
    "melhor_pequeno = json_to_graph(\"Graphs/grafo_P_melhor.json\")\n",
    "medio_pequeno = json_to_graph(\"Graphs/grafo_P_medio.json\")\n",
    "pior_pequeno = json_to_graph(\"Graphs/grafo_P_pior.json\")\n",
    "\n",
    "melhor_medio = json_to_graph(\"Graphs/grafo_M_melhor.json\")\n",
    "medio_medio = json_to_graph(\"Graphs/grafo_M_medio.json\")\n",
    "pior_medio = json_to_graph(\"Graphs/grafo_M_pior.json\")\n",
    "# melhor_grande = json_to_graph(\"Graphs/grafo_G_melhor.json\")\n",
    "# medio_grande = json_to_graph(\"Graphs/grafo_G_medio.json\")\n",
    "# pior_grande = json_to_graph(\"Graphs/grafo_G_pior.json\")\n",
    "\n",
    "# Exemplo: visualizar o grafo de melhor caso pequeno\n",
    "# pos = nx.spring_layout(melhor_pequeno)\n",
    "# nx.draw(melhor_pequeno, pos, with_labels=True, node_color='skyblue', edge_color='gray', node_size=1500, font_size=16)\n",
    "# plt.title(\"Grafo Exemplo - Melhor caso pequeno\")\n",
    "# plt.show()"
   ]
  },
  {
   "cell_type": "markdown",
   "id": "3ddb2b38",
   "metadata": {},
   "source": [
    "## Pequeno"
   ]
  },
  {
   "cell_type": "code",
   "execution_count": null,
   "id": "d0f5bc67",
   "metadata": {},
   "outputs": [],
   "source": [
    "\n",
    "execution_times = []\n",
    "for i in range(1, 31):\n",
    "    start_time = time.time()\n",
    "    distancias, predecessores = dijkstra(melhor_pequeno, 1)\n",
    "    # Mostrar resultados:\n",
    "    for destino in melhor_pequeno.nodes:\n",
    "        caminho = str(get_path(predecessores, destino))\n",
    "        # print(f\"distancia da origem até {destino}: {distancias[destino]}\")\n",
    "    duration = time.time() - start_time\n",
    "    print(f\"tempo da {i}º execução: {duration:.6f} segundos\")\n",
    "    execution_times.append(duration)\n"
   ]
  },
  {
   "cell_type": "code",
   "execution_count": null,
   "id": "1fea8d99",
   "metadata": {},
   "outputs": [],
   "source": [
    "# Resultados formatados\n",
    "print(\"\\nResultados:\")\n",
    "print(f\"Tempo médio:   {sum(execution_times) / len(execution_times):.6f} segundos\")\n",
    "print(f\"Tempo máximo:  {max(execution_times):.6f} segundos\")\n",
    "print(f\"Tempo mínimo:  {min(execution_times):.6f} segundos\")\n",
    "print(f\"Tempo total:   {sum(execution_times):.6f} segundos\")\n",
    "media = sum(execution_times) / len(execution_times)\n",
    "desvio = (sum((x - media) ** 2 for x in execution_times) / len(execution_times)) ** 0.5\n",
    "print(f\"Desvio padrão: {desvio:.6f} segundos\")"
   ]
  },
  {
   "cell_type": "markdown",
   "id": "c0445caf",
   "metadata": {},
   "source": [
    "## Medio"
   ]
  },
  {
   "cell_type": "code",
   "execution_count": null,
   "id": "8473fedb",
   "metadata": {},
   "outputs": [],
   "source": [
    "execution_times = []\n",
    "for i in range(1, 31):\n",
    "    start_time = time.time()\n",
    "    distancias, predecessores = dijkstra(Grafo_p, 1)\n",
    "    # Mostrar resultados:\n",
    "    for destino in Grafo_p.nodes:\n",
    "        caminho = str(get_path(predecessores, destino))\n",
    "        # print(f\"distancia da origem até {destino}: {distancias[destino]}\")\n",
    "    duration = time.time() - start_time\n",
    "    print(f\"tempo da {i}º execução: {duration:.6f} segundos\")\n",
    "    execution_times.append(duration)\n"
   ]
  },
  {
   "cell_type": "code",
   "execution_count": null,
   "id": "86cdbd7a",
   "metadata": {},
   "outputs": [],
   "source": [
    "print(\"\\nResultados:\")\n",
    "print(f\"tempo médio: {sum(execution_times) / len(execution_times):.6f} segundos\")\n",
    "print(f\"tempo máximo: {max(execution_times):.6f} segundos\")\n",
    "print(f\"tempo mínimo: {min(execution_times):.6f} segundos\")\n",
    "print(f\"tempo total: {sum(execution_times):.6f} segundos\")\n",
    "print(f\"desvio padrão: {sum((x - (sum(execution_times) / len(execution_times))) ** 2 for x in execution_times) / len(execution_times):.6f} segundos\")"
   ]
  },
  {
   "cell_type": "markdown",
   "id": "4a54e482",
   "metadata": {},
   "source": [
    "## Grande"
   ]
  },
  {
   "cell_type": "code",
   "execution_count": null,
   "id": "45d2b445",
   "metadata": {},
   "outputs": [],
   "source": [
    "execution_times = []\n",
    "for i in range(1, 31):\n",
    "    start_time = time.time()\n",
    "    distancias, predecessores = dijkstra(Grafo_g, 1)\n",
    "    # Mostrar resultados:\n",
    "    for destino in Grafo_g.nodes:\n",
    "        caminho = str(get_path(predecessores, destino))\n",
    "        # print(f\"distancia da origem até {destino}: {distancias[destino]}\")\n",
    "    duration = time.time() - start_time\n",
    "    print(f\"tempo da {i}º execução: {duration:.6f} segundos\")\n",
    "    execution_times.append(duration)\n"
   ]
  },
  {
   "cell_type": "code",
   "execution_count": null,
   "id": "db15077a",
   "metadata": {},
   "outputs": [],
   "source": [
    "print(\"\\nResultados:\")\n",
    "print(f\"tempo médio: {sum(execution_times) / len(execution_times):.6f} segundos\")\n",
    "print(f\"tempo máximo: {max(execution_times):.6f} segundos\")\n",
    "print(f\"tempo mínimo: {min(execution_times):.6f} segundos\")\n",
    "print(f\"tempo total: {sum(execution_times):.6f} segundos\")\n",
    "print(f\"desvio padrão: {sum((x - (sum(execution_times) / len(execution_times))) ** 2 for x in execution_times) / len(execution_times):.6f} segundos\")"
   ]
  }
 ],
 "metadata": {
  "kernelspec": {
   "display_name": "venv",
   "language": "python",
   "name": "python3"
  },
  "language_info": {
   "codemirror_mode": {
    "name": "ipython",
    "version": 3
   },
   "file_extension": ".py",
   "mimetype": "text/x-python",
   "name": "python",
   "nbconvert_exporter": "python",
   "pygments_lexer": "ipython3",
   "version": "3.10.12"
  }
 },
 "nbformat": 4,
 "nbformat_minor": 5
}
