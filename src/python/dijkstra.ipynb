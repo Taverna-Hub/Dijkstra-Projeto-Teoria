{
 "cells": [
  {
   "cell_type": "markdown",
   "id": "06325325",
   "metadata": {},
   "source": [
    "# Algoritimo: Dijkstra"
   ]
  },
  {
   "cell_type": "code",
   "execution_count": 28,
   "id": "43ac8093",
   "metadata": {},
   "outputs": [
    {
     "name": "stdout",
     "output_type": "stream",
     "text": [
      "Requirement already satisfied: matplotlib in ./.venv/lib/python3.12/site-packages (3.10.3)\n",
      "Requirement already satisfied: contourpy>=1.0.1 in ./.venv/lib/python3.12/site-packages (from matplotlib) (1.3.2)\n",
      "Requirement already satisfied: cycler>=0.10 in ./.venv/lib/python3.12/site-packages (from matplotlib) (0.12.1)\n",
      "Requirement already satisfied: fonttools>=4.22.0 in ./.venv/lib/python3.12/site-packages (from matplotlib) (4.58.1)\n",
      "Requirement already satisfied: kiwisolver>=1.3.1 in ./.venv/lib/python3.12/site-packages (from matplotlib) (1.4.8)\n",
      "Requirement already satisfied: numpy>=1.23 in ./.venv/lib/python3.12/site-packages (from matplotlib) (2.2.6)\n",
      "Requirement already satisfied: packaging>=20.0 in ./.venv/lib/python3.12/site-packages (from matplotlib) (25.0)\n",
      "Requirement already satisfied: pillow>=8 in ./.venv/lib/python3.12/site-packages (from matplotlib) (11.2.1)\n",
      "Requirement already satisfied: pyparsing>=2.3.1 in ./.venv/lib/python3.12/site-packages (from matplotlib) (3.2.3)\n",
      "Requirement already satisfied: python-dateutil>=2.7 in ./.venv/lib/python3.12/site-packages (from matplotlib) (2.9.0.post0)\n",
      "Requirement already satisfied: six>=1.5 in ./.venv/lib/python3.12/site-packages (from python-dateutil>=2.7->matplotlib) (1.17.0)\n",
      "Requirement already satisfied: six>=1.5 in ./.venv/lib/python3.12/site-packages (from python-dateutil>=2.7->matplotlib) (1.17.0)\n",
      "Note: you may need to restart the kernel to use updated packages.\n",
      "Note: you may need to restart the kernel to use updated packages.\n",
      "Requirement already satisfied: networkx in ./.venv/lib/python3.12/site-packages (3.5)\n",
      "Requirement already satisfied: networkx in ./.venv/lib/python3.12/site-packages (3.5)\n",
      "Note: you may need to restart the kernel to use updated packages.\n",
      "Note: you may need to restart the kernel to use updated packages.\n",
      "Requirement already satisfied: pandas in ./.venv/lib/python3.12/site-packages (2.2.3)\n",
      "Requirement already satisfied: openpyxl in ./.venv/lib/python3.12/site-packages (3.1.5)\n",
      "Requirement already satisfied: pandas in ./.venv/lib/python3.12/site-packages (2.2.3)\n",
      "Requirement already satisfied: openpyxl in ./.venv/lib/python3.12/site-packages (3.1.5)\n",
      "Requirement already satisfied: numpy>=1.26.0 in ./.venv/lib/python3.12/site-packages (from pandas) (2.2.6)\n",
      "Requirement already satisfied: python-dateutil>=2.8.2 in ./.venv/lib/python3.12/site-packages (from pandas) (2.9.0.post0)\n",
      "Requirement already satisfied: pytz>=2020.1 in ./.venv/lib/python3.12/site-packages (from pandas) (2025.2)\n",
      "Requirement already satisfied: tzdata>=2022.7 in ./.venv/lib/python3.12/site-packages (from pandas) (2025.2)\n",
      "Requirement already satisfied: et-xmlfile in ./.venv/lib/python3.12/site-packages (from openpyxl) (2.0.0)\n",
      "Requirement already satisfied: six>=1.5 in ./.venv/lib/python3.12/site-packages (from python-dateutil>=2.8.2->pandas) (1.17.0)\n",
      "Requirement already satisfied: numpy>=1.26.0 in ./.venv/lib/python3.12/site-packages (from pandas) (2.2.6)\n",
      "Requirement already satisfied: python-dateutil>=2.8.2 in ./.venv/lib/python3.12/site-packages (from pandas) (2.9.0.post0)\n",
      "Requirement already satisfied: pytz>=2020.1 in ./.venv/lib/python3.12/site-packages (from pandas) (2025.2)\n",
      "Requirement already satisfied: tzdata>=2022.7 in ./.venv/lib/python3.12/site-packages (from pandas) (2025.2)\n",
      "Requirement already satisfied: et-xmlfile in ./.venv/lib/python3.12/site-packages (from openpyxl) (2.0.0)\n",
      "Requirement already satisfied: six>=1.5 in ./.venv/lib/python3.12/site-packages (from python-dateutil>=2.8.2->pandas) (1.17.0)\n",
      "Note: you may need to restart the kernel to use updated packages.\n",
      "Note: you may need to restart the kernel to use updated packages.\n",
      "Collecting seaborn\n",
      "Collecting seaborn\n",
      "  Downloading seaborn-0.13.2-py3-none-any.whl.metadata (5.4 kB)\n",
      "  Downloading seaborn-0.13.2-py3-none-any.whl.metadata (5.4 kB)\n",
      "Requirement already satisfied: numpy!=1.24.0,>=1.20 in ./.venv/lib/python3.12/site-packages (from seaborn) (2.2.6)\n",
      "Requirement already satisfied: pandas>=1.2 in ./.venv/lib/python3.12/site-packages (from seaborn) (2.2.3)\n",
      "Requirement already satisfied: matplotlib!=3.6.1,>=3.4 in ./.venv/lib/python3.12/site-packages (from seaborn) (3.10.3)\n",
      "Requirement already satisfied: contourpy>=1.0.1 in ./.venv/lib/python3.12/site-packages (from matplotlib!=3.6.1,>=3.4->seaborn) (1.3.2)\n",
      "Requirement already satisfied: cycler>=0.10 in ./.venv/lib/python3.12/site-packages (from matplotlib!=3.6.1,>=3.4->seaborn) (0.12.1)\n",
      "Requirement already satisfied: fonttools>=4.22.0 in ./.venv/lib/python3.12/site-packages (from matplotlib!=3.6.1,>=3.4->seaborn) (4.58.1)\n",
      "Requirement already satisfied: kiwisolver>=1.3.1 in ./.venv/lib/python3.12/site-packages (from matplotlib!=3.6.1,>=3.4->seaborn) (1.4.8)\n",
      "Requirement already satisfied: packaging>=20.0 in ./.venv/lib/python3.12/site-packages (from matplotlib!=3.6.1,>=3.4->seaborn) (25.0)\n",
      "Requirement already satisfied: pillow>=8 in ./.venv/lib/python3.12/site-packages (from matplotlib!=3.6.1,>=3.4->seaborn) (11.2.1)\n",
      "Requirement already satisfied: pyparsing>=2.3.1 in ./.venv/lib/python3.12/site-packages (from matplotlib!=3.6.1,>=3.4->seaborn) (3.2.3)\n",
      "Requirement already satisfied: python-dateutil>=2.7 in ./.venv/lib/python3.12/site-packages (from matplotlib!=3.6.1,>=3.4->seaborn) (2.9.0.post0)\n",
      "Requirement already satisfied: numpy!=1.24.0,>=1.20 in ./.venv/lib/python3.12/site-packages (from seaborn) (2.2.6)\n",
      "Requirement already satisfied: pandas>=1.2 in ./.venv/lib/python3.12/site-packages (from seaborn) (2.2.3)\n",
      "Requirement already satisfied: matplotlib!=3.6.1,>=3.4 in ./.venv/lib/python3.12/site-packages (from seaborn) (3.10.3)\n",
      "Requirement already satisfied: contourpy>=1.0.1 in ./.venv/lib/python3.12/site-packages (from matplotlib!=3.6.1,>=3.4->seaborn) (1.3.2)\n",
      "Requirement already satisfied: cycler>=0.10 in ./.venv/lib/python3.12/site-packages (from matplotlib!=3.6.1,>=3.4->seaborn) (0.12.1)\n",
      "Requirement already satisfied: fonttools>=4.22.0 in ./.venv/lib/python3.12/site-packages (from matplotlib!=3.6.1,>=3.4->seaborn) (4.58.1)\n",
      "Requirement already satisfied: kiwisolver>=1.3.1 in ./.venv/lib/python3.12/site-packages (from matplotlib!=3.6.1,>=3.4->seaborn) (1.4.8)\n",
      "Requirement already satisfied: packaging>=20.0 in ./.venv/lib/python3.12/site-packages (from matplotlib!=3.6.1,>=3.4->seaborn) (25.0)\n",
      "Requirement already satisfied: pillow>=8 in ./.venv/lib/python3.12/site-packages (from matplotlib!=3.6.1,>=3.4->seaborn) (11.2.1)\n",
      "Requirement already satisfied: pyparsing>=2.3.1 in ./.venv/lib/python3.12/site-packages (from matplotlib!=3.6.1,>=3.4->seaborn) (3.2.3)\n",
      "Requirement already satisfied: python-dateutil>=2.7 in ./.venv/lib/python3.12/site-packages (from matplotlib!=3.6.1,>=3.4->seaborn) (2.9.0.post0)\n",
      "Requirement already satisfied: pytz>=2020.1 in ./.venv/lib/python3.12/site-packages (from pandas>=1.2->seaborn) (2025.2)\n",
      "Requirement already satisfied: tzdata>=2022.7 in ./.venv/lib/python3.12/site-packages (from pandas>=1.2->seaborn) (2025.2)\n",
      "Requirement already satisfied: pytz>=2020.1 in ./.venv/lib/python3.12/site-packages (from pandas>=1.2->seaborn) (2025.2)\n",
      "Requirement already satisfied: tzdata>=2022.7 in ./.venv/lib/python3.12/site-packages (from pandas>=1.2->seaborn) (2025.2)\n",
      "Requirement already satisfied: six>=1.5 in ./.venv/lib/python3.12/site-packages (from python-dateutil>=2.7->matplotlib!=3.6.1,>=3.4->seaborn) (1.17.0)\n",
      "Requirement already satisfied: six>=1.5 in ./.venv/lib/python3.12/site-packages (from python-dateutil>=2.7->matplotlib!=3.6.1,>=3.4->seaborn) (1.17.0)\n",
      "Downloading seaborn-0.13.2-py3-none-any.whl (294 kB)\n",
      "Downloading seaborn-0.13.2-py3-none-any.whl (294 kB)\n",
      "Installing collected packages: seaborn\n",
      "Installing collected packages: seaborn\n",
      "Successfully installed seaborn-0.13.2\n",
      "Successfully installed seaborn-0.13.2\n",
      "Note: you may need to restart the kernel to use updated packages.\n",
      "Note: you may need to restart the kernel to use updated packages.\n"
     ]
    }
   ],
   "source": [
    "%pip install matplotlib\n",
    "%pip install networkx\n",
    "%pip install pandas openpyxl\n",
    "%pip install seaborn"
   ]
  },
  {
   "cell_type": "code",
   "execution_count": 2,
   "id": "55f43fb2",
   "metadata": {},
   "outputs": [],
   "source": [
    "from networkx.readwrite import json_graph\n",
    "import json\n",
    "import networkx as nx\n",
    "import matplotlib.pyplot as plt\n",
    "import random\n",
    "import heapq\n",
    "import time\n",
    "import pandas as pd"
   ]
  },
  {
   "cell_type": "markdown",
   "id": "33c71179",
   "metadata": {},
   "source": [
    "## Algoritimo"
   ]
  },
  {
   "cell_type": "code",
   "execution_count": 3,
   "id": "2e44d539",
   "metadata": {},
   "outputs": [],
   "source": [
    "\n",
    "def dijkstra(graph: nx.Graph, start: str):\n",
    "    distances = {node: float('inf') for node in graph.nodes}\n",
    "    distances[start] = 0\n",
    "    previous = {node: None for node in graph.nodes}\n",
    "    \n",
    "    heap = [(0, start)]\n",
    "\n",
    "    while heap:\n",
    "        current_distance, current_node = heapq.heappop(heap)\n",
    "\n",
    "        if current_distance > distances[current_node]:\n",
    "            continue\n",
    "\n",
    "        for neighbor in graph.neighbors(current_node):\n",
    "            weight = graph[current_node][neighbor].get('weight', 1)\n",
    "            distance = current_distance + weight\n",
    "            if distance < distances[neighbor]:\n",
    "                distances[neighbor] = distance\n",
    "                previous[neighbor] = current_node\n",
    "                heapq.heappush(heap, (distance, neighbor))\n",
    "\n",
    "    return distances, previous\n",
    "\n",
    "def get_path(previous, target):\n",
    "    path = []\n",
    "    while target is not None:\n",
    "        path.append(target)\n",
    "        target = previous[target]\n",
    "    return path[::-1]"
   ]
  },
  {
   "cell_type": "markdown",
   "id": "5810bd16",
   "metadata": {},
   "source": [
    "### funções auxiliares"
   ]
  },
  {
   "cell_type": "code",
   "execution_count": 4,
   "id": "833c4448",
   "metadata": {},
   "outputs": [],
   "source": [
    "def json_to_graph(filename):\n",
    "    with open(filename, 'r') as f:\n",
    "        data = json.load(f)\n",
    "    # Para compatibilidade futura, defina edges=\"links\" explicitamente\n",
    "    G = json_graph.node_link_graph(data, edges=\"links\")\n",
    "    return G"
   ]
  },
  {
   "cell_type": "code",
   "execution_count": 5,
   "id": "2bed9b1c",
   "metadata": {},
   "outputs": [],
   "source": [
    "def print_results(execution_times):# Resultados formatados\n",
    "    print(\"\\nResultados:\")\n",
    "    print(f\"Tempo médio:   {sum(execution_times) / len(execution_times):.6f} segundos\")\n",
    "    print(f\"Tempo máximo:  {max(execution_times):.6f} segundos\")\n",
    "    print(f\"Tempo mínimo:  {min(execution_times):.6f} segundos\")\n",
    "    print(f\"Tempo total:   {sum(execution_times):.6f} segundos\")\n",
    "    media = sum(execution_times) / len(execution_times)\n",
    "    desvio = (sum((x - media) ** 2 for x in execution_times) / len(execution_times)) ** 0.5\n",
    "    print(f\"Desvio padrão: {desvio:.6f} segundos\")"
   ]
  },
  {
   "cell_type": "markdown",
   "id": "646bda0f",
   "metadata": {},
   "source": [
    "### Ler grafos"
   ]
  },
  {
   "cell_type": "code",
   "execution_count": null,
   "id": "c79ccaf8",
   "metadata": {},
   "outputs": [],
   "source": [
    "# leitura grafos\n",
    "# Leitura dos grafos gerados em ../graphs\n",
    "melhor_pequeno = json_to_graph(\"../graphs/grafo_P_melhor.json\")\n",
    "medio_pequeno = json_to_graph(\"../graphs/grafo_P_medio.json\")\n",
    "pior_pequeno = json_to_graph(\"../graphs/grafo_P_pior.json\")\n",
    "\n",
    "melhor_medio = json_to_graph(\"../graphs/grafo_M_melhor.json\")\n",
    "medio_medio = json_to_graph(\"../graphs/grafo_M_medio.json\")\n",
    "pior_medio = json_to_graph(\"../graphs/grafo_M_pior.json\")\n",
    "melhor_grande = json_to_graph(\"../graphs/grafo_G_melhor.json\")\n",
    "medio_grande = json_to_graph(\"../graphs/grafo_G_medio.json\")\n",
    "pior_grande = json_to_graph(\"../graphs/grafo_G_pior.json\")\n",
    "# @Pandor4b ou @Sophia-15 descomentem a linha e tentem rodar, minha VM crasha"
   ]
  },
  {
   "cell_type": "markdown",
   "id": "3ddb2b38",
   "metadata": {},
   "source": [
    "## Grafo Pequeno 500 nós"
   ]
  },
  {
   "cell_type": "markdown",
   "id": "cddf620b",
   "metadata": {},
   "source": [
    "### Melhor caso"
   ]
  },
  {
   "cell_type": "code",
   "execution_count": 9,
   "id": "d0f5bc67",
   "metadata": {},
   "outputs": [
    {
     "name": "stdout",
     "output_type": "stream",
     "text": [
      "tempo da 1º execução: 0.004108 segundos\n",
      "tempo da 2º execução: 0.003251 segundos\n",
      "tempo da 3º execução: 0.004929 segundos\n",
      "tempo da 4º execução: 0.003816 segundos\n",
      "tempo da 5º execução: 0.003289 segundos\n",
      "tempo da 6º execução: 0.003759 segundos\n",
      "tempo da 7º execução: 0.002843 segundos\n",
      "tempo da 8º execução: 0.003522 segundos\n",
      "tempo da 9º execução: 0.003433 segundos\n",
      "tempo da 10º execução: 0.003303 segundos\n",
      "tempo da 11º execução: 0.003061 segundos\n",
      "tempo da 12º execução: 0.003536 segundos\n",
      "tempo da 13º execução: 0.003200 segundos\n",
      "tempo da 14º execução: 0.002533 segundos\n",
      "tempo da 15º execução: 0.002230 segundos\n",
      "tempo da 16º execução: 0.001899 segundos\n",
      "tempo da 17º execução: 0.001978 segundos\n",
      "tempo da 18º execução: 0.001734 segundos\n",
      "tempo da 19º execução: 0.001729 segundos\n",
      "tempo da 20º execução: 0.001752 segundos\n",
      "tempo da 21º execução: 0.001717 segundos\n",
      "tempo da 22º execução: 0.001761 segundos\n",
      "tempo da 23º execução: 0.001782 segundos\n",
      "tempo da 24º execução: 0.002241 segundos\n",
      "tempo da 25º execução: 0.002048 segundos\n",
      "tempo da 26º execução: 0.002042 segundos\n",
      "tempo da 27º execução: 0.001789 segundos\n",
      "tempo da 28º execução: 0.001650 segundos\n",
      "tempo da 29º execução: 0.001628 segundos\n",
      "tempo da 30º execução: 0.001622 segundos\n"
     ]
    }
   ],
   "source": [
    "\n",
    "execution_times_melhor_pequeno = []\n",
    "for i in range(1, 31):\n",
    "    start_time = time.time()\n",
    "    distancias, predecessores = dijkstra(melhor_pequeno, 1)\n",
    "    # Mostrar resultados:\n",
    "    for destino in melhor_pequeno.nodes:\n",
    "        caminho = str(get_path(predecessores, destino))\n",
    "        # print(f\"distancia da origemA solução adotada para os cenários de pior caso foi a geração programática da estrutura do grafo, ou seja, diretamente no código C por meio de uma função dedicada. Essa alternativa provou-se eficaz, pois a natureza regular e previsível dos grafos completos (onde cada vértice segue um padrão de conexão uniforme com os demais, variando apenas o número total de vértices) permitiu a implementação dessa função para criar os grafos de pior caso de maneira mais eficiente, dispensando a demorada leitura de arquivos externos. até {destino}: {distancias[destino]}\")\n",
    "    duration = time.time() - start_time\n",
    "    print(f\"tempo da {i}º execução: {duration:.6f} segundos\")\n",
    "    execution_times_melhor_pequeno.append(duration)\n"
   ]
  },
  {
   "cell_type": "code",
   "execution_count": 10,
   "id": "1fea8d99",
   "metadata": {},
   "outputs": [
    {
     "name": "stdout",
     "output_type": "stream",
     "text": [
      "\n",
      "Resultados:\n",
      "Tempo médio:   0.002606 segundos\n",
      "Tempo máximo:  0.004929 segundos\n",
      "Tempo mínimo:  0.001622 segundos\n",
      "Tempo total:   0.078187 segundos\n",
      "Desvio padrão: 0.000905 segundos\n"
     ]
    }
   ],
   "source": [
    "print_results(execution_times_melhor_pequeno)"
   ]
  },
  {
   "cell_type": "markdown",
   "id": "9d313ee4",
   "metadata": {},
   "source": [
    "### medio caso\n"
   ]
  },
  {
   "cell_type": "code",
   "execution_count": 11,
   "id": "eaa9cf27",
   "metadata": {},
   "outputs": [
    {
     "name": "stdout",
     "output_type": "stream",
     "text": [
      "tempo da 1º execução: 0.005776 segundos\n",
      "tempo da 2º execução: 0.007058 segundos\n",
      "tempo da 3º execução: 0.005395 segundos\n",
      "tempo da 4º execução: 0.005087 segundos\n",
      "tempo da 5º execução: 0.004882 segundos\n",
      "tempo da 6º execução: 0.004845 segundos\n",
      "tempo da 7º execução: 0.006886 segundos\n",
      "tempo da 8º execução: 0.005493 segundos\n",
      "tempo da 9º execução: 0.004066 segundos\n",
      "tempo da 10º execução: 0.003606 segundos\n",
      "tempo da 11º execução: 0.002955 segundos\n",
      "tempo da 12º execução: 0.002837 segundos\n",
      "tempo da 13º execução: 0.003303 segundos\n",
      "tempo da 14º execução: 0.003882 segundos\n",
      "tempo da 15º execução: 0.003394 segundos\n",
      "tempo da 16º execução: 0.003036 segundos\n",
      "tempo da 17º execução: 0.002821 segundos\n",
      "tempo da 18º execução: 0.002231 segundos\n",
      "tempo da 19º execução: 0.002270 segundos\n",
      "tempo da 20º execução: 0.002155 segundos\n",
      "tempo da 21º execução: 0.001805 segundos\n",
      "tempo da 22º execução: 0.001820 segundos\n",
      "tempo da 23º execução: 0.001835 segundos\n",
      "tempo da 24º execução: 0.001827 segundos\n",
      "tempo da 25º execução: 0.001818 segundos\n",
      "tempo da 26º execução: 0.001795 segundos\n",
      "tempo da 27º execução: 0.001803 segundos\n",
      "tempo da 28º execução: 0.001796 segundos\n",
      "tempo da 29º execução: 0.001834 segundos\n",
      "tempo da 30º execução: 0.001812 segundos\n"
     ]
    }
   ],
   "source": [
    "\n",
    "execution_times_medio_pequeno = []\n",
    "for i in range(1, 31):\n",
    "    start_time = time.time()\n",
    "    distancias, predecessores = dijkstra(medio_pequeno, 1)\n",
    "    # Mostrar resultados:\n",
    "    for destino in medio_pequeno.nodes:\n",
    "        caminho = str(get_path(predecessores, destino))\n",
    "        # print(f\"distancia da origem até {destino}: {distancias[destino]}\")\n",
    "    duration = time.time() - start_time\n",
    "    print(f\"tempo da {i}º execução: {duration:.6f} segundos\")\n",
    "    execution_times_medio_pequeno.append(duration)\n"
   ]
  },
  {
   "cell_type": "code",
   "execution_count": 12,
   "id": "a9d037df",
   "metadata": {},
   "outputs": [
    {
     "name": "stdout",
     "output_type": "stream",
     "text": [
      "\n",
      "Resultados:\n",
      "Tempo médio:   0.003337 segundos\n",
      "Tempo máximo:  0.007058 segundos\n",
      "Tempo mínimo:  0.001795 segundos\n",
      "Tempo total:   0.100123 segundos\n",
      "Desvio padrão: 0.001608 segundos\n"
     ]
    }
   ],
   "source": [
    "print_results(execution_times_medio_pequeno)"
   ]
  },
  {
   "cell_type": "markdown",
   "id": "f77c9cc1",
   "metadata": {},
   "source": [
    "### Pior caso"
   ]
  },
  {
   "cell_type": "code",
   "execution_count": 13,
   "id": "9a15b812",
   "metadata": {},
   "outputs": [
    {
     "name": "stdout",
     "output_type": "stream",
     "text": [
      "tempo da 1º execução: 0.149165 segundos\n",
      "tempo da 2º execução: 0.103982 segundos\n",
      "tempo da 3º execução: 0.107967 segundos\n",
      "tempo da 4º execução: 0.105433 segundos\n",
      "tempo da 5º execução: 0.105526 segundos\n",
      "tempo da 6º execução: 0.110957 segundos\n",
      "tempo da 7º execução: 0.108237 segundos\n",
      "tempo da 8º execução: 0.105818 segundos\n",
      "tempo da 9º execução: 0.107952 segundos\n",
      "tempo da 10º execução: 0.123924 segundos\n",
      "tempo da 11º execução: 0.108799 segundos\n",
      "tempo da 12º execução: 0.108748 segundos\n",
      "tempo da 13º execução: 0.114215 segundos\n",
      "tempo da 14º execução: 0.108533 segundos\n",
      "tempo da 15º execução: 0.107831 segundos\n",
      "tempo da 16º execução: 0.106707 segundos\n",
      "tempo da 17º execução: 0.111379 segundos\n",
      "tempo da 18º execução: 0.108068 segundos\n",
      "tempo da 19º execução: 0.121979 segundos\n",
      "tempo da 20º execução: 0.137334 segundos\n",
      "tempo da 21º execução: 0.103680 segundos\n",
      "tempo da 22º execução: 0.106830 segundos\n",
      "tempo da 23º execução: 0.106992 segundos\n",
      "tempo da 24º execução: 0.109860 segundos\n",
      "tempo da 25º execução: 0.112770 segundos\n",
      "tempo da 26º execução: 0.109737 segundos\n",
      "tempo da 27º execução: 0.110671 segundos\n",
      "tempo da 28º execução: 0.107031 segundos\n",
      "tempo da 29º execução: 0.118129 segundos\n",
      "tempo da 30º execução: 0.106814 segundos\n"
     ]
    }
   ],
   "source": [
    "\n",
    "execution_times_pior_pequeno = []\n",
    "for i in range(1, 31):\n",
    "    start_time = time.time()\n",
    "    distancias, predecessores = dijkstra(pior_pequeno, 1)\n",
    "    # Mostrar resultados:\n",
    "    for destino in pior_pequeno.nodes:\n",
    "        caminho = str(get_path(predecessores, destino))\n",
    "        # print(f\"distancia da origem até {destino}: {distancias[destino]}\")\n",
    "    duration = time.time() - start_time\n",
    "    print(f\"tempo da {i}º execução: {duration:.6f} segundos\")\n",
    "    execution_times_pior_pequeno.append(duration)\n"
   ]
  },
  {
   "cell_type": "code",
   "execution_count": 14,
   "id": "6b02ab98",
   "metadata": {},
   "outputs": [
    {
     "name": "stdout",
     "output_type": "stream",
     "text": [
      "\n",
      "Resultados:\n",
      "Tempo médio:   0.111836 segundos\n",
      "Tempo máximo:  0.149165 segundos\n",
      "Tempo mínimo:  0.103680 segundos\n",
      "Tempo total:   3.355067 segundos\n",
      "Desvio padrão: 0.009697 segundos\n"
     ]
    }
   ],
   "source": [
    "print_results(execution_times_pior_pequeno)"
   ]
  },
  {
   "cell_type": "markdown",
   "id": "c0445caf",
   "metadata": {},
   "source": [
    "## Grafo Medio 1000 nós"
   ]
  },
  {
   "cell_type": "markdown",
   "id": "ee118fd7",
   "metadata": {},
   "source": [
    "### Melhor caso"
   ]
  },
  {
   "cell_type": "code",
   "execution_count": 15,
   "id": "3f05e957",
   "metadata": {},
   "outputs": [
    {
     "name": "stdout",
     "output_type": "stream",
     "text": [
      "tempo da 1º execução: 0.008082 segundos\n",
      "tempo da 2º execução: 0.008285 segundos\n",
      "tempo da 3º execução: 0.007120 segundos\n",
      "tempo da 4º execução: 0.008022 segundos\n",
      "tempo da 5º execução: 0.005498 segundos\n",
      "tempo da 6º execução: 0.006221 segundos\n",
      "tempo da 7º execução: 0.005570 segundos\n",
      "tempo da 8º execução: 0.003952 segundos\n",
      "tempo da 9º execução: 0.004124 segundos\n",
      "tempo da 10º execução: 0.003540 segundos\n",
      "tempo da 11º execução: 0.003379 segundos\n",
      "tempo da 12º execução: 0.002782 segundos\n",
      "tempo da 13º execução: 0.002912 segundos\n",
      "tempo da 14º execução: 0.002456 segundos\n",
      "tempo da 15º execução: 0.002263 segundos\n",
      "tempo da 16º execução: 0.002254 segundos\n",
      "tempo da 17º execução: 0.002257 segundos\n",
      "tempo da 18º execução: 0.002275 segundos\n",
      "tempo da 19º execução: 0.002246 segundos\n",
      "tempo da 20º execução: 0.002460 segundos\n",
      "tempo da 21º execução: 0.002312 segundos\n",
      "tempo da 22º execução: 0.002246 segundos\n",
      "tempo da 23º execução: 0.002246 segundos\n",
      "tempo da 24º execução: 0.002245 segundos\n",
      "tempo da 25º execução: 0.002247 segundos\n",
      "tempo da 26º execução: 0.002234 segundos\n",
      "tempo da 27º execução: 0.002270 segundos\n",
      "tempo da 28º execução: 0.002248 segundos\n",
      "tempo da 29º execução: 0.002249 segundos\n",
      "tempo da 30º execução: 0.002259 segundos\n"
     ]
    }
   ],
   "source": [
    "execution_times_melhor_medio = []\n",
    "for i in range(1, 31):\n",
    "    start_time = time.time()\n",
    "    distancias, predecessores = dijkstra(melhor_medio, 1)\n",
    "    # Mostrar resultados:\n",
    "    for destino in melhor_medio.nodes:\n",
    "        caminho = str(get_path(predecessores, destino))\n",
    "        # print(f\"distancia da origem até {destino}: {distancias[destino]}\")\n",
    "    duration = time.time() - start_time\n",
    "    print(f\"tempo da {i}º execução: {duration:.6f} segundos\")\n",
    "    execution_times_melhor_medio.append(duration)\n"
   ]
  },
  {
   "cell_type": "code",
   "execution_count": 16,
   "id": "d1699299",
   "metadata": {},
   "outputs": [
    {
     "name": "stdout",
     "output_type": "stream",
     "text": [
      "\n",
      "Resultados:\n",
      "Tempo médio:   0.003608 segundos\n",
      "Tempo máximo:  0.008285 segundos\n",
      "Tempo mínimo:  0.002234 segundos\n",
      "Tempo total:   0.108251 segundos\n",
      "Desvio padrão: 0.001997 segundos\n"
     ]
    }
   ],
   "source": [
    "print_results(execution_times_melhor_medio)"
   ]
  },
  {
   "cell_type": "markdown",
   "id": "a70d30b1",
   "metadata": {},
   "source": [
    "### Medio caso"
   ]
  },
  {
   "cell_type": "code",
   "execution_count": 17,
   "id": "b7f49d67",
   "metadata": {},
   "outputs": [
    {
     "name": "stdout",
     "output_type": "stream",
     "text": [
      "tempo da 1º execução: 0.011568 segundos\n",
      "tempo da 2º execução: 0.014214 segundos\n",
      "tempo da 3º execução: 0.010021 segundos\n",
      "tempo da 4º execução: 0.012476 segundos\n",
      "tempo da 5º execução: 0.011254 segundos\n",
      "tempo da 6º execução: 0.006803 segundos\n",
      "tempo da 7º execução: 0.005756 segundos\n",
      "tempo da 8º execução: 0.004589 segundos\n",
      "tempo da 9º execução: 0.005284 segundos\n",
      "tempo da 10º execução: 0.003970 segundos\n",
      "tempo da 11º execução: 0.004598 segundos\n",
      "tempo da 12º execução: 0.004070 segundos\n",
      "tempo da 13º execução: 0.003888 segundos\n",
      "tempo da 14º execução: 0.003889 segundos\n",
      "tempo da 15º execução: 0.003967 segundos\n",
      "tempo da 16º execução: 0.005195 segundos\n",
      "tempo da 17º execução: 0.004050 segundos\n",
      "tempo da 18º execução: 0.003868 segundos\n",
      "tempo da 19º execução: 0.003954 segundos\n",
      "tempo da 20º execução: 0.004151 segundos\n",
      "tempo da 21º execução: 0.003876 segundos\n",
      "tempo da 22º execução: 0.003865 segundos\n",
      "tempo da 23º execução: 0.004391 segundos\n",
      "tempo da 24º execução: 0.004191 segundos\n",
      "tempo da 25º execução: 0.004064 segundos\n",
      "tempo da 26º execução: 0.003905 segundos\n",
      "tempo da 27º execução: 0.003874 segundos\n",
      "tempo da 28º execução: 0.003875 segundos\n",
      "tempo da 29º execução: 0.003902 segundos\n",
      "tempo da 30º execução: 0.003883 segundos\n"
     ]
    }
   ],
   "source": [
    "execution_times_medio_medio = []\n",
    "for i in range(1, 31):\n",
    "    start_time = time.time()\n",
    "    distancias, predecessores = dijkstra(medio_medio, 1)\n",
    "    # Mostrar resultados:\n",
    "    for destino in medio_medio.nodes:\n",
    "        caminho = str(get_path(predecessores, destino))\n",
    "        # print(f\"distancia da origem até {destino}: {distancias[destino]}\")\n",
    "    duration = time.time() - start_time\n",
    "    print(f\"tempo da {i}º execução: {duration:.6f} segundos\")\n",
    "    execution_times_medio_medio.append(duration)\n"
   ]
  },
  {
   "cell_type": "code",
   "execution_count": 18,
   "id": "144e9f9d",
   "metadata": {},
   "outputs": [
    {
     "name": "stdout",
     "output_type": "stream",
     "text": [
      "\n",
      "Resultados:\n",
      "Tempo médio:   0.005580 segundos\n",
      "Tempo máximo:  0.014214 segundos\n",
      "Tempo mínimo:  0.003865 segundos\n",
      "Tempo total:   0.167391 segundos\n",
      "Desvio padrão: 0.002958 segundos\n"
     ]
    }
   ],
   "source": [
    "print_results(execution_times_medio_medio)"
   ]
  },
  {
   "cell_type": "markdown",
   "id": "2f1629be",
   "metadata": {},
   "source": [
    "### Pior caso"
   ]
  },
  {
   "cell_type": "code",
   "execution_count": 19,
   "id": "8473fedb",
   "metadata": {},
   "outputs": [
    {
     "name": "stdout",
     "output_type": "stream",
     "text": [
      "tempo da 1º execução: 0.490431 segundos\n",
      "tempo da 2º execução: 0.438071 segundos\n",
      "tempo da 3º execução: 0.428585 segundos\n",
      "tempo da 4º execução: 0.439123 segundos\n",
      "tempo da 5º execução: 0.411626 segundos\n",
      "tempo da 6º execução: 0.412090 segundos\n",
      "tempo da 7º execução: 0.411894 segundos\n",
      "tempo da 8º execução: 0.414628 segundos\n",
      "tempo da 9º execução: 0.414390 segundos\n",
      "tempo da 10º execução: 0.414702 segundos\n",
      "tempo da 11º execução: 0.412925 segundos\n",
      "tempo da 12º execução: 0.411430 segundos\n",
      "tempo da 13º execução: 0.416478 segundos\n",
      "tempo da 14º execução: 0.440067 segundos\n",
      "tempo da 15º execução: 0.431241 segundos\n",
      "tempo da 16º execução: 0.427577 segundos\n",
      "tempo da 17º execução: 0.424240 segundos\n",
      "tempo da 18º execução: 0.432906 segundos\n",
      "tempo da 19º execução: 0.415378 segundos\n",
      "tempo da 20º execução: 0.411283 segundos\n",
      "tempo da 21º execução: 0.427775 segundos\n",
      "tempo da 22º execução: 0.414554 segundos\n",
      "tempo da 23º execução: 0.409554 segundos\n",
      "tempo da 24º execução: 0.418307 segundos\n",
      "tempo da 25º execução: 0.436296 segundos\n",
      "tempo da 26º execução: 0.423051 segundos\n",
      "tempo da 27º execução: 0.421629 segundos\n",
      "tempo da 28º execução: 0.456568 segundos\n",
      "tempo da 29º execução: 0.433351 segundos\n",
      "tempo da 30º execução: 0.444393 segundos\n"
     ]
    }
   ],
   "source": [
    "execution_times_pior_medio = []\n",
    "for i in range(1, 31):\n",
    "    start_time = time.time()\n",
    "    distancias, predecessores = dijkstra(pior_medio, 1)\n",
    "    # Mostrar resultados:\n",
    "    for destino in pior_medio.nodes:\n",
    "        caminho = str(get_path(predecessores, destino))\n",
    "        # print(f\"distancia da origem até {destino}: {distancias[destino]}\")\n",
    "    duration = time.time() - start_time\n",
    "    print(f\"tempo da {i}º execução: {duration:.6f} segundos\")\n",
    "    execution_times_pior_medio.append(duration)\n"
   ]
  },
  {
   "cell_type": "code",
   "execution_count": 20,
   "id": "86cdbd7a",
   "metadata": {},
   "outputs": [
    {
     "name": "stdout",
     "output_type": "stream",
     "text": [
      "\n",
      "Resultados:\n",
      "Tempo médio:   0.426151 segundos\n",
      "Tempo máximo:  0.490431 segundos\n",
      "Tempo mínimo:  0.409554 segundos\n",
      "Tempo total:   12.784540 segundos\n",
      "Desvio padrão: 0.016805 segundos\n"
     ]
    }
   ],
   "source": [
    "print_results(execution_times_pior_medio)"
   ]
  },
  {
   "cell_type": "markdown",
   "id": "4a54e482",
   "metadata": {},
   "source": [
    "## Grande"
   ]
  },
  {
   "cell_type": "markdown",
   "id": "5c758477",
   "metadata": {},
   "source": [
    "### Melhor caso"
   ]
  },
  {
   "cell_type": "code",
   "execution_count": 21,
   "id": "86fefdd4",
   "metadata": {},
   "outputs": [
    {
     "name": "stdout",
     "output_type": "stream",
     "text": [
      "tempo da 1º execução: 0.040546 segundos\n",
      "tempo da 2º execução: 0.025660 segundos\n",
      "tempo da 3º execução: 0.014150 segundos\n",
      "tempo da 4º execução: 0.015054 segundos\n",
      "tempo da 5º execução: 0.019266 segundos\n",
      "tempo da 6º execução: 0.014158 segundos\n",
      "tempo da 7º execução: 0.016084 segundos\n",
      "tempo da 8º execução: 0.017768 segundos\n",
      "tempo da 9º execução: 0.015073 segundos\n",
      "tempo da 10º execução: 0.015879 segundos\n",
      "tempo da 11º execução: 0.015555 segundos\n",
      "tempo da 12º execução: 0.015153 segundos\n",
      "tempo da 13º execução: 0.014045 segundos\n",
      "tempo da 14º execução: 0.014808 segundos\n",
      "tempo da 15º execução: 0.013582 segundos\n",
      "tempo da 16º execução: 0.021969 segundos\n",
      "tempo da 17º execução: 0.013796 segundos\n",
      "tempo da 18º execução: 0.012990 segundos\n",
      "tempo da 19º execução: 0.014907 segundos\n",
      "tempo da 20º execução: 0.024435 segundos\n",
      "tempo da 21º execução: 0.024264 segundos\n",
      "tempo da 22º execução: 0.023165 segundos\n",
      "tempo da 23º execução: 0.019141 segundos\n",
      "tempo da 24º execução: 0.013053 segundos\n",
      "tempo da 25º execução: 0.012609 segundos\n",
      "tempo da 26º execução: 0.012968 segundos\n",
      "tempo da 27º execução: 0.013508 segundos\n",
      "tempo da 28º execução: 0.015651 segundos\n",
      "tempo da 29º execução: 0.013758 segundos\n",
      "tempo da 30º execução: 0.014371 segundos\n"
     ]
    }
   ],
   "source": [
    "execution_times_melhor_grande = []\n",
    "for i in range(1, 31):\n",
    "    start_time = time.time()\n",
    "    distancias, predecessores = dijkstra(melhor_grande, 1)\n",
    "    # Mostrar resultados:\n",
    "    for destino in melhor_grande.nodes:\n",
    "        caminho = str(get_path(predecessores, destino))\n",
    "        # print(f\"distancia da origem até {destino}: {distancias[destino]}\")\n",
    "    duration = time.time() - start_time\n",
    "    print(f\"tempo da {i}º execução: {duration:.6f} segundos\")\n",
    "    execution_times_melhor_grande.append(duration)\n"
   ]
  },
  {
   "cell_type": "code",
   "execution_count": 22,
   "id": "fcf62d31",
   "metadata": {},
   "outputs": [
    {
     "name": "stdout",
     "output_type": "stream",
     "text": [
      "\n",
      "Resultados:\n",
      "Tempo médio:   0.017246 segundos\n",
      "Tempo máximo:  0.040546 segundos\n",
      "Tempo mínimo:  0.012609 segundos\n",
      "Tempo total:   0.517366 segundos\n",
      "Desvio padrão: 0.005711 segundos\n"
     ]
    }
   ],
   "source": [
    "print_results(execution_times_melhor_grande)"
   ]
  },
  {
   "cell_type": "markdown",
   "id": "0554924b",
   "metadata": {},
   "source": [
    "### Medio caso"
   ]
  },
  {
   "cell_type": "code",
   "execution_count": 23,
   "id": "0c122df2",
   "metadata": {},
   "outputs": [
    {
     "name": "stdout",
     "output_type": "stream",
     "text": [
      "tempo da 1º execução: 0.057970 segundos\n",
      "tempo da 2º execução: 0.026612 segundos\n",
      "tempo da 3º execução: 0.023035 segundos\n",
      "tempo da 4º execução: 0.023112 segundos\n",
      "tempo da 5º execução: 0.022641 segundos\n",
      "tempo da 6º execução: 0.022834 segundos\n",
      "tempo da 7º execução: 0.023309 segundos\n",
      "tempo da 8º execução: 0.024273 segundos\n",
      "tempo da 9º execução: 0.024022 segundos\n",
      "tempo da 10º execução: 0.025044 segundos\n",
      "tempo da 11º execução: 0.025028 segundos\n",
      "tempo da 12º execução: 0.025013 segundos\n",
      "tempo da 13º execução: 0.022690 segundos\n",
      "tempo da 14º execução: 0.022750 segundos\n",
      "tempo da 15º execução: 0.022328 segundos\n",
      "tempo da 16º execução: 0.021710 segundos\n",
      "tempo da 17º execução: 0.023056 segundos\n",
      "tempo da 18º execução: 0.021663 segundos\n",
      "tempo da 19º execução: 0.022246 segundos\n",
      "tempo da 20º execução: 0.023296 segundos\n",
      "tempo da 21º execução: 0.024272 segundos\n",
      "tempo da 22º execução: 0.023917 segundos\n",
      "tempo da 23º execução: 0.024009 segundos\n",
      "tempo da 24º execução: 0.024650 segundos\n",
      "tempo da 25º execução: 0.023174 segundos\n",
      "tempo da 26º execução: 0.024141 segundos\n",
      "tempo da 27º execução: 0.024376 segundos\n",
      "tempo da 28º execução: 0.024622 segundos\n",
      "tempo da 29º execução: 0.023469 segundos\n",
      "tempo da 30º execução: 0.022575 segundos\n"
     ]
    }
   ],
   "source": [
    "execution_times_medio_grande = []\n",
    "for i in range(1, 31):\n",
    "    start_time = time.time()\n",
    "    distancias, predecessores = dijkstra(medio_grande, 1)\n",
    "    # Mostrar resultados:\n",
    "    for destino in medio_grande.nodes:\n",
    "        caminho = str(get_path(predecessores, destino))\n",
    "        # print(f\"distancia da origem até {destino}: {distancias[destino]}\")\n",
    "    duration = time.time() - start_time\n",
    "    print(f\"tempo da {i}º execução: {duration:.6f} segundos\")\n",
    "    execution_times_medio_grande.append(duration)\n"
   ]
  },
  {
   "cell_type": "code",
   "execution_count": 24,
   "id": "03af95be",
   "metadata": {},
   "outputs": [
    {
     "name": "stdout",
     "output_type": "stream",
     "text": [
      "\n",
      "Resultados:\n",
      "Tempo médio:   0.024728 segundos\n",
      "Tempo máximo:  0.057970 segundos\n",
      "Tempo mínimo:  0.021663 segundos\n",
      "Tempo total:   0.741834 segundos\n",
      "Desvio padrão: 0.006269 segundos\n"
     ]
    }
   ],
   "source": [
    "print_results(execution_times_medio_grande)"
   ]
  },
  {
   "cell_type": "markdown",
   "id": "1b489a81",
   "metadata": {},
   "source": [
    "### Pior Caso "
   ]
  },
  {
   "cell_type": "code",
   "execution_count": 25,
   "id": "45d2b445",
   "metadata": {},
   "outputs": [
    {
     "name": "stdout",
     "output_type": "stream",
     "text": [
      "tempo da 1º execução: 13.130077 segundos\n",
      "tempo da 2º execução: 11.702780 segundos\n",
      "tempo da 3º execução: 11.844949 segundos\n",
      "tempo da 4º execução: 11.798380 segundos\n",
      "tempo da 5º execução: 11.781436 segundos\n",
      "tempo da 6º execução: 11.796030 segundos\n",
      "tempo da 7º execução: 11.722775 segundos\n",
      "tempo da 8º execução: 11.789884 segundos\n",
      "tempo da 9º execução: 11.660248 segundos\n",
      "tempo da 10º execução: 11.651798 segundos\n",
      "tempo da 11º execução: 11.774448 segundos\n",
      "tempo da 12º execução: 11.770810 segundos\n",
      "tempo da 13º execução: 11.954575 segundos\n",
      "tempo da 14º execução: 11.612135 segundos\n",
      "tempo da 15º execução: 11.717983 segundos\n",
      "tempo da 16º execução: 11.768290 segundos\n",
      "tempo da 17º execução: 11.932018 segundos\n",
      "tempo da 18º execução: 11.787364 segundos\n",
      "tempo da 19º execução: 11.738930 segundos\n",
      "tempo da 20º execução: 11.812575 segundos\n",
      "tempo da 21º execução: 11.825181 segundos\n",
      "tempo da 22º execução: 11.692442 segundos\n",
      "tempo da 23º execução: 11.953632 segundos\n",
      "tempo da 24º execução: 11.736661 segundos\n",
      "tempo da 25º execução: 11.726576 segundos\n",
      "tempo da 26º execução: 11.705779 segundos\n",
      "tempo da 27º execução: 11.817082 segundos\n",
      "tempo da 28º execução: 12.107508 segundos\n",
      "tempo da 29º execução: 11.704720 segundos\n",
      "tempo da 30º execução: 11.700613 segundos\n"
     ]
    }
   ],
   "source": [
    "execution_times_pior_grande = []\n",
    "for i in range(1, 31):\n",
    "    start_time = time.time()\n",
    "    distancias, predecessores = dijkstra(pior_grande, 1)\n",
    "    # Mostrar resultados:\n",
    "    for destino in pior_grande.nodes:\n",
    "        caminho = str(get_path(predecessores, destino))\n",
    "        # print(f\"distancia da origem até {destino}: {distancias[destino]}\")\n",
    "    duration = time.time() - start_time\n",
    "    print(f\"tempo da {i}º execução: {duration:.6f} segundos\")\n",
    "    execution_times_pior_grande.append(duration)\n"
   ]
  },
  {
   "cell_type": "code",
   "execution_count": 26,
   "id": "db15077a",
   "metadata": {},
   "outputs": [
    {
     "name": "stdout",
     "output_type": "stream",
     "text": [
      "\n",
      "Resultados:\n",
      "Tempo médio:   11.823923 segundos\n",
      "Tempo máximo:  13.130077 segundos\n",
      "Tempo mínimo:  11.612135 segundos\n",
      "Tempo total:   354.717677 segundos\n",
      "Desvio padrão: 0.262623 segundos\n"
     ]
    }
   ],
   "source": [
    "print_results(execution_times_pior_grande)"
   ]
  },
  {
   "cell_type": "code",
   "execution_count": null,
   "id": "8154b56a",
   "metadata": {},
   "outputs": [
    {
     "name": "stdout",
     "output_type": "stream",
     "text": [
      "Arquivo CSV gerado: resultados_dijkstra_python.csv\n"
     ]
    }
   ],
   "source": [
    "def calcular_estatisticas(execution_times):\n",
    "    media = sum(execution_times) / len(execution_times)\n",
    "    maximo = max(execution_times)\n",
    "    minimo = min(execution_times)\n",
    "    total = sum(execution_times)\n",
    "    desvio = (sum((x - media) ** 2 for x in execution_times) / len(execution_times)) ** 0.5\n",
    "    return media, maximo, minimo, total, desvio\n",
    "\n",
    "todos_resultados = []\n",
    "\n",
    "media, maximo, minimo, total, desvio = calcular_estatisticas(execution_times_melhor_pequeno)\n",
    "todos_resultados.append({'Tamanho': 'Pequeno', 'Caso': 'Melhor', 'Tempo médio': media, 'Tempo máximo': maximo, 'Tempo mínimo': minimo, 'Tempo total': total, 'Desvio padrão': desvio})\n",
    "media, maximo, minimo, total, desvio = calcular_estatisticas(execution_times_medio_pequeno)\n",
    "todos_resultados.append({'Tamanho': 'Pequeno', 'Caso': 'Médio', 'Tempo médio': media, 'Tempo máximo': maximo, 'Tempo mínimo': minimo, 'Tempo total': total, 'Desvio padrão': desvio})\n",
    "media, maximo, minimo, total, desvio = calcular_estatisticas(execution_times_pior_pequeno)\n",
    "todos_resultados.append({'Tamanho': 'Pequeno', 'Caso': 'Pior', 'Tempo médio': media, 'Tempo máximo': maximo, 'Tempo mínimo': minimo, 'Tempo total': total, 'Desvio padrão': desvio})\n",
    "\n",
    "media, maximo, minimo, total, desvio = calcular_estatisticas(execution_times_melhor_medio)\n",
    "todos_resultados.append({'Tamanho': 'Médio', 'Caso': 'Melhor', 'Tempo médio': media, 'Tempo máximo': maximo, 'Tempo mínimo': minimo, 'Tempo total': total, 'Desvio padrão': desvio})\n",
    "media, maximo, minimo, total, desvio = calcular_estatisticas(execution_times_medio_medio)\n",
    "todos_resultados.append({'Tamanho': 'Médio', 'Caso': 'Médio', 'Tempo médio': media, 'Tempo máximo': maximo, 'Tempo mínimo': minimo, 'Tempo total': total, 'Desvio padrão': desvio})\n",
    "media, maximo, minimo, total, desvio = calcular_estatisticas(execution_times_pior_medio)\n",
    "todos_resultados.append({'Tamanho': 'Médio', 'Caso': 'Pior', 'Tempo médio': media, 'Tempo máximo': maximo, 'Tempo mínimo': minimo, 'Tempo total': total, 'Desvio padrão': desvio})\n",
    "\n",
    "media, maximo, minimo, total, desvio = calcular_estatisticas(execution_times_melhor_grande)\n",
    "todos_resultados.append({'Tamanho': 'Grande', 'Caso': 'Melhor', 'Tempo médio': media, 'Tempo máximo': maximo, 'Tempo mínimo': minimo, 'Tempo total': total, 'Desvio padrão': desvio})\n",
    "media, maximo, minimo, total, desvio = calcular_estatisticas(execution_times_medio_grande)\n",
    "todos_resultados.append({'Tamanho': 'Grande', 'Caso': 'Médio', 'Tempo médio': media, 'Tempo máximo': maximo, 'Tempo mínimo': minimo, 'Tempo total': total, 'Desvio padrão': desvio})\n",
    "media, maximo, minimo, total, desvio = calcular_estatisticas(execution_times_pior_grande)\n",
    "todos_resultados.append({'Tamanho': 'Grande', 'Caso': 'Pior', 'Tempo médio': media, 'Tempo máximo': maximo, 'Tempo mínimo': minimo, 'Tempo total': total, 'Desvio padrão': desvio})\n",
    "\n",
    "df = pd.DataFrame(todos_resultados)\n",
    "df.to_csv('../results/resultados_dijkstra_python.csv', index=False)\n",
    "print('Arquivo CSV gerado: resultados_dijkstra_python.csv')"
   ]
  },
  {
   "cell_type": "code",
   "execution_count": null,
   "id": "fb1ae5a0",
   "metadata": {},
   "outputs": [],
   "source": [
    "def salvar_tempos_individuais_csv_py(filename, tamanho, caso, tempos):\n",
    "    import os\n",
    "    linhas = []\n",
    "    if os.path.exists(filename):\n",
    "        with open(filename, \"r\") as f:\n",
    "            linhas = f.readlines()\n",
    "    header = \"Tamanho,Caso,Execucao,Tempo (s)\\n\"\n",
    "    novas_linhas = [header]\n",
    "    for linha in linhas:\n",
    "        if linha.strip() == \"\" or linha.startswith(\"Tamanho,Caso\"):\n",
    "            continue\n",
    "        t, c, *_ = linha.strip().split(\",\")\n",
    "        if not (t == tamanho and c == caso):\n",
    "            novas_linhas.append(linha)\n",
    "    for i, tempo in enumerate(tempos):\n",
    "        novas_linhas.append(f\"{tamanho},{caso},{i+1},{tempo:.8f}\\n\")\n",
    "    with open(filename, \"w\") as f:\n",
    "        f.writelines(novas_linhas)\n",
    "\n",
    "salvar_tempos_individuais_csv_py(\"../results/todas_execucoes_python.csv\", \"Pequeno\", \"Melhor\", execution_times_melhor_pequeno)\n",
    "salvar_tempos_individuais_csv_py(\"../results/todas_execucoes_python.csv\", \"Pequeno\", \"Médio\", execution_times_medio_pequeno)\n",
    "salvar_tempos_individuais_csv_py(\"../results/todas_execucoes_python.csv\", \"Pequeno\", \"Pior\", execution_times_pior_pequeno)\n",
    "salvar_tempos_individuais_csv_py(\"../results/todas_execucoes_python.csv\", \"Médio\", \"Melhor\", execution_times_melhor_medio)\n",
    "salvar_tempos_individuais_csv_py(\"../results/todas_execucoes_python.csv\", \"Médio\", \"Médio\", execution_times_medio_medio)\n",
    "salvar_tempos_individuais_csv_py(\"../results/todas_execucoes_python.csv\", \"Médio\", \"Pior\", execution_times_pior_medio)\n",
    "salvar_tempos_individuais_csv_py(\"../results/todas_execucoes_python.csv\", \"Grande\", \"Melhor\", execution_times_melhor_grande)\n",
    "salvar_tempos_individuais_csv_py(\"../results/todas_execucoes_python.csv\", \"Grande\", \"Médio\", execution_times_medio_grande)\n",
    "salvar_tempos_individuais_csv_py(\"../results/todas_execucoes_python.csv\", \"Grande\", \"Pior\", execution_times_pior_grande)"
   ]
  }
 ],
 "metadata": {
  "kernelspec": {
   "display_name": ".venv",
   "language": "python",
   "name": "python3"
  },
  "language_info": {
   "codemirror_mode": {
    "name": "ipython",
    "version": 3
   },
   "file_extension": ".py",
   "mimetype": "text/x-python",
   "name": "python",
   "nbconvert_exporter": "python",
   "pygments_lexer": "ipython3",
   "version": "3.12.3"
  }
 },
 "nbformat": 4,
 "nbformat_minor": 5
}
