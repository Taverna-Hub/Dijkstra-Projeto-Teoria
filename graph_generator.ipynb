{
 "cells": [
  {
   "cell_type": "code",
   "execution_count": null,
   "id": "61f9a6ba",
   "metadata": {},
   "outputs": [],
   "source": [
    "import networkx as nx\n",
    "import matplotlib.pyplot as plt\n",
    "import random\n",
    "import json\n",
    "from networkx.readwrite import json_graph"
   ]
  },
  {
   "cell_type": "markdown",
   "id": "3c4404fe",
   "metadata": {},
   "source": [
    "# Grafo melhor caso"
   ]
  },
  {
   "cell_type": "code",
   "execution_count": null,
   "id": "7b7b0c4c",
   "metadata": {},
   "outputs": [],
   "source": [
    "\n",
    "def generate_best_graph(nodes_quantity: int):\n",
    "    graph = nx.Graph()\n",
    "    graph.add_nodes_from(range(1, nodes_quantity + 1))\n",
    "    # Nó central é o 1, conecta a todos os outros\n",
    "    edges = [(1, i) for i in range(2, nodes_quantity + 1)]\n",
    "    graph.add_edges_from(edges)\n",
    "    return graph\n"
   ]
  },
  {
   "cell_type": "code",
   "execution_count": null,
   "id": "9b9d1640",
   "metadata": {},
   "outputs": [],
   "source": [
    "NODES_p = 10\n",
    "Grafo_p = generate_best_graph(NODES_p)\n",
    "\n",
    "if NODES_p <= 100:\n",
    "    pos = nx.spring_layout(Grafo_p)\n",
    "    nx.draw(Grafo_p, pos, with_labels=True, node_color='skyblue', edge_color='gray', node_size=1500, font_size=16)\n",
    "    plt.title(\"Grafo Exemplo\")\n",
    "    plt.show()"
   ]
  },
  {
   "cell_type": "markdown",
   "id": "8d1a5e6f",
   "metadata": {},
   "source": [
    "# Grafo medio caso"
   ]
  },
  {
   "cell_type": "code",
   "execution_count": null,
   "id": "2daa4ccc",
   "metadata": {},
   "outputs": [],
   "source": [
    "def create_graph(nodes_quantity : int):\n",
    "    graph = nx.Graph()\n",
    "    graph.add_nodes_from(range(1, nodes_quantity + 1))\n",
    "\n",
    "    edges = []\n",
    "    for i in range(1, nodes_quantity + 1):\n",
    "        predecessor = i - 1 if i > 1 else nodes_quantity\n",
    "        successor = i + 1 if i < nodes_quantity else 1\n",
    "\n",
    "        # Escolhe um nó aleatório diferente de i, predecessor e successor\n",
    "        while True:\n",
    "            random_node = random.randint(1, nodes_quantity)\n",
    "            if random_node not in {i, predecessor, successor}:\n",
    "                break\n",
    "\n",
    "        edges.append((i, predecessor))\n",
    "        edges.append((i, successor))\n",
    "        edges.append((i, random_node))\n",
    "\n",
    "    graph.add_edges_from(edges)\n",
    "    return graph"
   ]
  },
  {
   "cell_type": "code",
   "execution_count": null,
   "id": "5e337170",
   "metadata": {},
   "outputs": [],
   "source": [
    "NODES = 10\n",
    "Grafo_p = create_graph(NODES)\n",
    "\n",
    "if NODES <= 100:\n",
    "    pos = nx.spring_layout(Grafo_p)\n",
    "    nx.draw(Grafo_p, pos, with_labels=True, node_color='skyblue', edge_color='gray', node_size=1500, font_size=16)\n",
    "    plt.title(\"Grafo Exemplo\")\n",
    "    plt.show()"
   ]
  },
  {
   "cell_type": "markdown",
   "id": "ca3f42a1",
   "metadata": {},
   "source": [
    "# Grafo pior caso"
   ]
  },
  {
   "cell_type": "code",
   "execution_count": null,
   "id": "841a2a35",
   "metadata": {},
   "outputs": [],
   "source": [
    "def generate_worst_graph(nodes_quantity: int):\n",
    "    graph = nx.Graph()\n",
    "    graph.add_nodes_from(range(1, nodes_quantity + 1))\n",
    "    # Adiciona arestas entre todos os pares de nós\n",
    "    edges = [(i, j) for i in range(1, nodes_quantity + 1) for j in range(i + 1, nodes_quantity + 1)]\n",
    "    graph.add_edges_from(edges)\n",
    "    return graph\n"
   ]
  },
  {
   "cell_type": "code",
   "execution_count": null,
   "id": "482943d3",
   "metadata": {},
   "outputs": [],
   "source": [
    "NODES = 10\n",
    "Grafo_p = generate_worst_graph(NODES)\n",
    "\n",
    "if NODES <= 100:\n",
    "    pos = nx.spring_layout(Grafo_p)\n",
    "    nx.draw(Grafo_p, pos, with_labels=True, node_color='skyblue', edge_color='gray', node_size=1500, font_size=16)\n",
    "    plt.title(\"Grafo Exemplo\")\n",
    "    plt.show()"
   ]
  },
  {
   "cell_type": "markdown",
   "id": "78f08aca",
   "metadata": {},
   "source": [
    "# Salvar grafos em arquivo"
   ]
  },
  {
   "cell_type": "markdown",
   "id": "09a083f7",
   "metadata": {},
   "source": [
    "## Pequeno 1.000 nós"
   ]
  },
  {
   "cell_type": "code",
   "execution_count": null,
   "id": "ca4e04d9",
   "metadata": {},
   "outputs": [],
   "source": [
    "NODES = 1000\n",
    "best_graph = generate_best_graph(NODES)\n",
    "graph = create_graph(NODES)\n",
    "worst_graph = generate_worst_graph(NODES)"
   ]
  },
  {
   "cell_type": "code",
   "execution_count": null,
   "id": "f3be644c",
   "metadata": {},
   "outputs": [],
   "source": [
    "#save in file json\n",
    "data_best = json_graph.node_link_data(best_graph)\n",
    "data_medium = json_graph.node_link_data(graph)\n",
    "data_worst = json_graph.node_link_data(worst_graph)\n"
   ]
  },
  {
   "cell_type": "code",
   "execution_count": null,
   "id": "b1efdf93",
   "metadata": {},
   "outputs": [],
   "source": [
    "with open(\"Graphs/grafo_P_melhor.json\", \"w\") as f1:\n",
    "    json.dump(data_best, f1, indent=2)\n",
    "with open(\"Graphs/grafo_P_medio.json\", \"w\") as f2:\n",
    "    json.dump(data_medium, f2, indent=2)\n",
    "with open(\"Graphs/grafo_P_pior.json\", \"w\") as f3:\n",
    "    json.dump(data_worst, f3, indent=2)"
   ]
  },
  {
   "cell_type": "markdown",
   "id": "0177873d",
   "metadata": {},
   "source": [
    "## Médio 10.000 nós"
   ]
  },
  {
   "cell_type": "code",
   "execution_count": null,
   "id": "3d1d8789",
   "metadata": {},
   "outputs": [],
   "source": [
    "NODES = 10000\n",
    "best_graph = generate_best_graph(NODES)\n",
    "graph = create_graph(NODES)\n",
    "worst_graph = generate_worst_graph(NODES)"
   ]
  },
  {
   "cell_type": "code",
   "execution_count": null,
   "id": "3dda9075",
   "metadata": {},
   "outputs": [],
   "source": [
    "data_best = json_graph.node_link_data(best_graph)\n",
    "data_normal = json_graph.node_link_data(graph)\n",
    "data_worst = json_graph.node_link_data(worst_graph)"
   ]
  },
  {
   "cell_type": "code",
   "execution_count": null,
   "id": "094f2e6d",
   "metadata": {},
   "outputs": [],
   "source": [
    "with open(\"best_cases/grafo_M_melhor.json\", \"w\") as f1:\n",
    "    json.dump(data_best, f1, indent=2)\n",
    "with open(\"medium_cases/grafo_M_medio.json\", \"w\") as f2:\n",
    "    json.dump(data_medium, f2, indent=2)\n",
    "with open(\"worst_cases/grafo_M_pior.json\", \"w\") as f3:\n",
    "    json.dump(data_worst, f3, indent=2)"
   ]
  },
  {
   "cell_type": "markdown",
   "id": "364984f3",
   "metadata": {},
   "source": [
    "## Grande 100.000 nós"
   ]
  },
  {
   "cell_type": "code",
   "execution_count": null,
   "id": "4766436d",
   "metadata": {},
   "outputs": [],
   "source": [
    "NODES = 100000\n",
    "best_graph = generate_best_graph(NODES)\n",
    "graph = create_graph(NODES)\n",
    "worst_graph = generate_worst_graph(NODES)"
   ]
  },
  {
   "cell_type": "code",
   "execution_count": null,
   "id": "a564546d",
   "metadata": {},
   "outputs": [],
   "source": [
    "data_best = json_graph.node_link_data(best_graph)\n",
    "data_normal = json_graph.node_link_data(graph)\n",
    "data_worst = json_graph.node_link_data(worst_graph)"
   ]
  },
  {
   "cell_type": "code",
   "execution_count": null,
   "id": "3bfa0ac6",
   "metadata": {},
   "outputs": [],
   "source": [
    "with open(\"best_cases/grafo_G_melhor.json\", \"w\") as f1:\n",
    "    json.dump(data_best, f1, indent=2)\n",
    "with open(\"medium_cases/grafo_G_medio.json\", \"w\") as f2:\n",
    "    json.dump(data_medium, f2, indent=2)\n",
    "with open(\"worst_cases/grafo_G_pior.json\", \"w\") as f3:\n",
    "    json.dump(data_worst, f3, indent=2)"
   ]
  }
 ],
 "metadata": {
  "kernelspec": {
   "display_name": "venv",
   "language": "python",
   "name": "python3"
  },
  "language_info": {
   "codemirror_mode": {
    "name": "ipython",
    "version": 3
   },
   "file_extension": ".py",
   "mimetype": "text/x-python",
   "name": "python",
   "nbconvert_exporter": "python",
   "pygments_lexer": "ipython3",
   "version": "3.10.12"
  }
 },
 "nbformat": 4,
 "nbformat_minor": 5
}
